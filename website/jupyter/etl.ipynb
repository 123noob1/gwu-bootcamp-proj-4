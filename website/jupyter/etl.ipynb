{
 "cells": [
  {
   "cell_type": "markdown",
   "id": "4e4b3947",
   "metadata": {},
   "source": [
    "# Extract, Transform, Load (ETL)\n",
    "---\n",
    "* Source `https://www.eia.gov/opendata/browser/`\n",
    "* Main Route `Electricity`\n",
    "    * Sub Route 1 - `Electric Power Operations (Annual And Monthly)`    \n",
    "    * Sub Route 2 - `State Specific Data`\n",
    "        * Sub Sub Route - `Emissions From Energy Consumption At Conventional Power Plants and Combined-Heat-And-Power Plants`\n",
    "* Year range `2012` to `2022`\n",
    "---\n",
    "API Key can be obtained via signing up via `https://www.eia.gov/opendata/` then added to to the variable `api_key` located under the `config.py` file. Additionally, the API url path can be obtained after choosing the primary route and its subroutes which can then be copied and used here.\n",
    "\n",
    "More information regarding EIA's API documentation can be found at `https://www.eia.gov/opendata/documentation.php`.\n",
    "\n",
    "**Goal** - Combine the 2 different sub-routes for Electricity dating back from 2012 to 2022 to get a data report to help with the Machine Learning (ML) process to determine the most sustainable type of fuel category for electricity generation by:<br/>\n",
    "* Categorizing fuel types into the following bin:\n",
    "    * `Fossil fuels` - anthracite coal, bituminous coal, bituminous coal and syntehtic coal, 'coal, excluding waste coal', distillate fuel oil, fossil fuels, ignite coal, natural gas, natural gas & other gases, other gases, petroleum, petroleum coke, petroleum liquids, refined coal, residual fuel oil, subbituminous coal, lignite coal\n",
    "        * From Emission data - coal, natural gas, petroleum\n",
    "    * `Renewables` - biogenic municipal solid waste, biomass, conventional hydroelectric, estimated small scale solar photovoltaic, estimated total solar, estimated total solar photovoltaic, geothermal, hydro-electric pumped storage, landfill gas, municiapl landfill gas, offshore wind turbine, onshore wind turbine, renewable, renewable waste products, solar, solar photovoltaic, solar thermal, waste coal, waste oil and other oils, wind, wood and wood wastes, other renewables\n",
    "        * From Emission data - total\n",
    "    * `Others` - nuclear, other (sources not specified by EIA)\n",
    "\n",
    "* Categorizing the stateDescription into regional bin and rename it as region:\n",
    "    * `West Region` - 'Alaska', 'California', 'Colorado', 'Hawaii', 'Idaho', 'Montana', 'Nevada', 'Oregon', 'Utah', 'Washington', 'Wyoming'\n",
    "    * `Southwest Region` - 'Arizona', 'New Mexico', 'Oklahoma', 'Texas'\n",
    "    * `Midwest Region` - 'Illinois', 'Indiana', 'Iowa', 'Kansas', 'Michigan', 'Minnesota', 'Missouri', 'Nebraska', 'North Dakota', 'Ohio', 'South Dakota', 'Wisconsin'\n",
    "    * `Southeast Region` - 'Alabama', 'Arkansas', 'Florida', 'Georgia', 'Kentucky', 'Louisiana', 'Mississippi', 'North Carolina', 'South Carolina', 'Tennessee', 'Virginia', 'West Virginia'\n",
    "    * `Northeast Region` - All other states not included in the above regions\n",
    "\n",
    "*Note:* We will also not be including Puerto Rico in the data and focus mainly just on the 50 states.\n",
    "\n",
    "Binning information is based on sources from `https://www.eia.gov/tools/faqs/faq.php?id=427&t=3`, `https://www.eia.gov/electricity/data/browser/`, and `https://www.eia.gov/dnav/pet/TblDefs/pet_cons_821dst_tbldef2.asp`."
   ]
  },
  {
   "cell_type": "code",
   "execution_count": 1,
   "id": "d1dc6ec0",
   "metadata": {},
   "outputs": [],
   "source": [
    "# Import dependencies\n",
    "from config import api_key\n",
    "import json\n",
    "import requests\n",
    "import pandas as pd"
   ]
  },
  {
   "cell_type": "markdown",
   "id": "0376006e",
   "metadata": {},
   "source": [
    "### Functions"
   ]
  },
  {
   "cell_type": "code",
   "execution_count": 2,
   "id": "f50ead2d",
   "metadata": {},
   "outputs": [],
   "source": [
    "def request_to_df(url, api_key, years = []):\n",
    "    '''Function to request data from target API by looping through the years provided to return as a list before combining into one DataFrame'''\n",
    "    data = []\n",
    "    \n",
    "    for year in years:\n",
    "        api_path = url.replace('||KEY||', api_key).replace('||START||', year).replace('||END||', year)\n",
    "        \n",
    "        # Send the request\n",
    "        response = requests.get(api_path).json()\n",
    "        \n",
    "        # Verify the response and raise error if bad response returned otherwise pass it into a DataFrame before returning it\n",
    "        if (not 'warning' in response.keys()) and (not 'error' in response.keys()) :\n",
    "            data += response['response']['data']\n",
    "        else:\n",
    "            raise Exception('Bad request submitted or no response received from the source API, verify that the url and/or offset provided is correct')\n",
    "    \n",
    "    df = pd.DataFrame(data)\n",
    "    return df\n",
    "\n",
    "def category_bin(df, check_col, list_to_bin, bin_name, new_col = ''):\n",
    "    '''\n",
    "        Function to create a bin category for a DataFrame based on the provided list then replace existing value with a bin category.\n",
    "        If new_col is provided, a new column will be created for the binned category\n",
    "    '''\n",
    "    tmp_df = df.copy()\n",
    "    \n",
    "    for item in list_to_bin:\n",
    "        if new_col == '' or new_col.isspace():\n",
    "            tmp_df[check_col] = tmp_df[check_col].replace(item, bin_name)\n",
    "        else:\n",
    "            tmp_df.loc[tmp_df[check_col] == item, new_col] = bin_name\n",
    "    \n",
    "    return tmp_df\n",
    "\n",
    "def fix_nan(df, col, fill_value = 0, to_type = 'float'):\n",
    "    '''Function to fill the selected column's NaN value with the provided value and change it type'''\n",
    "    tmp_df = df.copy()\n",
    "    tmp_df[col] = tmp_df[col].fillna(fill_value)\n",
    "    tmp_df[col] = tmp_df[col].astype(to_type)\n",
    "    \n",
    "    return tmp_df"
   ]
  },
  {
   "cell_type": "markdown",
   "id": "79496e29",
   "metadata": {},
   "source": [
    "### Extract"
   ]
  },
  {
   "cell_type": "code",
   "execution_count": 3,
   "id": "73b31ad5",
   "metadata": {},
   "outputs": [],
   "source": [
    "# Set years for the API to go through\n",
    "epo_years = [str(year) + '-{:02d}'.format(month) for year in range(2008, 2023) for month in range(1, 13)]\n",
    "emission_years = [str(year) for year in range(2008, 2023)]\n",
    "\n",
    "# Set up the paths for retrieving the data into DataFrames with ||START|| and ||END|| for start and end parameter\n",
    "epo_url = 'https://api.eia.gov/v2/electricity/electric-power-operational-data/data/?api_key=||KEY||&frequency=monthly&data[0]=ash-content&data[1]=consumption-for-eg&data[2]=consumption-for-eg-btu&data[3]=consumption-uto&data[4]=consumption-uto-btu&data[5]=cost&data[6]=cost-per-btu&data[7]=generation&data[8]=heat-content&data[9]=receipts&data[10]=receipts-btu&data[11]=stocks&data[12]=sulfur-content&data[13]=total-consumption&data[14]=total-consumption-btu&start=||START||&end=||END||&sort[0][column]=period&sort[0][direction]=desc&offset=0&length=5000'\n",
    "emission_url = 'https://api.eia.gov/v2/electricity/state-electricity-profiles/emissions-by-state-by-fuel/data/?api_key=||KEY||&frequency=annual&data[0]=co2-rate-lbs-mwh&data[1]=co2-thousand-metric-tons&data[2]=nox-rate-lbs-mwh&data[3]=nox-short-tons&data[4]=so2-rate-lbs-mwh&data[5]=so2-short-tons&start=||START||&end=||END||&sort[0][column]=period&sort[0][direction]=desc&offset=0&length=5000'"
   ]
  },
  {
   "cell_type": "code",
   "execution_count": 5,
   "id": "ba262e85",
   "metadata": {},
   "outputs": [],
   "source": [
    "# Get the request and create the DataFrames\n",
    "epo_raw_df = request_to_df(epo_url, api_key, epo_years)\n",
    "emission_raw_df = request_to_df(emission_url, api_key, emission_years)\n",
    "\n",
    "# Or if already using csv file for extraction then (make sure to comment out the above)\n",
    "epo_raw_df = pd.read_csv('../static/data/epo_2012_2022_raw.csv')\n",
    "emission_raw_df = pd.read_csv('../static/data/emission_2012_2022_raw.csv')"
   ]
  },
  {
   "cell_type": "code",
   "execution_count": 6,
   "id": "3e873b91",
   "metadata": {},
   "outputs": [],
   "source": [
    "# Export out raw data to csv files\n",
    "epo_raw_df.to_csv('../static/data/epo_2012_2022_raw.csv', index = False)\n",
    "emission_raw_df.to_csv('../static/data/emission_2012_2022_raw.csv', index = False)"
   ]
  },
  {
   "cell_type": "code",
   "execution_count": 7,
   "id": "94068d38",
   "metadata": {
    "scrolled": true
   },
   "outputs": [
    {
     "data": {
      "text/plain": [
       "Index(['period', 'location', 'stateDescription', 'sectorid',\n",
       "       'sectorDescription', 'fueltypeid', 'fuelTypeDescription', 'ash-content',\n",
       "       'ash-content-units', 'consumption-for-eg', 'consumption-for-eg-units',\n",
       "       'consumption-for-eg-btu', 'consumption-for-eg-btu-units',\n",
       "       'consumption-uto', 'consumption-uto-units', 'consumption-uto-btu',\n",
       "       'consumption-uto-btu-units', 'cost', 'cost-units', 'cost-per-btu',\n",
       "       'cost-per-btu-units', 'generation', 'generation-units', 'heat-content',\n",
       "       'heat-content-units', 'receipts', 'receipts-units', 'receipts-btu',\n",
       "       'receipts-btu-units', 'stocks', 'stocks-units', 'sulfur-content',\n",
       "       'sulfur-content-units', 'total-consumption', 'total-consumption-units',\n",
       "       'total-consumption-btu', 'total-consumption-btu-units'],\n",
       "      dtype='object')"
      ]
     },
     "execution_count": 7,
     "metadata": {},
     "output_type": "execute_result"
    }
   ],
   "source": [
    "# Print out the keys for epo\n",
    "epo_raw_df.keys()"
   ]
  },
  {
   "cell_type": "code",
   "execution_count": 8,
   "id": "68485df9",
   "metadata": {},
   "outputs": [
    {
     "data": {
      "text/plain": [
       "period                          object\n",
       "location                        object\n",
       "stateDescription                object\n",
       "sectorid                        object\n",
       "sectorDescription               object\n",
       "fueltypeid                      object\n",
       "fuelTypeDescription             object\n",
       "ash-content                     object\n",
       "ash-content-units               object\n",
       "consumption-for-eg              object\n",
       "consumption-for-eg-units        object\n",
       "consumption-for-eg-btu          object\n",
       "consumption-for-eg-btu-units    object\n",
       "consumption-uto                 object\n",
       "consumption-uto-units           object\n",
       "consumption-uto-btu             object\n",
       "consumption-uto-btu-units       object\n",
       "cost                            object\n",
       "cost-units                      object\n",
       "cost-per-btu                    object\n",
       "cost-per-btu-units              object\n",
       "generation                      object\n",
       "generation-units                object\n",
       "heat-content                    object\n",
       "heat-content-units              object\n",
       "receipts                        object\n",
       "receipts-units                  object\n",
       "receipts-btu                    object\n",
       "receipts-btu-units              object\n",
       "stocks                          object\n",
       "stocks-units                    object\n",
       "sulfur-content                  object\n",
       "sulfur-content-units            object\n",
       "total-consumption               object\n",
       "total-consumption-units         object\n",
       "total-consumption-btu           object\n",
       "total-consumption-btu-units     object\n",
       "dtype: object"
      ]
     },
     "execution_count": 8,
     "metadata": {},
     "output_type": "execute_result"
    }
   ],
   "source": [
    "# Print out the types\n",
    "epo_raw_df.dtypes"
   ]
  },
  {
   "cell_type": "code",
   "execution_count": 9,
   "id": "8449cbf4",
   "metadata": {},
   "outputs": [
    {
     "data": {
      "text/plain": [
       "Index(['period', 'stateid', 'stateDescription', 'fuelid', 'fuelDescription',\n",
       "       'co2-rate-lbs-mwh', 'co2-thousand-metric-tons', 'nox-rate-lbs-mwh',\n",
       "       'nox-short-tons', 'so2-rate-lbs-mwh', 'so2-short-tons',\n",
       "       'co2-rate-lbs-mwh-units', 'co2-thousand-metric-tons-units',\n",
       "       'nox-rate-lbs-mwh-units', 'nox-short-tons-units',\n",
       "       'so2-rate-lbs-mwh-units', 'so2-short-tons-units'],\n",
       "      dtype='object')"
      ]
     },
     "execution_count": 9,
     "metadata": {},
     "output_type": "execute_result"
    }
   ],
   "source": [
    "# Print out the keys for emission\n",
    "emission_raw_df.keys()"
   ]
  },
  {
   "cell_type": "code",
   "execution_count": 10,
   "id": "bde6567e",
   "metadata": {},
   "outputs": [
    {
     "data": {
      "text/plain": [
       "period                            object\n",
       "stateid                           object\n",
       "stateDescription                  object\n",
       "fuelid                            object\n",
       "fuelDescription                   object\n",
       "co2-rate-lbs-mwh                  object\n",
       "co2-thousand-metric-tons          object\n",
       "nox-rate-lbs-mwh                  object\n",
       "nox-short-tons                    object\n",
       "so2-rate-lbs-mwh                  object\n",
       "so2-short-tons                    object\n",
       "co2-rate-lbs-mwh-units            object\n",
       "co2-thousand-metric-tons-units    object\n",
       "nox-rate-lbs-mwh-units            object\n",
       "nox-short-tons-units              object\n",
       "so2-rate-lbs-mwh-units            object\n",
       "so2-short-tons-units              object\n",
       "dtype: object"
      ]
     },
     "execution_count": 10,
     "metadata": {},
     "output_type": "execute_result"
    }
   ],
   "source": [
    "# Print out the types\n",
    "emission_raw_df.dtypes"
   ]
  },
  {
   "cell_type": "markdown",
   "id": "73abdd29",
   "metadata": {},
   "source": [
    "### Transform"
   ]
  },
  {
   "cell_type": "code",
   "execution_count": 61,
   "id": "f9013ab7",
   "metadata": {},
   "outputs": [],
   "source": [
    "# Create copies of the DataFrames\n",
    "epo_cleaned_df = epo_raw_df.copy()\n",
    "emission_cleaned_df = emission_raw_df.copy()"
   ]
  },
  {
   "cell_type": "markdown",
   "id": "ab87f2d0",
   "metadata": {},
   "source": [
    "---\n",
    "**epo_df**"
   ]
  },
  {
   "cell_type": "code",
   "execution_count": 62,
   "id": "216cb0cc",
   "metadata": {},
   "outputs": [
    {
     "name": "stdout",
     "output_type": "stream",
     "text": [
      "Index(['period', 'stateDescription', 'fuelTypeDescription', 'ash-content',\n",
      "       'consumption-for-eg', 'consumption-for-eg-btu', 'consumption-uto',\n",
      "       'consumption-uto-btu', 'cost', 'cost-per-btu', 'generation',\n",
      "       'heat-content', 'receipts', 'receipts-btu', 'stocks', 'sulfur-content',\n",
      "       'total-consumption', 'total-consumption-btu'],\n",
      "      dtype='object')\n"
     ]
    }
   ],
   "source": [
    "# Drop the not needed columns for our objective\n",
    "epo_cleaned_df = epo_cleaned_df.drop([\n",
    "    'location', 'sectorid', 'fueltypeid', 'sectorDescription', 'ash-content-units', 'consumption-for-eg-units',\n",
    "    'consumption-for-eg-btu-units', 'consumption-uto-units', 'consumption-uto-btu-units', 'cost-units', 'cost-per-btu-units',\n",
    "    'generation-units', 'heat-content-units', 'receipts-units', 'receipts-btu-units', 'stocks-units', 'sulfur-content-units',\n",
    "    'total-consumption-units', 'total-consumption-btu-units'\n",
    "], axis = 1)\n",
    "print(epo_cleaned_df.columns)"
   ]
  },
  {
   "cell_type": "code",
   "execution_count": 63,
   "id": "7edf1c10",
   "metadata": {},
   "outputs": [
    {
     "name": "stdout",
     "output_type": "stream",
     "text": [
      "epo fuelTypeDescription\n",
      "biomass                                     75729\n",
      "all fuels                                   42153\n",
      "fossil fuels                                40516\n",
      "natural gas & other gases                   38337\n",
      "renewable                                   38017\n",
      "natural gas                                 37957\n",
      "petroleum                                   36290\n",
      "petroleum liquids                           36220\n",
      "distillate fuel oil                         35446\n",
      "all renewables                              35187\n",
      "renewable waste products                    28506\n",
      "all coal products                           26782\n",
      "coal, excluding waste coal                  26699\n",
      "other                                       23207\n",
      "conventional hydroelectric                  23156\n",
      "bituminous coal                             22200\n",
      "bituminous coal and synthetic coal          22159\n",
      "municiapl landfill gas                      21377\n",
      "landfill gas                                20493\n",
      "other renewables                            19938\n",
      "onshore wind turbine                        19267\n",
      "wood and wood wastes                        19109\n",
      "residual fuel oil                           18754\n",
      "wind                                        18568\n",
      "solar photovoltaic                          18052\n",
      "solar                                       18026\n",
      "waste oil and other oils                    17661\n",
      "subbituminous coal                          17495\n",
      "estimated total solar                       11256\n",
      "estimated total solar photovoltaic          11231\n",
      "estimated small scale solar photovoltaic    11114\n",
      "biogenic municipal solid waste              10817\n",
      "other gases                                 10548\n",
      "nuclear                                     10480\n",
      "petroleum coke                              10408\n",
      "hydro-electric pumped storage                6831\n",
      "waste coal                                   5172\n",
      "lignite coal                                 3986\n",
      "refined coal                                 3925\n",
      "geothermal                                   3374\n",
      "solar thermal                                2684\n",
      "anthracite coal                               514\n",
      "offshore wind turbine                         359\n",
      "Name: count, dtype: int64\n"
     ]
    }
   ],
   "source": [
    "# Print out the value_counts() in fuelTypeDescription for epo_cleaned_df\n",
    "print('epo', epo_cleaned_df['fuelTypeDescription'].value_counts())"
   ]
  },
  {
   "cell_type": "code",
   "execution_count": 64,
   "id": "cd6dd5fe",
   "metadata": {},
   "outputs": [],
   "source": [
    "# Remove all rows where fuelTypeDescription for epo_cleaned_df is 'all coal products', 'all fuels', or 'all renewables'\n",
    "epo_cleaned_df = epo_cleaned_df[\n",
    "    ~epo_cleaned_df['fuelTypeDescription'].isin([\n",
    "        'all coal products', 'all fuels', 'all renewables'\n",
    "    ])\n",
    "]\n",
    "\n",
    "# Take only rows where stateDescription is in 'U.S. Total' since we are only interested in the national level then drop the\n",
    "# column afterward as we do not need it for our objective\n",
    "epo_cleaned_df = epo_cleaned_df[epo_cleaned_df['stateDescription'].isin(['U.S. Total'])].drop(columns = 'stateDescription')"
   ]
  },
  {
   "cell_type": "code",
   "execution_count": 65,
   "id": "3dd98e4d",
   "metadata": {},
   "outputs": [
    {
     "data": {
      "text/html": [
       "<div>\n",
       "<style scoped>\n",
       "    .dataframe tbody tr th:only-of-type {\n",
       "        vertical-align: middle;\n",
       "    }\n",
       "\n",
       "    .dataframe tbody tr th {\n",
       "        vertical-align: top;\n",
       "    }\n",
       "\n",
       "    .dataframe thead th {\n",
       "        text-align: right;\n",
       "    }\n",
       "</style>\n",
       "<table border=\"1\" class=\"dataframe\">\n",
       "  <thead>\n",
       "    <tr style=\"text-align: right;\">\n",
       "      <th></th>\n",
       "      <th>period</th>\n",
       "      <th>fuelTypeDescription</th>\n",
       "      <th>ash-content</th>\n",
       "      <th>consumption-for-eg</th>\n",
       "      <th>consumption-for-eg-btu</th>\n",
       "      <th>consumption-uto</th>\n",
       "      <th>consumption-uto-btu</th>\n",
       "      <th>cost</th>\n",
       "      <th>cost-per-btu</th>\n",
       "      <th>generation</th>\n",
       "      <th>heat-content</th>\n",
       "      <th>receipts</th>\n",
       "      <th>receipts-btu</th>\n",
       "      <th>stocks</th>\n",
       "      <th>sulfur-content</th>\n",
       "      <th>total-consumption</th>\n",
       "      <th>total-consumption-btu</th>\n",
       "    </tr>\n",
       "  </thead>\n",
       "  <tbody>\n",
       "    <tr>\n",
       "      <th>35</th>\n",
       "      <td>2008-01</td>\n",
       "      <td>biogenic municipal solid waste</td>\n",
       "      <td>None</td>\n",
       "      <td>38.861</td>\n",
       "      <td>.33181</td>\n",
       "      <td>0</td>\n",
       "      <td>0</td>\n",
       "      <td>0</td>\n",
       "      <td>None</td>\n",
       "      <td>16.22972</td>\n",
       "      <td>None</td>\n",
       "      <td>0</td>\n",
       "      <td>0</td>\n",
       "      <td>0</td>\n",
       "      <td>None</td>\n",
       "      <td>38.861</td>\n",
       "      <td>.33181</td>\n",
       "    </tr>\n",
       "    <tr>\n",
       "      <th>36</th>\n",
       "      <td>2008-01</td>\n",
       "      <td>natural gas</td>\n",
       "      <td>0</td>\n",
       "      <td>213193.626</td>\n",
       "      <td>218.25615</td>\n",
       "      <td>0</td>\n",
       "      <td>0</td>\n",
       "      <td>8.5</td>\n",
       "      <td>8.3075</td>\n",
       "      <td>25795.45248</td>\n",
       "      <td>1.0237</td>\n",
       "      <td>216900.522</td>\n",
       "      <td>221807.3309</td>\n",
       "      <td>0</td>\n",
       "      <td>0</td>\n",
       "      <td>213193.626</td>\n",
       "      <td>218.25615</td>\n",
       "    </tr>\n",
       "    <tr>\n",
       "      <th>40</th>\n",
       "      <td>2008-01</td>\n",
       "      <td>nuclear</td>\n",
       "      <td>None</td>\n",
       "      <td>0</td>\n",
       "      <td>400.12862</td>\n",
       "      <td>0</td>\n",
       "      <td>0</td>\n",
       "      <td>0</td>\n",
       "      <td>None</td>\n",
       "      <td>38151.089</td>\n",
       "      <td>None</td>\n",
       "      <td>None</td>\n",
       "      <td>None</td>\n",
       "      <td>None</td>\n",
       "      <td>None</td>\n",
       "      <td>0</td>\n",
       "      <td>400.12862</td>\n",
       "    </tr>\n",
       "    <tr>\n",
       "      <th>41</th>\n",
       "      <td>2008-01</td>\n",
       "      <td>biomass</td>\n",
       "      <td>None</td>\n",
       "      <td>312.321</td>\n",
       "      <td>.24026</td>\n",
       "      <td>0</td>\n",
       "      <td>0</td>\n",
       "      <td>0</td>\n",
       "      <td>None</td>\n",
       "      <td>19.57995</td>\n",
       "      <td>None</td>\n",
       "      <td>0</td>\n",
       "      <td>0</td>\n",
       "      <td>0</td>\n",
       "      <td>None</td>\n",
       "      <td>312.321</td>\n",
       "      <td>.24026</td>\n",
       "    </tr>\n",
       "    <tr>\n",
       "      <th>42</th>\n",
       "      <td>2008-01</td>\n",
       "      <td>other gases</td>\n",
       "      <td>0</td>\n",
       "      <td>152.24</td>\n",
       "      <td>.19821</td>\n",
       "      <td>0</td>\n",
       "      <td>0</td>\n",
       "      <td>11.52</td>\n",
       "      <td>19.2457</td>\n",
       "      <td>4.848</td>\n",
       "      <td>1.302</td>\n",
       "      <td>None</td>\n",
       "      <td>None</td>\n",
       "      <td>0</td>\n",
       "      <td>0</td>\n",
       "      <td>152.24</td>\n",
       "      <td>.19821</td>\n",
       "    </tr>\n",
       "  </tbody>\n",
       "</table>\n",
       "</div>"
      ],
      "text/plain": [
       "     period             fuelTypeDescription ash-content consumption-for-eg  \\\n",
       "35  2008-01  biogenic municipal solid waste        None             38.861   \n",
       "36  2008-01                     natural gas           0         213193.626   \n",
       "40  2008-01                         nuclear        None                  0   \n",
       "41  2008-01                         biomass        None            312.321   \n",
       "42  2008-01                     other gases           0             152.24   \n",
       "\n",
       "   consumption-for-eg-btu consumption-uto consumption-uto-btu   cost  \\\n",
       "35                 .33181               0                   0      0   \n",
       "36              218.25615               0                   0    8.5   \n",
       "40              400.12862               0                   0      0   \n",
       "41                 .24026               0                   0      0   \n",
       "42                 .19821               0                   0  11.52   \n",
       "\n",
       "   cost-per-btu   generation heat-content    receipts receipts-btu stocks  \\\n",
       "35         None     16.22972         None           0            0      0   \n",
       "36       8.3075  25795.45248       1.0237  216900.522  221807.3309      0   \n",
       "40         None    38151.089         None        None         None   None   \n",
       "41         None     19.57995         None           0            0      0   \n",
       "42      19.2457        4.848        1.302        None         None      0   \n",
       "\n",
       "   sulfur-content total-consumption total-consumption-btu  \n",
       "35           None            38.861                .33181  \n",
       "36              0        213193.626             218.25615  \n",
       "40           None                 0             400.12862  \n",
       "41           None           312.321                .24026  \n",
       "42              0            152.24                .19821  "
      ]
     },
     "execution_count": 65,
     "metadata": {},
     "output_type": "execute_result"
    }
   ],
   "source": [
    "epo_cleaned_df.head()"
   ]
  },
  {
   "cell_type": "code",
   "execution_count": 66,
   "id": "a5d6854a",
   "metadata": {},
   "outputs": [
    {
     "name": "stderr",
     "output_type": "stream",
     "text": [
      "C:\\Users\\khang\\AppData\\Local\\Temp\\ipykernel_51964\\2673199919.py:31: FutureWarning: Setting an item of incompatible dtype is deprecated and will raise in a future error of pandas. Value 'fossil fuels' has dtype incompatible with float64, please explicitly cast to a compatible dtype first.\n",
      "  tmp_df.loc[tmp_df[check_col] == item, new_col] = bin_name\n"
     ]
    }
   ],
   "source": [
    "# Create bins based on fuel type description into 'Fossil Fuels', 'Renewables', and 'Others' for epo_cleaned_df under\n",
    "# energySource\n",
    "epo_ff_source = [\n",
    "    'anthracite coal', 'bituminous coal', 'bituminous coal and synthetic coal', 'coal, excluding waste coal', \n",
    "    'distillate fuel oil', 'fossil fuels', 'ignite coal', 'natural gas', 'natural gas & other gases', 'other gases', \n",
    "    'petroleum', 'petroleum coke', 'petroleum liquids', 'refined coal', 'residual fuel oil', 'subbituminous coal', 'lignite coal'\n",
    "]\n",
    "\n",
    "epo_renew_source = [\n",
    "    'biogenic municipal solid waste', 'biomass', 'conventional hydroelectric', 'estimated small scale solar photovoltaic', \n",
    "    'estimated total solar', 'estimated total solar photovoltaic', 'geothermal', 'hydro-electric pumped storage', \n",
    "    'landfill gas', 'municiapl landfill gas', 'offshore wind turbine', 'onshore wind turbine', 'renewable', \n",
    "    'renewable waste products', 'solar', 'solar photovoltaic', 'solar thermal', 'waste coal', 'waste oil and other oils', \n",
    "    'wind', 'wood and wood wastes', 'other renewables'\n",
    "]\n",
    "\n",
    "epo_oth_source = [item for item in epo_cleaned_df['fuelTypeDescription'].value_counts().index if (item not in epo_ff_source and item not in epo_renew_source)]\n",
    "\n",
    "epo_cleaned_df = category_bin(epo_cleaned_df, 'fuelTypeDescription', epo_ff_source, 'fossil fuels', 'energySource')\n",
    "epo_cleaned_df = category_bin(epo_cleaned_df, 'fuelTypeDescription', epo_renew_source, 'renewables', 'energySource')\n",
    "epo_cleaned_df = category_bin(epo_cleaned_df, 'fuelTypeDescription', epo_oth_source, 'others', 'energySource')"
   ]
  },
  {
   "cell_type": "code",
   "execution_count": 67,
   "id": "56221787",
   "metadata": {},
   "outputs": [
    {
     "data": {
      "text/plain": [
       "energySource\n",
       "renewables      13741\n",
       "fossil fuels    10714\n",
       "others           1115\n",
       "Name: count, dtype: int64"
      ]
     },
     "execution_count": 67,
     "metadata": {},
     "output_type": "execute_result"
    }
   ],
   "source": [
    "# Check the value_counts() again to make sure binning was done correctly\n",
    "epo_cleaned_df['energySource'].value_counts()"
   ]
  },
  {
   "cell_type": "code",
   "execution_count": 68,
   "id": "4f5c0656",
   "metadata": {},
   "outputs": [],
   "source": [
    "# Fill in NaN columns as 0 then set these columns as float\n",
    "# 'ash-content', 'consumption-for-eg-btu', 'consumption-uto-btu', 'cost-per-btu', 'generation', 'heat-content',\n",
    "# 'receipts-btu', 'sulfur-content', 'total-consumption-btu'\n",
    "\n",
    "# Other units (in case needed more features): 'consumption-for-eg', 'consumption-uto', 'cost', 'receipts', 'total-consumption',\n",
    "# 'stocks'\n",
    "epo_cols = [\n",
    "    'ash-content', 'consumption-for-eg-btu', 'consumption-uto-btu', 'cost-per-btu', 'generation', 'heat-content',\n",
    "    'receipts-btu', 'sulfur-content', 'total-consumption-btu', 'consumption-for-eg', 'consumption-uto', 'cost', \n",
    "    'receipts', 'total-consumption', 'stocks'\n",
    "]\n",
    "\n",
    "for col in epo_cols:\n",
    "    epo_cleaned_df = fix_nan(epo_cleaned_df, epo_cols)"
   ]
  },
  {
   "cell_type": "code",
   "execution_count": 69,
   "id": "b2242973",
   "metadata": {},
   "outputs": [
    {
     "data": {
      "text/html": [
       "<div>\n",
       "<style scoped>\n",
       "    .dataframe tbody tr th:only-of-type {\n",
       "        vertical-align: middle;\n",
       "    }\n",
       "\n",
       "    .dataframe tbody tr th {\n",
       "        vertical-align: top;\n",
       "    }\n",
       "\n",
       "    .dataframe thead th {\n",
       "        text-align: right;\n",
       "    }\n",
       "</style>\n",
       "<table border=\"1\" class=\"dataframe\">\n",
       "  <thead>\n",
       "    <tr style=\"text-align: right;\">\n",
       "      <th></th>\n",
       "      <th>period</th>\n",
       "      <th>fuelTypeDescription</th>\n",
       "      <th>ash-content</th>\n",
       "      <th>consumption-for-eg</th>\n",
       "      <th>consumption-for-eg-btu</th>\n",
       "      <th>consumption-uto</th>\n",
       "      <th>consumption-uto-btu</th>\n",
       "      <th>cost</th>\n",
       "      <th>cost-per-btu</th>\n",
       "      <th>generation</th>\n",
       "      <th>heat-content</th>\n",
       "      <th>receipts</th>\n",
       "      <th>receipts-btu</th>\n",
       "      <th>stocks</th>\n",
       "      <th>sulfur-content</th>\n",
       "      <th>total-consumption</th>\n",
       "      <th>total-consumption-btu</th>\n",
       "      <th>energySource</th>\n",
       "    </tr>\n",
       "  </thead>\n",
       "  <tbody>\n",
       "    <tr>\n",
       "      <th>35</th>\n",
       "      <td>2008-01</td>\n",
       "      <td>biogenic municipal solid waste</td>\n",
       "      <td>0.0</td>\n",
       "      <td>38.861</td>\n",
       "      <td>0.33181</td>\n",
       "      <td>0.0</td>\n",
       "      <td>0.0</td>\n",
       "      <td>0.00</td>\n",
       "      <td>0.0000</td>\n",
       "      <td>16.22972</td>\n",
       "      <td>0.0000</td>\n",
       "      <td>0.000</td>\n",
       "      <td>0.0000</td>\n",
       "      <td>0.0</td>\n",
       "      <td>0.0</td>\n",
       "      <td>38.861</td>\n",
       "      <td>0.33181</td>\n",
       "      <td>renewables</td>\n",
       "    </tr>\n",
       "    <tr>\n",
       "      <th>36</th>\n",
       "      <td>2008-01</td>\n",
       "      <td>natural gas</td>\n",
       "      <td>0.0</td>\n",
       "      <td>213193.626</td>\n",
       "      <td>218.25615</td>\n",
       "      <td>0.0</td>\n",
       "      <td>0.0</td>\n",
       "      <td>8.50</td>\n",
       "      <td>8.3075</td>\n",
       "      <td>25795.45248</td>\n",
       "      <td>1.0237</td>\n",
       "      <td>216900.522</td>\n",
       "      <td>221807.3309</td>\n",
       "      <td>0.0</td>\n",
       "      <td>0.0</td>\n",
       "      <td>213193.626</td>\n",
       "      <td>218.25615</td>\n",
       "      <td>fossil fuels</td>\n",
       "    </tr>\n",
       "    <tr>\n",
       "      <th>40</th>\n",
       "      <td>2008-01</td>\n",
       "      <td>nuclear</td>\n",
       "      <td>0.0</td>\n",
       "      <td>0.000</td>\n",
       "      <td>400.12862</td>\n",
       "      <td>0.0</td>\n",
       "      <td>0.0</td>\n",
       "      <td>0.00</td>\n",
       "      <td>0.0000</td>\n",
       "      <td>38151.08900</td>\n",
       "      <td>0.0000</td>\n",
       "      <td>0.000</td>\n",
       "      <td>0.0000</td>\n",
       "      <td>0.0</td>\n",
       "      <td>0.0</td>\n",
       "      <td>0.000</td>\n",
       "      <td>400.12862</td>\n",
       "      <td>others</td>\n",
       "    </tr>\n",
       "    <tr>\n",
       "      <th>41</th>\n",
       "      <td>2008-01</td>\n",
       "      <td>biomass</td>\n",
       "      <td>0.0</td>\n",
       "      <td>312.321</td>\n",
       "      <td>0.24026</td>\n",
       "      <td>0.0</td>\n",
       "      <td>0.0</td>\n",
       "      <td>0.00</td>\n",
       "      <td>0.0000</td>\n",
       "      <td>19.57995</td>\n",
       "      <td>0.0000</td>\n",
       "      <td>0.000</td>\n",
       "      <td>0.0000</td>\n",
       "      <td>0.0</td>\n",
       "      <td>0.0</td>\n",
       "      <td>312.321</td>\n",
       "      <td>0.24026</td>\n",
       "      <td>renewables</td>\n",
       "    </tr>\n",
       "    <tr>\n",
       "      <th>42</th>\n",
       "      <td>2008-01</td>\n",
       "      <td>other gases</td>\n",
       "      <td>0.0</td>\n",
       "      <td>152.240</td>\n",
       "      <td>0.19821</td>\n",
       "      <td>0.0</td>\n",
       "      <td>0.0</td>\n",
       "      <td>11.52</td>\n",
       "      <td>19.2457</td>\n",
       "      <td>4.84800</td>\n",
       "      <td>1.3020</td>\n",
       "      <td>0.000</td>\n",
       "      <td>0.0000</td>\n",
       "      <td>0.0</td>\n",
       "      <td>0.0</td>\n",
       "      <td>152.240</td>\n",
       "      <td>0.19821</td>\n",
       "      <td>fossil fuels</td>\n",
       "    </tr>\n",
       "  </tbody>\n",
       "</table>\n",
       "</div>"
      ],
      "text/plain": [
       "     period             fuelTypeDescription  ash-content  consumption-for-eg  \\\n",
       "35  2008-01  biogenic municipal solid waste          0.0              38.861   \n",
       "36  2008-01                     natural gas          0.0          213193.626   \n",
       "40  2008-01                         nuclear          0.0               0.000   \n",
       "41  2008-01                         biomass          0.0             312.321   \n",
       "42  2008-01                     other gases          0.0             152.240   \n",
       "\n",
       "    consumption-for-eg-btu  consumption-uto  consumption-uto-btu   cost  \\\n",
       "35                 0.33181              0.0                  0.0   0.00   \n",
       "36               218.25615              0.0                  0.0   8.50   \n",
       "40               400.12862              0.0                  0.0   0.00   \n",
       "41                 0.24026              0.0                  0.0   0.00   \n",
       "42                 0.19821              0.0                  0.0  11.52   \n",
       "\n",
       "    cost-per-btu   generation  heat-content    receipts  receipts-btu  stocks  \\\n",
       "35        0.0000     16.22972        0.0000       0.000        0.0000     0.0   \n",
       "36        8.3075  25795.45248        1.0237  216900.522   221807.3309     0.0   \n",
       "40        0.0000  38151.08900        0.0000       0.000        0.0000     0.0   \n",
       "41        0.0000     19.57995        0.0000       0.000        0.0000     0.0   \n",
       "42       19.2457      4.84800        1.3020       0.000        0.0000     0.0   \n",
       "\n",
       "    sulfur-content  total-consumption  total-consumption-btu  energySource  \n",
       "35             0.0             38.861                0.33181    renewables  \n",
       "36             0.0         213193.626              218.25615  fossil fuels  \n",
       "40             0.0              0.000              400.12862        others  \n",
       "41             0.0            312.321                0.24026    renewables  \n",
       "42             0.0            152.240                0.19821  fossil fuels  "
      ]
     },
     "metadata": {},
     "output_type": "display_data"
    },
    {
     "name": "stdout",
     "output_type": "stream",
     "text": [
      "epo's shape: (25570, 18)\n"
     ]
    }
   ],
   "source": [
    "# Review the cleaned DF before additional cleaning\n",
    "display(epo_cleaned_df.head())\n",
    "print('epo\\'s shape:', epo_cleaned_df.shape)"
   ]
  },
  {
   "cell_type": "code",
   "execution_count": 70,
   "id": "2dde8a6d",
   "metadata": {},
   "outputs": [],
   "source": [
    "# Drop the 'fuelTypeDescription' column since we are only looking at the high level of energy source\n",
    "epo_cleaned_df =  epo_cleaned_df.drop(columns = 'fuelTypeDescription')"
   ]
  },
  {
   "cell_type": "code",
   "execution_count": 71,
   "id": "152da152",
   "metadata": {},
   "outputs": [
    {
     "data": {
      "text/html": [
       "<div>\n",
       "<style scoped>\n",
       "    .dataframe tbody tr th:only-of-type {\n",
       "        vertical-align: middle;\n",
       "    }\n",
       "\n",
       "    .dataframe tbody tr th {\n",
       "        vertical-align: top;\n",
       "    }\n",
       "\n",
       "    .dataframe thead th {\n",
       "        text-align: right;\n",
       "    }\n",
       "</style>\n",
       "<table border=\"1\" class=\"dataframe\">\n",
       "  <thead>\n",
       "    <tr style=\"text-align: right;\">\n",
       "      <th></th>\n",
       "      <th>period</th>\n",
       "      <th>energySource</th>\n",
       "      <th>ash-content</th>\n",
       "      <th>consumption-for-eg</th>\n",
       "      <th>consumption-for-eg-btu</th>\n",
       "      <th>consumption-uto</th>\n",
       "      <th>consumption-uto-btu</th>\n",
       "      <th>cost</th>\n",
       "      <th>cost-per-btu</th>\n",
       "      <th>generation</th>\n",
       "      <th>heat-content</th>\n",
       "      <th>receipts</th>\n",
       "      <th>receipts-btu</th>\n",
       "      <th>stocks</th>\n",
       "      <th>sulfur-content</th>\n",
       "      <th>total-consumption</th>\n",
       "      <th>total-consumption-btu</th>\n",
       "    </tr>\n",
       "  </thead>\n",
       "  <tbody>\n",
       "    <tr>\n",
       "      <th>0</th>\n",
       "      <td>2008-01</td>\n",
       "      <td>fossil fuels</td>\n",
       "      <td>308.89</td>\n",
       "      <td>3734358.85</td>\n",
       "      <td>27878.91</td>\n",
       "      <td>594559.14</td>\n",
       "      <td>1025.72</td>\n",
       "      <td>4477.05</td>\n",
       "      <td>692.55</td>\n",
       "      <td>2854188.91</td>\n",
       "      <td>974.95</td>\n",
       "      <td>4011940.29</td>\n",
       "      <td>26408984.47</td>\n",
       "      <td>2367212.11</td>\n",
       "      <td>81.48</td>\n",
       "      <td>4328918.00</td>\n",
       "      <td>28904.63</td>\n",
       "    </tr>\n",
       "    <tr>\n",
       "      <th>1</th>\n",
       "      <td>2008-01</td>\n",
       "      <td>others</td>\n",
       "      <td>0.00</td>\n",
       "      <td>2666.20</td>\n",
       "      <td>2263.20</td>\n",
       "      <td>12391.55</td>\n",
       "      <td>7.95</td>\n",
       "      <td>0.00</td>\n",
       "      <td>0.00</td>\n",
       "      <td>214662.90</td>\n",
       "      <td>0.00</td>\n",
       "      <td>0.00</td>\n",
       "      <td>0.00</td>\n",
       "      <td>0.00</td>\n",
       "      <td>0.00</td>\n",
       "      <td>15057.75</td>\n",
       "      <td>2271.15</td>\n",
       "    </tr>\n",
       "    <tr>\n",
       "      <th>2</th>\n",
       "      <td>2008-01</td>\n",
       "      <td>renewables</td>\n",
       "      <td>254.19</td>\n",
       "      <td>51894.93</td>\n",
       "      <td>1381.14</td>\n",
       "      <td>4114.64</td>\n",
       "      <td>453.03</td>\n",
       "      <td>591.66</td>\n",
       "      <td>101.83</td>\n",
       "      <td>126059.98</td>\n",
       "      <td>101.13</td>\n",
       "      <td>4074.26</td>\n",
       "      <td>44771.59</td>\n",
       "      <td>7392.34</td>\n",
       "      <td>8.36</td>\n",
       "      <td>56009.57</td>\n",
       "      <td>1834.17</td>\n",
       "    </tr>\n",
       "    <tr>\n",
       "      <th>3</th>\n",
       "      <td>2008-02</td>\n",
       "      <td>fossil fuels</td>\n",
       "      <td>169.75</td>\n",
       "      <td>1476772.66</td>\n",
       "      <td>10823.13</td>\n",
       "      <td>321531.26</td>\n",
       "      <td>499.01</td>\n",
       "      <td>2371.16</td>\n",
       "      <td>374.65</td>\n",
       "      <td>1092655.81</td>\n",
       "      <td>617.48</td>\n",
       "      <td>1660658.05</td>\n",
       "      <td>10715695.93</td>\n",
       "      <td>1002393.72</td>\n",
       "      <td>64.86</td>\n",
       "      <td>1798303.92</td>\n",
       "      <td>11322.14</td>\n",
       "    </tr>\n",
       "    <tr>\n",
       "      <th>4</th>\n",
       "      <td>2008-02</td>\n",
       "      <td>others</td>\n",
       "      <td>0.00</td>\n",
       "      <td>913.06</td>\n",
       "      <td>13.82</td>\n",
       "      <td>8851.58</td>\n",
       "      <td>3.47</td>\n",
       "      <td>0.00</td>\n",
       "      <td>0.00</td>\n",
       "      <td>1004.15</td>\n",
       "      <td>0.00</td>\n",
       "      <td>0.00</td>\n",
       "      <td>0.00</td>\n",
       "      <td>0.00</td>\n",
       "      <td>0.00</td>\n",
       "      <td>9764.64</td>\n",
       "      <td>17.29</td>\n",
       "    </tr>\n",
       "  </tbody>\n",
       "</table>\n",
       "</div>"
      ],
      "text/plain": [
       "    period  energySource  ash-content  consumption-for-eg  \\\n",
       "0  2008-01  fossil fuels       308.89          3734358.85   \n",
       "1  2008-01        others         0.00             2666.20   \n",
       "2  2008-01    renewables       254.19            51894.93   \n",
       "3  2008-02  fossil fuels       169.75          1476772.66   \n",
       "4  2008-02        others         0.00              913.06   \n",
       "\n",
       "   consumption-for-eg-btu  consumption-uto  consumption-uto-btu     cost  \\\n",
       "0                27878.91        594559.14              1025.72  4477.05   \n",
       "1                 2263.20         12391.55                 7.95     0.00   \n",
       "2                 1381.14          4114.64               453.03   591.66   \n",
       "3                10823.13        321531.26               499.01  2371.16   \n",
       "4                   13.82          8851.58                 3.47     0.00   \n",
       "\n",
       "   cost-per-btu  generation  heat-content    receipts  receipts-btu  \\\n",
       "0        692.55  2854188.91        974.95  4011940.29   26408984.47   \n",
       "1          0.00   214662.90          0.00        0.00          0.00   \n",
       "2        101.83   126059.98        101.13     4074.26      44771.59   \n",
       "3        374.65  1092655.81        617.48  1660658.05   10715695.93   \n",
       "4          0.00     1004.15          0.00        0.00          0.00   \n",
       "\n",
       "       stocks  sulfur-content  total-consumption  total-consumption-btu  \n",
       "0  2367212.11           81.48         4328918.00               28904.63  \n",
       "1        0.00            0.00           15057.75                2271.15  \n",
       "2     7392.34            8.36           56009.57                1834.17  \n",
       "3  1002393.72           64.86         1798303.92               11322.14  \n",
       "4        0.00            0.00            9764.64                  17.29  "
      ]
     },
     "metadata": {},
     "output_type": "display_data"
    },
    {
     "name": "stdout",
     "output_type": "stream",
     "text": [
      "epo's shape: (539, 17)\n"
     ]
    }
   ],
   "source": [
    "# Using groupby() and sum() functions to merge matching rows based on 'period', 'stateDescription', and 'energySource' \n",
    "# then round to the nearest 2. Note to also group the UOM columns as well.\n",
    "group_by = ['period', 'energySource']\n",
    "\n",
    "epo_cleaned_df = epo_cleaned_df.groupby(group_by).agg('sum').round(2).reset_index()\n",
    "display(epo_cleaned_df.head())\n",
    "print('epo\\'s shape:', epo_cleaned_df.shape)"
   ]
  },
  {
   "cell_type": "code",
   "execution_count": 72,
   "id": "4f2f5a39",
   "metadata": {},
   "outputs": [
    {
     "data": {
      "text/html": [
       "<div>\n",
       "<style scoped>\n",
       "    .dataframe tbody tr th:only-of-type {\n",
       "        vertical-align: middle;\n",
       "    }\n",
       "\n",
       "    .dataframe tbody tr th {\n",
       "        vertical-align: top;\n",
       "    }\n",
       "\n",
       "    .dataframe thead th {\n",
       "        text-align: right;\n",
       "    }\n",
       "</style>\n",
       "<table border=\"1\" class=\"dataframe\">\n",
       "  <thead>\n",
       "    <tr style=\"text-align: right;\">\n",
       "      <th></th>\n",
       "      <th>period</th>\n",
       "      <th>energySource</th>\n",
       "      <th>ash-content</th>\n",
       "      <th>consumption-for-eg</th>\n",
       "      <th>consumption-for-eg-btu</th>\n",
       "      <th>consumption-uto</th>\n",
       "      <th>consumption-uto-btu</th>\n",
       "      <th>cost</th>\n",
       "      <th>cost-per-btu</th>\n",
       "      <th>generation</th>\n",
       "      <th>heat-content</th>\n",
       "      <th>receipts</th>\n",
       "      <th>receipts-btu</th>\n",
       "      <th>stocks</th>\n",
       "      <th>sulfur-content</th>\n",
       "      <th>total-consumption</th>\n",
       "      <th>total-consumption-btu</th>\n",
       "    </tr>\n",
       "  </thead>\n",
       "  <tbody>\n",
       "    <tr>\n",
       "      <th>0</th>\n",
       "      <td>2008-01-01</td>\n",
       "      <td>fossil fuels</td>\n",
       "      <td>308.89</td>\n",
       "      <td>3734358.85</td>\n",
       "      <td>27878.91</td>\n",
       "      <td>594559.14</td>\n",
       "      <td>1025.72</td>\n",
       "      <td>4477.05</td>\n",
       "      <td>692.55</td>\n",
       "      <td>2854188.91</td>\n",
       "      <td>974.95</td>\n",
       "      <td>4011940.29</td>\n",
       "      <td>26408984.47</td>\n",
       "      <td>2367212.11</td>\n",
       "      <td>81.48</td>\n",
       "      <td>4328918.00</td>\n",
       "      <td>28904.63</td>\n",
       "    </tr>\n",
       "    <tr>\n",
       "      <th>1</th>\n",
       "      <td>2008-01-01</td>\n",
       "      <td>others</td>\n",
       "      <td>0.00</td>\n",
       "      <td>2666.20</td>\n",
       "      <td>2263.20</td>\n",
       "      <td>12391.55</td>\n",
       "      <td>7.95</td>\n",
       "      <td>0.00</td>\n",
       "      <td>0.00</td>\n",
       "      <td>214662.90</td>\n",
       "      <td>0.00</td>\n",
       "      <td>0.00</td>\n",
       "      <td>0.00</td>\n",
       "      <td>0.00</td>\n",
       "      <td>0.00</td>\n",
       "      <td>15057.75</td>\n",
       "      <td>2271.15</td>\n",
       "    </tr>\n",
       "    <tr>\n",
       "      <th>2</th>\n",
       "      <td>2008-01-01</td>\n",
       "      <td>renewables</td>\n",
       "      <td>254.19</td>\n",
       "      <td>51894.93</td>\n",
       "      <td>1381.14</td>\n",
       "      <td>4114.64</td>\n",
       "      <td>453.03</td>\n",
       "      <td>591.66</td>\n",
       "      <td>101.83</td>\n",
       "      <td>126059.98</td>\n",
       "      <td>101.13</td>\n",
       "      <td>4074.26</td>\n",
       "      <td>44771.59</td>\n",
       "      <td>7392.34</td>\n",
       "      <td>8.36</td>\n",
       "      <td>56009.57</td>\n",
       "      <td>1834.17</td>\n",
       "    </tr>\n",
       "    <tr>\n",
       "      <th>3</th>\n",
       "      <td>2008-02-01</td>\n",
       "      <td>fossil fuels</td>\n",
       "      <td>169.75</td>\n",
       "      <td>1476772.66</td>\n",
       "      <td>10823.13</td>\n",
       "      <td>321531.26</td>\n",
       "      <td>499.01</td>\n",
       "      <td>2371.16</td>\n",
       "      <td>374.65</td>\n",
       "      <td>1092655.81</td>\n",
       "      <td>617.48</td>\n",
       "      <td>1660658.05</td>\n",
       "      <td>10715695.93</td>\n",
       "      <td>1002393.72</td>\n",
       "      <td>64.86</td>\n",
       "      <td>1798303.92</td>\n",
       "      <td>11322.14</td>\n",
       "    </tr>\n",
       "    <tr>\n",
       "      <th>4</th>\n",
       "      <td>2008-02-01</td>\n",
       "      <td>others</td>\n",
       "      <td>0.00</td>\n",
       "      <td>913.06</td>\n",
       "      <td>13.82</td>\n",
       "      <td>8851.58</td>\n",
       "      <td>3.47</td>\n",
       "      <td>0.00</td>\n",
       "      <td>0.00</td>\n",
       "      <td>1004.15</td>\n",
       "      <td>0.00</td>\n",
       "      <td>0.00</td>\n",
       "      <td>0.00</td>\n",
       "      <td>0.00</td>\n",
       "      <td>0.00</td>\n",
       "      <td>9764.64</td>\n",
       "      <td>17.29</td>\n",
       "    </tr>\n",
       "  </tbody>\n",
       "</table>\n",
       "</div>"
      ],
      "text/plain": [
       "       period  energySource  ash-content  consumption-for-eg  \\\n",
       "0  2008-01-01  fossil fuels       308.89          3734358.85   \n",
       "1  2008-01-01        others         0.00             2666.20   \n",
       "2  2008-01-01    renewables       254.19            51894.93   \n",
       "3  2008-02-01  fossil fuels       169.75          1476772.66   \n",
       "4  2008-02-01        others         0.00              913.06   \n",
       "\n",
       "   consumption-for-eg-btu  consumption-uto  consumption-uto-btu     cost  \\\n",
       "0                27878.91        594559.14              1025.72  4477.05   \n",
       "1                 2263.20         12391.55                 7.95     0.00   \n",
       "2                 1381.14          4114.64               453.03   591.66   \n",
       "3                10823.13        321531.26               499.01  2371.16   \n",
       "4                   13.82          8851.58                 3.47     0.00   \n",
       "\n",
       "   cost-per-btu  generation  heat-content    receipts  receipts-btu  \\\n",
       "0        692.55  2854188.91        974.95  4011940.29   26408984.47   \n",
       "1          0.00   214662.90          0.00        0.00          0.00   \n",
       "2        101.83   126059.98        101.13     4074.26      44771.59   \n",
       "3        374.65  1092655.81        617.48  1660658.05   10715695.93   \n",
       "4          0.00     1004.15          0.00        0.00          0.00   \n",
       "\n",
       "       stocks  sulfur-content  total-consumption  total-consumption-btu  \n",
       "0  2367212.11           81.48         4328918.00               28904.63  \n",
       "1        0.00            0.00           15057.75                2271.15  \n",
       "2     7392.34            8.36           56009.57                1834.17  \n",
       "3  1002393.72           64.86         1798303.92               11322.14  \n",
       "4        0.00            0.00            9764.64                  17.29  "
      ]
     },
     "execution_count": 72,
     "metadata": {},
     "output_type": "execute_result"
    }
   ],
   "source": [
    "# Add first date to the period so we can transform it into date format\n",
    "epo_cleaned_df['period'] = epo_cleaned_df['period'] + '-01'\n",
    "epo_cleaned_df.head()"
   ]
  },
  {
   "cell_type": "code",
   "execution_count": 73,
   "id": "10f87339",
   "metadata": {},
   "outputs": [],
   "source": [
    "# Convert the period column to DateTime format\n",
    "epo_cleaned_df['period'] = pd.to_datetime(epo_cleaned_df['period'], format='%Y-%m-%d')"
   ]
  },
  {
   "cell_type": "code",
   "execution_count": 74,
   "id": "3d0f0456",
   "metadata": {},
   "outputs": [
    {
     "data": {
      "text/plain": [
       "period                    datetime64[ns]\n",
       "energySource                      object\n",
       "ash-content                      float64\n",
       "consumption-for-eg               float64\n",
       "consumption-for-eg-btu           float64\n",
       "consumption-uto                  float64\n",
       "consumption-uto-btu              float64\n",
       "cost                             float64\n",
       "cost-per-btu                     float64\n",
       "generation                       float64\n",
       "heat-content                     float64\n",
       "receipts                         float64\n",
       "receipts-btu                     float64\n",
       "stocks                           float64\n",
       "sulfur-content                   float64\n",
       "total-consumption                float64\n",
       "total-consumption-btu            float64\n",
       "dtype: object"
      ]
     },
     "execution_count": 74,
     "metadata": {},
     "output_type": "execute_result"
    }
   ],
   "source": [
    "# Check the column types\n",
    "epo_cleaned_df.dtypes"
   ]
  },
  {
   "cell_type": "code",
   "execution_count": 75,
   "id": "5a95868c",
   "metadata": {},
   "outputs": [
    {
     "data": {
      "text/plain": [
       "Index(['period', 'energySource', 'ash-content', 'consumption-for-eg',\n",
       "       'consumption-for-eg-btu', 'consumption-uto', 'consumption-uto-btu',\n",
       "       'cost', 'cost-per-btu', 'generation', 'heat-content', 'receipts',\n",
       "       'receipts-btu', 'stocks', 'sulfur-content', 'total-consumption',\n",
       "       'total-consumption-btu'],\n",
       "      dtype='object')"
      ]
     },
     "execution_count": 75,
     "metadata": {},
     "output_type": "execute_result"
    }
   ],
   "source": [
    "epo_cleaned_df.columns"
   ]
  },
  {
   "cell_type": "code",
   "execution_count": 76,
   "id": "942b2bef",
   "metadata": {},
   "outputs": [],
   "source": [
    "# Export the cleanned DataFrame for epo_cleaned_df into csv\n",
    "epo_cleaned_df.to_csv('../static/data/epo_2012_2022_cleaned.csv', index = '')"
   ]
  },
  {
   "cell_type": "markdown",
   "id": "b93fc8ba",
   "metadata": {},
   "source": [
    "**emission_df**"
   ]
  },
  {
   "cell_type": "code",
   "execution_count": 86,
   "id": "398fdd52",
   "metadata": {},
   "outputs": [
    {
     "name": "stdout",
     "output_type": "stream",
     "text": [
      "Index(['period', 'stateDescription', 'fuelDescription',\n",
      "       'co2-thousand-metric-tons', 'nox-short-tons', 'so2-short-tons',\n",
      "       'co2-thousand-metric-tons-units', 'nox-short-tons-units',\n",
      "       'so2-short-tons-units'],\n",
      "      dtype='object')\n"
     ]
    }
   ],
   "source": [
    "# Drop columns 'stateid', 'stateDescription', 'fuelid', 'co2-rate-lbs-mwh', 'nox-rate-lbs-mwh', 'so2-rate-lbs-mwh',\n",
    "# 'co2-rate-lbs-mwh-units', 'nox-rate-lbs-mwh-units', 'so2-rate-lbs-mwh-units' from emission_cleaned_df\n",
    "emission_cleaned_df = emission_cleaned_df.drop([\n",
    "    'stateid', 'fuelid', 'co2-rate-lbs-mwh', 'nox-rate-lbs-mwh', 'so2-rate-lbs-mwh',\n",
    "    'co2-rate-lbs-mwh-units', 'nox-rate-lbs-mwh-units', 'so2-rate-lbs-mwh-units'\n",
    "], axis = 1)\n",
    "print(emission_cleaned_df.columns)"
   ]
  },
  {
   "cell_type": "code",
   "execution_count": 87,
   "id": "afcd1f41",
   "metadata": {},
   "outputs": [
    {
     "name": "stdout",
     "output_type": "stream",
     "text": [
      "emission fuelDescription\n",
      "Total          780\n",
      "Petroleum      775\n",
      "Natural Gas    762\n",
      "Other          761\n",
      "Coal           725\n",
      "Name: count, dtype: int64\n"
     ]
    }
   ],
   "source": [
    "# Print out the unique values in fuelDescription for emission_cleaned_df\n",
    "print('emission', emission_cleaned_df['fuelDescription'].value_counts())"
   ]
  },
  {
   "cell_type": "code",
   "execution_count": 88,
   "id": "01fb109b",
   "metadata": {},
   "outputs": [],
   "source": [
    "# Retrieve only rows containing 'United States' since we are doing national level then drop the column\n",
    "emission_cleaned_df = emission_cleaned_df[emission_cleaned_df['stateDescription'].isin(['United States'])] \\\n",
    "                            .drop(columns = 'stateDescription')"
   ]
  },
  {
   "cell_type": "code",
   "execution_count": 89,
   "id": "bbfdfb1c",
   "metadata": {},
   "outputs": [
    {
     "name": "stderr",
     "output_type": "stream",
     "text": [
      "C:\\Users\\khang\\AppData\\Local\\Temp\\ipykernel_51964\\2673199919.py:31: FutureWarning: Setting an item of incompatible dtype is deprecated and will raise in a future error of pandas. Value 'fossil fuels' has dtype incompatible with float64, please explicitly cast to a compatible dtype first.\n",
      "  tmp_df.loc[tmp_df[check_col] == item, new_col] = bin_name\n"
     ]
    }
   ],
   "source": [
    "# Create bins based on fuel type description into 'Fossil Fuels', 'Renewables', and 'Others' for emission_cleaned_df under\n",
    "# energySource\n",
    "emission_ff_source = ['Petroleum', 'Natural Gas', 'Coal']\n",
    "emission_renew_source = ['Total']\n",
    "emission_oth_source = ['Other']\n",
    "\n",
    "emission_cleaned_df = category_bin(emission_cleaned_df, 'fuelDescription', emission_ff_source, 'fossil fuels', 'energySource')\n",
    "emission_cleaned_df = category_bin(emission_cleaned_df, 'fuelDescription', emission_renew_source, 'renewables', 'energySource')\n",
    "emission_cleaned_df = category_bin(emission_cleaned_df, 'fuelDescription', emission_oth_source, 'others', 'energySource')\n",
    "\n",
    "# Drop the 'fuelDescription' as we no longer needing it\n",
    "emission_cleaned_df = emission_cleaned_df.drop(['fuelDescription'], axis = 1)"
   ]
  },
  {
   "cell_type": "code",
   "execution_count": 90,
   "id": "49bf3975",
   "metadata": {},
   "outputs": [
    {
     "data": {
      "text/plain": [
       "energySource\n",
       "fossil fuels    45\n",
       "others          15\n",
       "renewables      15\n",
       "Name: count, dtype: int64"
      ]
     },
     "execution_count": 90,
     "metadata": {},
     "output_type": "execute_result"
    }
   ],
   "source": [
    "# Check the value_counts() again to make sure binning was done correctly\n",
    "emission_cleaned_df['energySource'].value_counts()"
   ]
  },
  {
   "cell_type": "code",
   "execution_count": 91,
   "id": "d3af61bf",
   "metadata": {},
   "outputs": [],
   "source": [
    "# Fill in NaN columns as 0 then set these columns as float\n",
    "# 'co2-thousand-metric-tons', 'nox-short-tons', 'so2-short-tons'\n",
    "emission_cols = ['co2-thousand-metric-tons', 'nox-short-tons', 'so2-short-tons']\n",
    "\n",
    "for col in emission_cols:\n",
    "    emission_cleaned_df = fix_nan(emission_cleaned_df, emission_cols)"
   ]
  },
  {
   "cell_type": "code",
   "execution_count": 92,
   "id": "c26a153c",
   "metadata": {},
   "outputs": [
    {
     "data": {
      "text/plain": [
       "Index(['period', 'co2-thousand-metric-tons', 'nox-short-tons',\n",
       "       'so2-short-tons', 'co2-thousand-metric-tons-units',\n",
       "       'nox-short-tons-units', 'so2-short-tons-units', 'energySource'],\n",
       "      dtype='object')"
      ]
     },
     "execution_count": 92,
     "metadata": {},
     "output_type": "execute_result"
    }
   ],
   "source": [
    "# Print out the columns\n",
    "emission_cleaned_df.columns"
   ]
  },
  {
   "cell_type": "code",
   "execution_count": 93,
   "id": "8e6a242f",
   "metadata": {},
   "outputs": [
    {
     "data": {
      "text/html": [
       "<div>\n",
       "<style scoped>\n",
       "    .dataframe tbody tr th:only-of-type {\n",
       "        vertical-align: middle;\n",
       "    }\n",
       "\n",
       "    .dataframe tbody tr th {\n",
       "        vertical-align: top;\n",
       "    }\n",
       "\n",
       "    .dataframe thead th {\n",
       "        text-align: right;\n",
       "    }\n",
       "</style>\n",
       "<table border=\"1\" class=\"dataframe\">\n",
       "  <thead>\n",
       "    <tr style=\"text-align: right;\">\n",
       "      <th></th>\n",
       "      <th>period</th>\n",
       "      <th>co2-thousand-metric-tons</th>\n",
       "      <th>nox-short-tons</th>\n",
       "      <th>so2-short-tons</th>\n",
       "      <th>co2-thousand-metric-tons-units</th>\n",
       "      <th>nox-short-tons-units</th>\n",
       "      <th>so2-short-tons-units</th>\n",
       "      <th>energySource</th>\n",
       "    </tr>\n",
       "  </thead>\n",
       "  <tbody>\n",
       "    <tr>\n",
       "      <th>162</th>\n",
       "      <td>2008</td>\n",
       "      <td>2001806.0</td>\n",
       "      <td>2954350.0</td>\n",
       "      <td>8103512.0</td>\n",
       "      <td>thousand metric tons</td>\n",
       "      <td>short tons</td>\n",
       "      <td>short tons</td>\n",
       "      <td>fossil fuels</td>\n",
       "    </tr>\n",
       "    <tr>\n",
       "      <th>163</th>\n",
       "      <td>2008</td>\n",
       "      <td>419599.0</td>\n",
       "      <td>386890.0</td>\n",
       "      <td>3115.0</td>\n",
       "      <td>thousand metric tons</td>\n",
       "      <td>short tons</td>\n",
       "      <td>short tons</td>\n",
       "      <td>fossil fuels</td>\n",
       "    </tr>\n",
       "    <tr>\n",
       "      <th>164</th>\n",
       "      <td>2008</td>\n",
       "      <td>14752.0</td>\n",
       "      <td>247542.0</td>\n",
       "      <td>248311.0</td>\n",
       "      <td>thousand metric tons</td>\n",
       "      <td>short tons</td>\n",
       "      <td>short tons</td>\n",
       "      <td>others</td>\n",
       "    </tr>\n",
       "    <tr>\n",
       "      <th>165</th>\n",
       "      <td>2008</td>\n",
       "      <td>47855.0</td>\n",
       "      <td>82181.0</td>\n",
       "      <td>275880.0</td>\n",
       "      <td>thousand metric tons</td>\n",
       "      <td>short tons</td>\n",
       "      <td>short tons</td>\n",
       "      <td>fossil fuels</td>\n",
       "    </tr>\n",
       "    <tr>\n",
       "      <th>166</th>\n",
       "      <td>2008</td>\n",
       "      <td>2484012.0</td>\n",
       "      <td>3670963.0</td>\n",
       "      <td>8630818.0</td>\n",
       "      <td>thousand metric tons</td>\n",
       "      <td>short tons</td>\n",
       "      <td>short tons</td>\n",
       "      <td>renewables</td>\n",
       "    </tr>\n",
       "  </tbody>\n",
       "</table>\n",
       "</div>"
      ],
      "text/plain": [
       "    period  co2-thousand-metric-tons  nox-short-tons  so2-short-tons  \\\n",
       "162   2008                 2001806.0       2954350.0       8103512.0   \n",
       "163   2008                  419599.0        386890.0          3115.0   \n",
       "164   2008                   14752.0        247542.0        248311.0   \n",
       "165   2008                   47855.0         82181.0        275880.0   \n",
       "166   2008                 2484012.0       3670963.0       8630818.0   \n",
       "\n",
       "    co2-thousand-metric-tons-units nox-short-tons-units so2-short-tons-units  \\\n",
       "162           thousand metric tons           short tons           short tons   \n",
       "163           thousand metric tons           short tons           short tons   \n",
       "164           thousand metric tons           short tons           short tons   \n",
       "165           thousand metric tons           short tons           short tons   \n",
       "166           thousand metric tons           short tons           short tons   \n",
       "\n",
       "     energySource  \n",
       "162  fossil fuels  \n",
       "163  fossil fuels  \n",
       "164        others  \n",
       "165  fossil fuels  \n",
       "166    renewables  "
      ]
     },
     "execution_count": 93,
     "metadata": {},
     "output_type": "execute_result"
    }
   ],
   "source": [
    "emission_cleaned_df.head()"
   ]
  },
  {
   "cell_type": "code",
   "execution_count": 94,
   "id": "8a984be4",
   "metadata": {},
   "outputs": [],
   "source": [
    "# Fill in the 'mm-dd' in the period before we convert to proper date type using just first month and date since this dateset\n",
    "# is annually\n",
    "emission_cleaned_df['period'] = emission_cleaned_df['period'] + '-01-01'\n",
    "\n",
    "# Now do the conversion\n",
    "emission_cleaned_df['period'] = pd.to_datetime(emission_cleaned_df['period'], format='%Y-%m-%d')"
   ]
  },
  {
   "cell_type": "code",
   "execution_count": 95,
   "id": "0f0659eb",
   "metadata": {},
   "outputs": [
    {
     "data": {
      "text/html": [
       "<div>\n",
       "<style scoped>\n",
       "    .dataframe tbody tr th:only-of-type {\n",
       "        vertical-align: middle;\n",
       "    }\n",
       "\n",
       "    .dataframe tbody tr th {\n",
       "        vertical-align: top;\n",
       "    }\n",
       "\n",
       "    .dataframe thead th {\n",
       "        text-align: right;\n",
       "    }\n",
       "</style>\n",
       "<table border=\"1\" class=\"dataframe\">\n",
       "  <thead>\n",
       "    <tr style=\"text-align: right;\">\n",
       "      <th></th>\n",
       "      <th>period</th>\n",
       "      <th>co2-thousand-metric-tons-units</th>\n",
       "      <th>nox-short-tons-units</th>\n",
       "      <th>so2-short-tons-units</th>\n",
       "      <th>energySource</th>\n",
       "      <th>co2-thousand-metric-tons</th>\n",
       "      <th>nox-short-tons</th>\n",
       "      <th>so2-short-tons</th>\n",
       "    </tr>\n",
       "  </thead>\n",
       "  <tbody>\n",
       "    <tr>\n",
       "      <th>0</th>\n",
       "      <td>2008-01-01</td>\n",
       "      <td>thousand metric tons</td>\n",
       "      <td>short tons</td>\n",
       "      <td>short tons</td>\n",
       "      <td>fossil fuels</td>\n",
       "      <td>2469260.0</td>\n",
       "      <td>3423421.0</td>\n",
       "      <td>8382507.0</td>\n",
       "    </tr>\n",
       "    <tr>\n",
       "      <th>1</th>\n",
       "      <td>2008-01-01</td>\n",
       "      <td>thousand metric tons</td>\n",
       "      <td>short tons</td>\n",
       "      <td>short tons</td>\n",
       "      <td>others</td>\n",
       "      <td>14752.0</td>\n",
       "      <td>247542.0</td>\n",
       "      <td>248311.0</td>\n",
       "    </tr>\n",
       "    <tr>\n",
       "      <th>2</th>\n",
       "      <td>2008-01-01</td>\n",
       "      <td>thousand metric tons</td>\n",
       "      <td>short tons</td>\n",
       "      <td>short tons</td>\n",
       "      <td>renewables</td>\n",
       "      <td>2484012.0</td>\n",
       "      <td>3670963.0</td>\n",
       "      <td>8630818.0</td>\n",
       "    </tr>\n",
       "    <tr>\n",
       "      <th>3</th>\n",
       "      <td>2009-01-01</td>\n",
       "      <td>thousand metric tons</td>\n",
       "      <td>short tons</td>\n",
       "      <td>short tons</td>\n",
       "      <td>fossil fuels</td>\n",
       "      <td>2254958.0</td>\n",
       "      <td>2392188.0</td>\n",
       "      <td>6334871.0</td>\n",
       "    </tr>\n",
       "    <tr>\n",
       "      <th>4</th>\n",
       "      <td>2009-01-01</td>\n",
       "      <td>thousand metric tons</td>\n",
       "      <td>short tons</td>\n",
       "      <td>short tons</td>\n",
       "      <td>others</td>\n",
       "      <td>14549.0</td>\n",
       "      <td>248285.0</td>\n",
       "      <td>246242.0</td>\n",
       "    </tr>\n",
       "  </tbody>\n",
       "</table>\n",
       "</div>"
      ],
      "text/plain": [
       "      period co2-thousand-metric-tons-units nox-short-tons-units  \\\n",
       "0 2008-01-01           thousand metric tons           short tons   \n",
       "1 2008-01-01           thousand metric tons           short tons   \n",
       "2 2008-01-01           thousand metric tons           short tons   \n",
       "3 2009-01-01           thousand metric tons           short tons   \n",
       "4 2009-01-01           thousand metric tons           short tons   \n",
       "\n",
       "  so2-short-tons-units  energySource  co2-thousand-metric-tons  \\\n",
       "0           short tons  fossil fuels                 2469260.0   \n",
       "1           short tons        others                   14752.0   \n",
       "2           short tons    renewables                 2484012.0   \n",
       "3           short tons  fossil fuels                 2254958.0   \n",
       "4           short tons        others                   14549.0   \n",
       "\n",
       "   nox-short-tons  so2-short-tons  \n",
       "0       3423421.0       8382507.0  \n",
       "1        247542.0        248311.0  \n",
       "2       3670963.0       8630818.0  \n",
       "3       2392188.0       6334871.0  \n",
       "4        248285.0        246242.0  "
      ]
     },
     "metadata": {},
     "output_type": "display_data"
    },
    {
     "name": "stdout",
     "output_type": "stream",
     "text": [
      "emission's shape: (45, 8)\n"
     ]
    }
   ],
   "source": [
    "# Using groupby() and sum() functions to merge matching rows based on 'period', 'stateDescription', 'energySource', and \n",
    "# 'fuelTypeDescription' then round to the nearest 2. Note to also group the UOM columns as well.\n",
    "emission_group_by = [\n",
    "    'period', 'co2-thousand-metric-tons-units', \n",
    "    'nox-short-tons-units', 'so2-short-tons-units', 'energySource'\n",
    "]\n",
    "\n",
    "emission_cleaned_df = emission_cleaned_df.groupby(emission_group_by).agg('sum').round(2).reset_index()\n",
    "display(emission_cleaned_df.head())\n",
    "print('emission\\'s shape:', emission_cleaned_df.shape)"
   ]
  },
  {
   "cell_type": "code",
   "execution_count": null,
   "id": "e761f49e",
   "metadata": {},
   "outputs": [],
   "source": [
    "# Check the column types\n",
    "emission_cleaned_df.dtypes"
   ]
  },
  {
   "cell_type": "code",
   "execution_count": 96,
   "id": "05b812ca",
   "metadata": {},
   "outputs": [],
   "source": [
    "# Rearrange the energySource\n",
    "emission_cleaned_df = emission_cleaned_df[[\n",
    "    'period', 'energySource',\n",
    "    'co2-thousand-metric-tons', 'nox-short-tons', 'so2-short-tons',\n",
    "    'co2-thousand-metric-tons-units', 'nox-short-tons-units',\n",
    "    'so2-short-tons-units'\n",
    "]]\n",
    "\n",
    "# Export the cleanned DataFrame for epo_cleaned_df into csv\n",
    "emission_cleaned_df.to_csv('../static/data/emission_2012_2022_cleaned.csv', index = False)"
   ]
  },
  {
   "cell_type": "markdown",
   "id": "223e28fc",
   "metadata": {},
   "source": [
    "### Database Storing\n",
    "---"
   ]
  },
  {
   "cell_type": "code",
   "execution_count": 97,
   "id": "21d18e47",
   "metadata": {},
   "outputs": [],
   "source": [
    "# Import dependencies for handling the database\n",
    "from os import path, remove\n",
    "from sqlalchemy import create_engine, text\n",
    "from sqlalchemy.orm import Session"
   ]
  },
  {
   "cell_type": "code",
   "execution_count": 98,
   "id": "a3158788",
   "metadata": {},
   "outputs": [
    {
     "ename": "PermissionError",
     "evalue": "[WinError 32] The process cannot access the file because it is being used by another process: '../static/data/eia_electric.sqlite'",
     "output_type": "error",
     "traceback": [
      "\u001b[1;31m---------------------------------------------------------------------------\u001b[0m",
      "\u001b[1;31mPermissionError\u001b[0m                           Traceback (most recent call last)",
      "Cell \u001b[1;32mIn[98], line 6\u001b[0m\n\u001b[0;32m      4\u001b[0m \u001b[38;5;66;03m# Delete the existing database if it exists\u001b[39;00m\n\u001b[0;32m      5\u001b[0m \u001b[38;5;28;01mif\u001b[39;00m path\u001b[38;5;241m.\u001b[39mexists(db_path):\n\u001b[1;32m----> 6\u001b[0m     \u001b[43mremove\u001b[49m\u001b[43m(\u001b[49m\u001b[43mdb_path\u001b[49m\u001b[43m)\u001b[49m\n",
      "\u001b[1;31mPermissionError\u001b[0m: [WinError 32] The process cannot access the file because it is being used by another process: '../static/data/eia_electric.sqlite'"
     ]
    }
   ],
   "source": [
    "# Setup the db path\n",
    "db_path = '../static/data/eia_electric.sqlite'\n",
    "\n",
    "# Delete the existing database if it exists\n",
    "if path.exists(db_path):\n",
    "    remove(db_path)"
   ]
  },
  {
   "cell_type": "code",
   "execution_count": 99,
   "id": "ab817da3",
   "metadata": {},
   "outputs": [],
   "source": [
    "# Setup the engine and connect the database\n",
    "engine = create_engine(f'sqlite:///{db_path}')\n",
    "conn = engine.connect()"
   ]
  },
  {
   "cell_type": "code",
   "execution_count": 100,
   "id": "fce7b675",
   "metadata": {},
   "outputs": [],
   "source": [
    "# Create session for querying later to verify tables have been created correctly\n",
    "session = Session(bind = engine)"
   ]
  },
  {
   "cell_type": "code",
   "execution_count": 101,
   "id": "35ce5cdf",
   "metadata": {},
   "outputs": [
    {
     "data": {
      "text/plain": [
       "539"
      ]
     },
     "execution_count": 101,
     "metadata": {},
     "output_type": "execute_result"
    }
   ],
   "source": [
    "# Append the epo_cleaned_df to the database created\n",
    "epo_cleaned_df.to_sql(name = 'epo', con = engine, if_exists = 'replace', index = False)"
   ]
  },
  {
   "cell_type": "code",
   "execution_count": 102,
   "id": "4282ad5e",
   "metadata": {},
   "outputs": [
    {
     "data": {
      "text/plain": [
       "('2008-01-01 00:00:00.000000', 'fossil fuels', 308.89, 3734358.85, 27878.91, 594559.14, 1025.72, 4477.05, 692.55, 2854188.91, 974.95, 4011940.29, 26408984.47, 2367212.11, 81.48, 4328918.0, 28904.63)"
      ]
     },
     "execution_count": 102,
     "metadata": {},
     "output_type": "execute_result"
    }
   ],
   "source": [
    "session.execute(text('SELECT * from epo')).fetchone()"
   ]
  },
  {
   "cell_type": "code",
   "execution_count": 103,
   "id": "6e05972f",
   "metadata": {},
   "outputs": [
    {
     "data": {
      "text/plain": [
       "45"
      ]
     },
     "execution_count": 103,
     "metadata": {},
     "output_type": "execute_result"
    }
   ],
   "source": [
    "# Append the emission_cleaned_df to the database created\n",
    "emission_cleaned_df.to_sql(name = 'emission', con = engine, if_exists = 'replace', index = False)"
   ]
  },
  {
   "cell_type": "code",
   "execution_count": 104,
   "id": "775985e9",
   "metadata": {},
   "outputs": [
    {
     "data": {
      "text/plain": [
       "('2008-01-01 00:00:00.000000', 'fossil fuels', 2469260.0, 3423421.0, 8382507.0, 'thousand metric tons', 'short tons', 'short tons')"
      ]
     },
     "execution_count": 104,
     "metadata": {},
     "output_type": "execute_result"
    }
   ],
   "source": [
    "session.execute(text('SELECT * from emission')).fetchone()"
   ]
  },
  {
   "cell_type": "code",
   "execution_count": 105,
   "id": "4f7c7429",
   "metadata": {},
   "outputs": [],
   "source": [
    "# Close out of the session and engine\n",
    "session.close()\n",
    "engine.dispose()"
   ]
  },
  {
   "cell_type": "code",
   "execution_count": null,
   "id": "c3191910",
   "metadata": {},
   "outputs": [],
   "source": []
  }
 ],
 "metadata": {
  "kernelspec": {
   "display_name": "Python 3 (ipykernel)",
   "language": "python",
   "name": "python3"
  },
  "language_info": {
   "codemirror_mode": {
    "name": "ipython",
    "version": 3
   },
   "file_extension": ".py",
   "mimetype": "text/x-python",
   "name": "python",
   "nbconvert_exporter": "python",
   "pygments_lexer": "ipython3",
   "version": "3.11.5"
  }
 },
 "nbformat": 4,
 "nbformat_minor": 5
}
