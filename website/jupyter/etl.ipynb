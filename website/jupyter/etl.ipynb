{
 "cells": [
  {
   "cell_type": "markdown",
   "id": "4e4b3947",
   "metadata": {},
   "source": [
    "# Extract, Transform, Load (ETL)\n",
    "---\n",
    "* Source `https://www.eia.gov/opendata/browser/`\n",
    "* Main Route `Electricity`\n",
    "    * Sub Route 1 - `Electric Power Operations (Annual And Monthly)`    \n",
    "* Year range `2008` to `2022`\n",
    "---\n",
    "API Key can be obtained via signing up via `https://www.eia.gov/opendata/` then added to to the variable `api_key` located under the `config.py` file. Additionally, the API url path can be obtained after choosing the primary route and its subroutes which can then be copied and used here.\n",
    "\n",
    "More information regarding EIA's API documentation can be found at `https://www.eia.gov/opendata/documentation.php`.\n",
    "\n",
    "* Categorizing fuel types into the following bin:\n",
    "    * `Fossil fuels` - anthracite coal, bituminous coal, bituminous coal and syntehtic coal, 'coal, excluding waste coal', distillate fuel oil, fossil fuels, ignite coal, natural gas, natural gas & other gases, other gases, petroleum, petroleum coke, petroleum liquids, refined coal, residual fuel oil, subbituminous coal, lignite coal\n",
    "    * `Renewables` - biogenic municipal solid waste, biomass, conventional hydroelectric, estimated small scale solar photovoltaic, estimated total solar, estimated total solar photovoltaic, geothermal, hydro-electric pumped storage, landfill gas, municiapl landfill gas, offshore wind turbine, onshore wind turbine, renewable, renewable waste products, solar, solar photovoltaic, solar thermal, waste coal, waste oil and other oils, wind, wood and wood wastes, other renewables\n",
    "    * `Others` - other fuel types and nuclear\n",
    "\n",
    "For location, we will use the data from All-\n",
    "\n",
    "Binning information is based on sources from `https://www.eia.gov/tools/faqs/faq.php?id=427&t=3`, `https://www.eia.gov/electricity/data/browser/`, and `https://www.eia.gov/dnav/pet/TblDefs/pet_cons_821dst_tbldef2.asp`."
   ]
  },
  {
   "cell_type": "code",
   "execution_count": 1,
   "id": "d1dc6ec0",
   "metadata": {},
   "outputs": [],
   "source": [
    "# Import dependencies\n",
    "from config import api_key\n",
    "import json\n",
    "import requests\n",
    "import pandas as pd"
   ]
  },
  {
   "cell_type": "markdown",
   "id": "0376006e",
   "metadata": {},
   "source": [
    "### Functions"
   ]
  },
  {
   "cell_type": "code",
   "execution_count": 2,
   "id": "f50ead2d",
   "metadata": {},
   "outputs": [],
   "source": [
    "def request_to_df(url, api_key, years = []):\n",
    "    '''Function to request data from target API by looping through the years provided to return as a list before combining into one DataFrame'''\n",
    "    data = []\n",
    "    \n",
    "    for year in years:\n",
    "        api_path = url.replace('||KEY||', api_key).replace('||START||', year).replace('||END||', year)\n",
    "        \n",
    "        # Send the request\n",
    "        response = requests.get(api_path).json()\n",
    "        \n",
    "        # Verify the response and raise error if bad response returned otherwise pass it into a DataFrame before returning it\n",
    "        if (not 'warning' in response.keys()) and (not 'error' in response.keys()) :\n",
    "            data += response['response']['data']\n",
    "        else:\n",
    "            raise Exception('Bad request submitted or no response received from the source API, verify that the url and/or offset provided is correct')\n",
    "    \n",
    "    df = pd.DataFrame(data)\n",
    "    return df\n",
    "\n",
    "def category_bin(df, check_col, list_to_bin, bin_name, new_col = ''):\n",
    "    '''\n",
    "        Function to create a bin category for a DataFrame based on the provided list then replace existing value with a bin category.\n",
    "        If new_col is provided, a new column will be created for the binned category\n",
    "    '''\n",
    "    tmp_df = df.copy()\n",
    "    \n",
    "    for item in list_to_bin:\n",
    "        if new_col == '' or new_col.isspace():\n",
    "            tmp_df[check_col] = tmp_df[check_col].replace(item, bin_name)\n",
    "        else:\n",
    "            tmp_df.loc[tmp_df[check_col] == item, new_col] = bin_name\n",
    "    \n",
    "    return tmp_df\n",
    "\n",
    "def fix_nan(df, col, fill_value = 0, to_type = 'float'):\n",
    "    '''Function to fill the selected column's NaN value with the provided value and change it type'''\n",
    "    tmp_df = df.copy()\n",
    "    tmp_df[col] = tmp_df[col].fillna(fill_value)\n",
    "    tmp_df[col] = tmp_df[col].astype(to_type)\n",
    "    \n",
    "    return tmp_df"
   ]
  },
  {
   "cell_type": "markdown",
   "id": "79496e29",
   "metadata": {},
   "source": [
    "### Extract"
   ]
  },
  {
   "cell_type": "code",
   "execution_count": 3,
   "id": "73b31ad5",
   "metadata": {},
   "outputs": [],
   "source": [
    "# Set years for the API to go through\n",
    "epo_years = [str(year) + '-{:02d}'.format(month) for year in range(2008, 2023) for month in range(1, 13)]\n",
    "\n",
    "# Set up the paths for retrieving the data into DataFrames with ||START|| and ||END|| for start and end parameter\n",
    "epo_url = 'https://api.eia.gov/v2/electricity/electric-power-operational-data/data/?api_key=||KEY||&frequency=monthly&data[0]=ash-content&data[1]=consumption-for-eg&data[2]=consumption-for-eg-btu&data[3]=consumption-uto&data[4]=consumption-uto-btu&data[5]=cost&data[6]=cost-per-btu&data[7]=generation&data[8]=heat-content&data[9]=receipts&data[10]=receipts-btu&data[11]=stocks&data[12]=sulfur-content&data[13]=total-consumption&data[14]=total-consumption-btu&start=||START||&end=||END||&sort[0][column]=period&sort[0][direction]=desc&offset=0&length=5000'"
   ]
  },
  {
   "cell_type": "code",
   "execution_count": 4,
   "id": "ba262e85",
   "metadata": {},
   "outputs": [],
   "source": [
    "# Get the request and create the DataFrames\n",
    "epo_raw_df = request_to_df(epo_url, api_key, epo_years)\n",
    "\n",
    "# Or if already using csv file for extraction then (make sure to comment out the above)\n",
    "# epo_raw_df = pd.read_csv('../static/data/epo_2012_2022_raw.csv')"
   ]
  },
  {
   "cell_type": "code",
   "execution_count": 5,
   "id": "3e873b91",
   "metadata": {},
   "outputs": [],
   "source": [
    "# Export out raw data to csv files\n",
    "epo_raw_df.to_csv('../static/data/epo_2012_2022_raw.csv', index = False)"
   ]
  },
  {
   "cell_type": "code",
   "execution_count": 6,
   "id": "94068d38",
   "metadata": {
    "scrolled": true
   },
   "outputs": [
    {
     "data": {
      "text/plain": [
       "Index(['period', 'location', 'stateDescription', 'sectorid',\n",
       "       'sectorDescription', 'fueltypeid', 'fuelTypeDescription', 'ash-content',\n",
       "       'ash-content-units', 'consumption-for-eg', 'consumption-for-eg-units',\n",
       "       'consumption-for-eg-btu', 'consumption-for-eg-btu-units',\n",
       "       'consumption-uto', 'consumption-uto-units', 'consumption-uto-btu',\n",
       "       'consumption-uto-btu-units', 'cost', 'cost-units', 'cost-per-btu',\n",
       "       'cost-per-btu-units', 'generation', 'generation-units', 'heat-content',\n",
       "       'heat-content-units', 'receipts', 'receipts-units', 'receipts-btu',\n",
       "       'receipts-btu-units', 'stocks', 'stocks-units', 'sulfur-content',\n",
       "       'sulfur-content-units', 'total-consumption', 'total-consumption-units',\n",
       "       'total-consumption-btu', 'total-consumption-btu-units'],\n",
       "      dtype='object')"
      ]
     },
     "execution_count": 6,
     "metadata": {},
     "output_type": "execute_result"
    }
   ],
   "source": [
    "# Print out the keys for epo\n",
    "epo_raw_df.keys()"
   ]
  },
  {
   "cell_type": "code",
   "execution_count": 7,
   "id": "68485df9",
   "metadata": {},
   "outputs": [
    {
     "data": {
      "text/plain": [
       "period                           object\n",
       "location                         object\n",
       "stateDescription                 object\n",
       "sectorid                          int64\n",
       "sectorDescription                object\n",
       "fueltypeid                       object\n",
       "fuelTypeDescription              object\n",
       "ash-content                     float64\n",
       "ash-content-units                object\n",
       "consumption-for-eg              float64\n",
       "consumption-for-eg-units         object\n",
       "consumption-for-eg-btu          float64\n",
       "consumption-for-eg-btu-units     object\n",
       "consumption-uto                 float64\n",
       "consumption-uto-units            object\n",
       "consumption-uto-btu             float64\n",
       "consumption-uto-btu-units        object\n",
       "cost                            float64\n",
       "cost-units                       object\n",
       "cost-per-btu                    float64\n",
       "cost-per-btu-units               object\n",
       "generation                      float64\n",
       "generation-units                 object\n",
       "heat-content                    float64\n",
       "heat-content-units               object\n",
       "receipts                        float64\n",
       "receipts-units                   object\n",
       "receipts-btu                    float64\n",
       "receipts-btu-units               object\n",
       "stocks                          float64\n",
       "stocks-units                     object\n",
       "sulfur-content                  float64\n",
       "sulfur-content-units             object\n",
       "total-consumption               float64\n",
       "total-consumption-units          object\n",
       "total-consumption-btu           float64\n",
       "total-consumption-btu-units      object\n",
       "dtype: object"
      ]
     },
     "execution_count": 7,
     "metadata": {},
     "output_type": "execute_result"
    }
   ],
   "source": [
    "# Print out the types\n",
    "epo_raw_df.dtypes"
   ]
  },
  {
   "cell_type": "markdown",
   "id": "73abdd29",
   "metadata": {},
   "source": [
    "### Transform and Load"
   ]
  },
  {
   "cell_type": "code",
   "execution_count": 8,
   "id": "f9013ab7",
   "metadata": {},
   "outputs": [],
   "source": [
    "# Create copies of the DataFrames\n",
    "epo_cleaned_df = epo_raw_df.copy()"
   ]
  },
  {
   "cell_type": "markdown",
   "id": "ab87f2d0",
   "metadata": {},
   "source": [
    "---"
   ]
  },
  {
   "cell_type": "code",
   "execution_count": 9,
   "id": "216cb0cc",
   "metadata": {},
   "outputs": [
    {
     "name": "stdout",
     "output_type": "stream",
     "text": [
      "Index(['period', 'stateDescription', 'fuelTypeDescription', 'ash-content',\n",
      "       'consumption-for-eg-btu', 'consumption-uto-btu', 'cost-per-btu',\n",
      "       'generation', 'heat-content', 'receipts-btu', 'stocks',\n",
      "       'sulfur-content', 'total-consumption-btu'],\n",
      "      dtype='object')\n"
     ]
    }
   ],
   "source": [
    "# Drop the not needed columns for our objective\n",
    "epo_cleaned_df = epo_cleaned_df.drop([\n",
    "    'location', 'sectorid', 'fueltypeid', 'sectorDescription', 'ash-content-units', 'consumption-for-eg-units',\n",
    "    'consumption-for-eg-btu-units', 'consumption-uto-units', 'consumption-uto-btu-units', 'cost-units', 'cost-per-btu-units',\n",
    "    'generation-units', 'heat-content-units', 'receipts-units', 'receipts-btu-units', 'stocks-units', 'sulfur-content-units',\n",
    "    'total-consumption-units', 'total-consumption-btu-units', 'consumption-for-eg', 'consumption-uto', 'cost', 'receipts', 'total-consumption'\n",
    "], axis = 1)\n",
    "print(epo_cleaned_df.columns)"
   ]
  },
  {
   "cell_type": "code",
   "execution_count": 10,
   "id": "7edf1c10",
   "metadata": {},
   "outputs": [
    {
     "name": "stdout",
     "output_type": "stream",
     "text": [
      "epo fuelTypeDescription\n",
      "biomass                                     75729\n",
      "all fuels                                   42153\n",
      "fossil fuels                                40516\n",
      "natural gas & other gases                   38337\n",
      "renewable                                   38017\n",
      "natural gas                                 37957\n",
      "petroleum                                   36290\n",
      "petroleum liquids                           36220\n",
      "distillate fuel oil                         35446\n",
      "all renewables                              35187\n",
      "renewable waste products                    28506\n",
      "all coal products                           26782\n",
      "coal, excluding waste coal                  26699\n",
      "other                                       23207\n",
      "conventional hydroelectric                  23156\n",
      "bituminous coal                             22200\n",
      "bituminous coal and synthetic coal          22159\n",
      "municiapl landfill gas                      21377\n",
      "landfill gas                                20493\n",
      "other renewables                            19938\n",
      "onshore wind turbine                        19267\n",
      "wood and wood wastes                        19109\n",
      "residual fuel oil                           18754\n",
      "wind                                        18568\n",
      "solar photovoltaic                          18052\n",
      "solar                                       18026\n",
      "waste oil and other oils                    17661\n",
      "subbituminous coal                          17495\n",
      "estimated total solar                       11256\n",
      "estimated total solar photovoltaic          11231\n",
      "estimated small scale solar photovoltaic    11114\n",
      "biogenic municipal solid waste              10817\n",
      "other gases                                 10548\n",
      "nuclear                                     10480\n",
      "petroleum coke                              10408\n",
      "hydro-electric pumped storage                6831\n",
      "waste coal                                   5172\n",
      "lignite coal                                 3986\n",
      "refined coal                                 3925\n",
      "geothermal                                   3374\n",
      "solar thermal                                2684\n",
      "anthracite coal                               514\n",
      "offshore wind turbine                         359\n",
      "Name: count, dtype: int64\n"
     ]
    }
   ],
   "source": [
    "# Print out the value_counts() in fuelTypeDescription for epo_cleaned_df\n",
    "print('epo', epo_cleaned_df['fuelTypeDescription'].value_counts())"
   ]
  },
  {
   "cell_type": "code",
   "execution_count": 11,
   "id": "cd6dd5fe",
   "metadata": {},
   "outputs": [],
   "source": [
    "# Remove all rows where fuelTypeDescription for epo_cleaned_df is 'all coal products', 'all fuels', or 'all renewables'\n",
    "epo_cleaned_df = epo_cleaned_df[\n",
    "    ~epo_cleaned_df['fuelTypeDescription'].isin([\n",
    "        'all coal products', 'all fuels', 'all renewables'\n",
    "    ])\n",
    "]\n",
    "\n",
    "# Take only rows where stateDescription is in 'U.S. Total' since we are only interested in the national level then drop the\n",
    "# column afterward as we do not need it for our objective\n",
    "epo_cleaned_df = epo_cleaned_df[epo_cleaned_df['stateDescription'].isin(['U.S. Total'])].drop(columns = 'stateDescription')"
   ]
  },
  {
   "cell_type": "code",
   "execution_count": 12,
   "id": "3dd98e4d",
   "metadata": {},
   "outputs": [
    {
     "data": {
      "text/html": [
       "<div>\n",
       "<style scoped>\n",
       "    .dataframe tbody tr th:only-of-type {\n",
       "        vertical-align: middle;\n",
       "    }\n",
       "\n",
       "    .dataframe tbody tr th {\n",
       "        vertical-align: top;\n",
       "    }\n",
       "\n",
       "    .dataframe thead th {\n",
       "        text-align: right;\n",
       "    }\n",
       "</style>\n",
       "<table border=\"1\" class=\"dataframe\">\n",
       "  <thead>\n",
       "    <tr style=\"text-align: right;\">\n",
       "      <th></th>\n",
       "      <th>period</th>\n",
       "      <th>fuelTypeDescription</th>\n",
       "      <th>ash-content</th>\n",
       "      <th>consumption-for-eg-btu</th>\n",
       "      <th>consumption-uto-btu</th>\n",
       "      <th>cost-per-btu</th>\n",
       "      <th>generation</th>\n",
       "      <th>heat-content</th>\n",
       "      <th>receipts-btu</th>\n",
       "      <th>stocks</th>\n",
       "      <th>sulfur-content</th>\n",
       "      <th>total-consumption-btu</th>\n",
       "    </tr>\n",
       "  </thead>\n",
       "  <tbody>\n",
       "    <tr>\n",
       "      <th>35</th>\n",
       "      <td>2008-01</td>\n",
       "      <td>biogenic municipal solid waste</td>\n",
       "      <td>NaN</td>\n",
       "      <td>0.33181</td>\n",
       "      <td>0.0</td>\n",
       "      <td>NaN</td>\n",
       "      <td>16.22972</td>\n",
       "      <td>NaN</td>\n",
       "      <td>0.0000</td>\n",
       "      <td>0.0</td>\n",
       "      <td>NaN</td>\n",
       "      <td>0.33181</td>\n",
       "    </tr>\n",
       "    <tr>\n",
       "      <th>36</th>\n",
       "      <td>2008-01</td>\n",
       "      <td>natural gas</td>\n",
       "      <td>0.0</td>\n",
       "      <td>218.25615</td>\n",
       "      <td>0.0</td>\n",
       "      <td>8.3075</td>\n",
       "      <td>25795.45248</td>\n",
       "      <td>1.0237</td>\n",
       "      <td>221807.3309</td>\n",
       "      <td>0.0</td>\n",
       "      <td>0.0</td>\n",
       "      <td>218.25615</td>\n",
       "    </tr>\n",
       "    <tr>\n",
       "      <th>40</th>\n",
       "      <td>2008-01</td>\n",
       "      <td>nuclear</td>\n",
       "      <td>NaN</td>\n",
       "      <td>400.12862</td>\n",
       "      <td>0.0</td>\n",
       "      <td>NaN</td>\n",
       "      <td>38151.08900</td>\n",
       "      <td>NaN</td>\n",
       "      <td>NaN</td>\n",
       "      <td>NaN</td>\n",
       "      <td>NaN</td>\n",
       "      <td>400.12862</td>\n",
       "    </tr>\n",
       "    <tr>\n",
       "      <th>41</th>\n",
       "      <td>2008-01</td>\n",
       "      <td>biomass</td>\n",
       "      <td>NaN</td>\n",
       "      <td>0.24026</td>\n",
       "      <td>0.0</td>\n",
       "      <td>NaN</td>\n",
       "      <td>19.57995</td>\n",
       "      <td>NaN</td>\n",
       "      <td>0.0000</td>\n",
       "      <td>0.0</td>\n",
       "      <td>NaN</td>\n",
       "      <td>0.24026</td>\n",
       "    </tr>\n",
       "    <tr>\n",
       "      <th>42</th>\n",
       "      <td>2008-01</td>\n",
       "      <td>other gases</td>\n",
       "      <td>0.0</td>\n",
       "      <td>0.19821</td>\n",
       "      <td>0.0</td>\n",
       "      <td>19.2457</td>\n",
       "      <td>4.84800</td>\n",
       "      <td>1.3020</td>\n",
       "      <td>NaN</td>\n",
       "      <td>0.0</td>\n",
       "      <td>0.0</td>\n",
       "      <td>0.19821</td>\n",
       "    </tr>\n",
       "  </tbody>\n",
       "</table>\n",
       "</div>"
      ],
      "text/plain": [
       "     period             fuelTypeDescription  ash-content  \\\n",
       "35  2008-01  biogenic municipal solid waste          NaN   \n",
       "36  2008-01                     natural gas          0.0   \n",
       "40  2008-01                         nuclear          NaN   \n",
       "41  2008-01                         biomass          NaN   \n",
       "42  2008-01                     other gases          0.0   \n",
       "\n",
       "    consumption-for-eg-btu  consumption-uto-btu  cost-per-btu   generation  \\\n",
       "35                 0.33181                  0.0           NaN     16.22972   \n",
       "36               218.25615                  0.0        8.3075  25795.45248   \n",
       "40               400.12862                  0.0           NaN  38151.08900   \n",
       "41                 0.24026                  0.0           NaN     19.57995   \n",
       "42                 0.19821                  0.0       19.2457      4.84800   \n",
       "\n",
       "    heat-content  receipts-btu  stocks  sulfur-content  total-consumption-btu  \n",
       "35           NaN        0.0000     0.0             NaN                0.33181  \n",
       "36        1.0237   221807.3309     0.0             0.0              218.25615  \n",
       "40           NaN           NaN     NaN             NaN              400.12862  \n",
       "41           NaN        0.0000     0.0             NaN                0.24026  \n",
       "42        1.3020           NaN     0.0             0.0                0.19821  "
      ]
     },
     "execution_count": 12,
     "metadata": {},
     "output_type": "execute_result"
    }
   ],
   "source": [
    "epo_cleaned_df.head()"
   ]
  },
  {
   "cell_type": "code",
   "execution_count": 13,
   "id": "a5d6854a",
   "metadata": {},
   "outputs": [
    {
     "name": "stderr",
     "output_type": "stream",
     "text": [
      "C:\\Users\\khang\\AppData\\Local\\Temp\\ipykernel_36176\\2673199919.py:31: FutureWarning: Setting an item of incompatible dtype is deprecated and will raise in a future error of pandas. Value 'fossil fuels' has dtype incompatible with float64, please explicitly cast to a compatible dtype first.\n",
      "  tmp_df.loc[tmp_df[check_col] == item, new_col] = bin_name\n"
     ]
    }
   ],
   "source": [
    "# Create bins based on fuel type description into 'Fossil Fuels', 'Renewables', and 'Others' for epo_cleaned_df under\n",
    "# energySource\n",
    "epo_ff_source = [\n",
    "    'anthracite coal', 'bituminous coal', 'bituminous coal and synthetic coal', 'coal, excluding waste coal', \n",
    "    'distillate fuel oil', 'fossil fuels', 'ignite coal', 'natural gas', 'natural gas & other gases', 'other gases', \n",
    "    'petroleum', 'petroleum coke', 'petroleum liquids', 'refined coal', 'residual fuel oil', 'subbituminous coal', 'lignite coal'\n",
    "]\n",
    "\n",
    "epo_renew_source = [\n",
    "    'biogenic municipal solid waste', 'biomass', 'conventional hydroelectric', 'estimated small scale solar photovoltaic', \n",
    "    'estimated total solar', 'estimated total solar photovoltaic', 'geothermal', 'hydro-electric pumped storage', \n",
    "    'landfill gas', 'municiapl landfill gas', 'offshore wind turbine', 'onshore wind turbine', 'renewable', \n",
    "    'renewable waste products', 'solar', 'solar photovoltaic', 'solar thermal', 'waste coal', 'waste oil and other oils', \n",
    "    'wind', 'wood and wood wastes', 'other renewables'\n",
    "]\n",
    "\n",
    "epo_oth_source = [item for item in epo_cleaned_df['fuelTypeDescription'].value_counts().index if (item not in epo_ff_source and item not in epo_renew_source)]\n",
    "\n",
    "epo_cleaned_df = category_bin(epo_cleaned_df, 'fuelTypeDescription', epo_ff_source, 'fossil fuels', 'energySource')\n",
    "epo_cleaned_df = category_bin(epo_cleaned_df, 'fuelTypeDescription', epo_renew_source, 'renewables', 'energySource')\n",
    "epo_cleaned_df = category_bin(epo_cleaned_df, 'fuelTypeDescription', epo_oth_source, 'others', 'energySource')"
   ]
  },
  {
   "cell_type": "code",
   "execution_count": 14,
   "id": "56221787",
   "metadata": {},
   "outputs": [
    {
     "data": {
      "text/plain": [
       "energySource\n",
       "renewables      13741\n",
       "fossil fuels    10714\n",
       "others           1115\n",
       "Name: count, dtype: int64"
      ]
     },
     "execution_count": 14,
     "metadata": {},
     "output_type": "execute_result"
    }
   ],
   "source": [
    "# Check the value_counts() again to make sure binning was done correctly\n",
    "epo_cleaned_df['energySource'].value_counts()"
   ]
  },
  {
   "cell_type": "code",
   "execution_count": 15,
   "id": "4f5c0656",
   "metadata": {},
   "outputs": [],
   "source": [
    "# Fill in NaN columns as 0 then set these columns as float\n",
    "# 'ash-content', 'consumption-for-eg-btu', 'consumption-uto-btu', 'cost-per-btu', 'generation', 'heat-content',\n",
    "# 'receipts-btu', 'sulfur-content', 'total-consumption-btu'\n",
    "\n",
    "# Other units (in case needed more features): 'consumption-for-eg', 'consumption-uto', 'cost', 'receipts', 'total-consumption',\n",
    "# 'stocks'\n",
    "epo_cols = [\n",
    "    'ash-content', 'consumption-for-eg-btu', 'consumption-uto-btu', 'cost-per-btu', 'generation', 'heat-content',\n",
    "    'receipts-btu', 'sulfur-content', 'total-consumption-btu', 'stocks'\n",
    "]\n",
    "\n",
    "for col in epo_cols:\n",
    "    epo_cleaned_df = fix_nan(epo_cleaned_df, epo_cols)"
   ]
  },
  {
   "cell_type": "code",
   "execution_count": 16,
   "id": "b2242973",
   "metadata": {},
   "outputs": [
    {
     "data": {
      "text/html": [
       "<div>\n",
       "<style scoped>\n",
       "    .dataframe tbody tr th:only-of-type {\n",
       "        vertical-align: middle;\n",
       "    }\n",
       "\n",
       "    .dataframe tbody tr th {\n",
       "        vertical-align: top;\n",
       "    }\n",
       "\n",
       "    .dataframe thead th {\n",
       "        text-align: right;\n",
       "    }\n",
       "</style>\n",
       "<table border=\"1\" class=\"dataframe\">\n",
       "  <thead>\n",
       "    <tr style=\"text-align: right;\">\n",
       "      <th></th>\n",
       "      <th>period</th>\n",
       "      <th>fuelTypeDescription</th>\n",
       "      <th>ash-content</th>\n",
       "      <th>consumption-for-eg-btu</th>\n",
       "      <th>consumption-uto-btu</th>\n",
       "      <th>cost-per-btu</th>\n",
       "      <th>generation</th>\n",
       "      <th>heat-content</th>\n",
       "      <th>receipts-btu</th>\n",
       "      <th>stocks</th>\n",
       "      <th>sulfur-content</th>\n",
       "      <th>total-consumption-btu</th>\n",
       "      <th>energySource</th>\n",
       "    </tr>\n",
       "  </thead>\n",
       "  <tbody>\n",
       "    <tr>\n",
       "      <th>35</th>\n",
       "      <td>2008-01</td>\n",
       "      <td>biogenic municipal solid waste</td>\n",
       "      <td>0.0</td>\n",
       "      <td>0.33181</td>\n",
       "      <td>0.0</td>\n",
       "      <td>0.0000</td>\n",
       "      <td>16.22972</td>\n",
       "      <td>0.0000</td>\n",
       "      <td>0.0000</td>\n",
       "      <td>0.0</td>\n",
       "      <td>0.0</td>\n",
       "      <td>0.33181</td>\n",
       "      <td>renewables</td>\n",
       "    </tr>\n",
       "    <tr>\n",
       "      <th>36</th>\n",
       "      <td>2008-01</td>\n",
       "      <td>natural gas</td>\n",
       "      <td>0.0</td>\n",
       "      <td>218.25615</td>\n",
       "      <td>0.0</td>\n",
       "      <td>8.3075</td>\n",
       "      <td>25795.45248</td>\n",
       "      <td>1.0237</td>\n",
       "      <td>221807.3309</td>\n",
       "      <td>0.0</td>\n",
       "      <td>0.0</td>\n",
       "      <td>218.25615</td>\n",
       "      <td>fossil fuels</td>\n",
       "    </tr>\n",
       "    <tr>\n",
       "      <th>40</th>\n",
       "      <td>2008-01</td>\n",
       "      <td>nuclear</td>\n",
       "      <td>0.0</td>\n",
       "      <td>400.12862</td>\n",
       "      <td>0.0</td>\n",
       "      <td>0.0000</td>\n",
       "      <td>38151.08900</td>\n",
       "      <td>0.0000</td>\n",
       "      <td>0.0000</td>\n",
       "      <td>0.0</td>\n",
       "      <td>0.0</td>\n",
       "      <td>400.12862</td>\n",
       "      <td>others</td>\n",
       "    </tr>\n",
       "    <tr>\n",
       "      <th>41</th>\n",
       "      <td>2008-01</td>\n",
       "      <td>biomass</td>\n",
       "      <td>0.0</td>\n",
       "      <td>0.24026</td>\n",
       "      <td>0.0</td>\n",
       "      <td>0.0000</td>\n",
       "      <td>19.57995</td>\n",
       "      <td>0.0000</td>\n",
       "      <td>0.0000</td>\n",
       "      <td>0.0</td>\n",
       "      <td>0.0</td>\n",
       "      <td>0.24026</td>\n",
       "      <td>renewables</td>\n",
       "    </tr>\n",
       "    <tr>\n",
       "      <th>42</th>\n",
       "      <td>2008-01</td>\n",
       "      <td>other gases</td>\n",
       "      <td>0.0</td>\n",
       "      <td>0.19821</td>\n",
       "      <td>0.0</td>\n",
       "      <td>19.2457</td>\n",
       "      <td>4.84800</td>\n",
       "      <td>1.3020</td>\n",
       "      <td>0.0000</td>\n",
       "      <td>0.0</td>\n",
       "      <td>0.0</td>\n",
       "      <td>0.19821</td>\n",
       "      <td>fossil fuels</td>\n",
       "    </tr>\n",
       "  </tbody>\n",
       "</table>\n",
       "</div>"
      ],
      "text/plain": [
       "     period             fuelTypeDescription  ash-content  \\\n",
       "35  2008-01  biogenic municipal solid waste          0.0   \n",
       "36  2008-01                     natural gas          0.0   \n",
       "40  2008-01                         nuclear          0.0   \n",
       "41  2008-01                         biomass          0.0   \n",
       "42  2008-01                     other gases          0.0   \n",
       "\n",
       "    consumption-for-eg-btu  consumption-uto-btu  cost-per-btu   generation  \\\n",
       "35                 0.33181                  0.0        0.0000     16.22972   \n",
       "36               218.25615                  0.0        8.3075  25795.45248   \n",
       "40               400.12862                  0.0        0.0000  38151.08900   \n",
       "41                 0.24026                  0.0        0.0000     19.57995   \n",
       "42                 0.19821                  0.0       19.2457      4.84800   \n",
       "\n",
       "    heat-content  receipts-btu  stocks  sulfur-content  total-consumption-btu  \\\n",
       "35        0.0000        0.0000     0.0             0.0                0.33181   \n",
       "36        1.0237   221807.3309     0.0             0.0              218.25615   \n",
       "40        0.0000        0.0000     0.0             0.0              400.12862   \n",
       "41        0.0000        0.0000     0.0             0.0                0.24026   \n",
       "42        1.3020        0.0000     0.0             0.0                0.19821   \n",
       "\n",
       "    energySource  \n",
       "35    renewables  \n",
       "36  fossil fuels  \n",
       "40        others  \n",
       "41    renewables  \n",
       "42  fossil fuels  "
      ]
     },
     "metadata": {},
     "output_type": "display_data"
    },
    {
     "name": "stdout",
     "output_type": "stream",
     "text": [
      "epo's shape: (25570, 13)\n"
     ]
    }
   ],
   "source": [
    "# Review the cleaned DF before additional cleaning\n",
    "display(epo_cleaned_df.head())\n",
    "print('epo\\'s shape:', epo_cleaned_df.shape)"
   ]
  },
  {
   "cell_type": "code",
   "execution_count": 17,
   "id": "2dde8a6d",
   "metadata": {},
   "outputs": [],
   "source": [
    "# Drop the 'fuelTypeDescription' column since we are only looking at the high level of energy source\n",
    "epo_cleaned_df =  epo_cleaned_df.drop(columns = 'fuelTypeDescription')"
   ]
  },
  {
   "cell_type": "code",
   "execution_count": 18,
   "id": "152da152",
   "metadata": {},
   "outputs": [
    {
     "data": {
      "text/html": [
       "<div>\n",
       "<style scoped>\n",
       "    .dataframe tbody tr th:only-of-type {\n",
       "        vertical-align: middle;\n",
       "    }\n",
       "\n",
       "    .dataframe tbody tr th {\n",
       "        vertical-align: top;\n",
       "    }\n",
       "\n",
       "    .dataframe thead th {\n",
       "        text-align: right;\n",
       "    }\n",
       "</style>\n",
       "<table border=\"1\" class=\"dataframe\">\n",
       "  <thead>\n",
       "    <tr style=\"text-align: right;\">\n",
       "      <th></th>\n",
       "      <th>period</th>\n",
       "      <th>energySource</th>\n",
       "      <th>ash-content</th>\n",
       "      <th>consumption-for-eg-btu</th>\n",
       "      <th>consumption-uto-btu</th>\n",
       "      <th>cost-per-btu</th>\n",
       "      <th>generation</th>\n",
       "      <th>heat-content</th>\n",
       "      <th>receipts-btu</th>\n",
       "      <th>stocks</th>\n",
       "      <th>sulfur-content</th>\n",
       "      <th>total-consumption-btu</th>\n",
       "    </tr>\n",
       "  </thead>\n",
       "  <tbody>\n",
       "    <tr>\n",
       "      <th>0</th>\n",
       "      <td>2008-01</td>\n",
       "      <td>fossil fuels</td>\n",
       "      <td>3.12</td>\n",
       "      <td>281.61</td>\n",
       "      <td>10.36</td>\n",
       "      <td>7.00</td>\n",
       "      <td>28830.19</td>\n",
       "      <td>9.85</td>\n",
       "      <td>266757.42</td>\n",
       "      <td>23911.23</td>\n",
       "      <td>0.82</td>\n",
       "      <td>291.97</td>\n",
       "    </tr>\n",
       "    <tr>\n",
       "      <th>1</th>\n",
       "      <td>2008-01</td>\n",
       "      <td>others</td>\n",
       "      <td>0.00</td>\n",
       "      <td>251.47</td>\n",
       "      <td>0.88</td>\n",
       "      <td>0.00</td>\n",
       "      <td>23851.43</td>\n",
       "      <td>0.00</td>\n",
       "      <td>0.00</td>\n",
       "      <td>0.00</td>\n",
       "      <td>0.00</td>\n",
       "      <td>252.35</td>\n",
       "    </tr>\n",
       "    <tr>\n",
       "      <th>2</th>\n",
       "      <td>2008-01</td>\n",
       "      <td>renewables</td>\n",
       "      <td>2.65</td>\n",
       "      <td>14.39</td>\n",
       "      <td>4.72</td>\n",
       "      <td>1.06</td>\n",
       "      <td>1313.12</td>\n",
       "      <td>1.05</td>\n",
       "      <td>466.37</td>\n",
       "      <td>77.00</td>\n",
       "      <td>0.09</td>\n",
       "      <td>19.11</td>\n",
       "    </tr>\n",
       "    <tr>\n",
       "      <th>3</th>\n",
       "      <td>2008-02</td>\n",
       "      <td>fossil fuels</td>\n",
       "      <td>3.03</td>\n",
       "      <td>193.27</td>\n",
       "      <td>8.91</td>\n",
       "      <td>6.69</td>\n",
       "      <td>19511.71</td>\n",
       "      <td>11.03</td>\n",
       "      <td>191351.71</td>\n",
       "      <td>17899.89</td>\n",
       "      <td>1.16</td>\n",
       "      <td>202.18</td>\n",
       "    </tr>\n",
       "    <tr>\n",
       "      <th>4</th>\n",
       "      <td>2008-02</td>\n",
       "      <td>others</td>\n",
       "      <td>0.00</td>\n",
       "      <td>2.76</td>\n",
       "      <td>0.69</td>\n",
       "      <td>0.00</td>\n",
       "      <td>200.83</td>\n",
       "      <td>0.00</td>\n",
       "      <td>0.00</td>\n",
       "      <td>0.00</td>\n",
       "      <td>0.00</td>\n",
       "      <td>3.46</td>\n",
       "    </tr>\n",
       "  </tbody>\n",
       "</table>\n",
       "</div>"
      ],
      "text/plain": [
       "    period  energySource  ash-content  consumption-for-eg-btu  \\\n",
       "0  2008-01  fossil fuels         3.12                  281.61   \n",
       "1  2008-01        others         0.00                  251.47   \n",
       "2  2008-01    renewables         2.65                   14.39   \n",
       "3  2008-02  fossil fuels         3.03                  193.27   \n",
       "4  2008-02        others         0.00                    2.76   \n",
       "\n",
       "   consumption-uto-btu  cost-per-btu  generation  heat-content  receipts-btu  \\\n",
       "0                10.36          7.00    28830.19          9.85     266757.42   \n",
       "1                 0.88          0.00    23851.43          0.00          0.00   \n",
       "2                 4.72          1.06     1313.12          1.05        466.37   \n",
       "3                 8.91          6.69    19511.71         11.03     191351.71   \n",
       "4                 0.69          0.00      200.83          0.00          0.00   \n",
       "\n",
       "     stocks  sulfur-content  total-consumption-btu  \n",
       "0  23911.23            0.82                 291.97  \n",
       "1      0.00            0.00                 252.35  \n",
       "2     77.00            0.09                  19.11  \n",
       "3  17899.89            1.16                 202.18  \n",
       "4      0.00            0.00                   3.46  "
      ]
     },
     "metadata": {},
     "output_type": "display_data"
    },
    {
     "name": "stdout",
     "output_type": "stream",
     "text": [
      "epo's shape: (539, 12)\n"
     ]
    }
   ],
   "source": [
    "# Using groupby() and sum() functions to merge matching rows based on 'period', 'stateDescription', and 'energySource' \n",
    "# then round to the nearest 2. Note to also group the UOM columns as well.\n",
    "group_by = ['period', 'energySource']\n",
    "\n",
    "epo_cleaned_df = epo_cleaned_df.groupby(group_by).mean().round(2).reset_index()\n",
    "display(epo_cleaned_df.head())\n",
    "print('epo\\'s shape:', epo_cleaned_df.shape)"
   ]
  },
  {
   "cell_type": "code",
   "execution_count": 19,
   "id": "4f2f5a39",
   "metadata": {},
   "outputs": [
    {
     "data": {
      "text/html": [
       "<div>\n",
       "<style scoped>\n",
       "    .dataframe tbody tr th:only-of-type {\n",
       "        vertical-align: middle;\n",
       "    }\n",
       "\n",
       "    .dataframe tbody tr th {\n",
       "        vertical-align: top;\n",
       "    }\n",
       "\n",
       "    .dataframe thead th {\n",
       "        text-align: right;\n",
       "    }\n",
       "</style>\n",
       "<table border=\"1\" class=\"dataframe\">\n",
       "  <thead>\n",
       "    <tr style=\"text-align: right;\">\n",
       "      <th></th>\n",
       "      <th>period</th>\n",
       "      <th>energySource</th>\n",
       "      <th>ash-content</th>\n",
       "      <th>consumption-for-eg-btu</th>\n",
       "      <th>consumption-uto-btu</th>\n",
       "      <th>cost-per-btu</th>\n",
       "      <th>generation</th>\n",
       "      <th>heat-content</th>\n",
       "      <th>receipts-btu</th>\n",
       "      <th>stocks</th>\n",
       "      <th>sulfur-content</th>\n",
       "      <th>total-consumption-btu</th>\n",
       "    </tr>\n",
       "  </thead>\n",
       "  <tbody>\n",
       "    <tr>\n",
       "      <th>0</th>\n",
       "      <td>2008-01-01</td>\n",
       "      <td>fossil fuels</td>\n",
       "      <td>3.12</td>\n",
       "      <td>281.61</td>\n",
       "      <td>10.36</td>\n",
       "      <td>7.00</td>\n",
       "      <td>28830.19</td>\n",
       "      <td>9.85</td>\n",
       "      <td>266757.42</td>\n",
       "      <td>23911.23</td>\n",
       "      <td>0.82</td>\n",
       "      <td>291.97</td>\n",
       "    </tr>\n",
       "    <tr>\n",
       "      <th>1</th>\n",
       "      <td>2008-01-01</td>\n",
       "      <td>others</td>\n",
       "      <td>0.00</td>\n",
       "      <td>251.47</td>\n",
       "      <td>0.88</td>\n",
       "      <td>0.00</td>\n",
       "      <td>23851.43</td>\n",
       "      <td>0.00</td>\n",
       "      <td>0.00</td>\n",
       "      <td>0.00</td>\n",
       "      <td>0.00</td>\n",
       "      <td>252.35</td>\n",
       "    </tr>\n",
       "    <tr>\n",
       "      <th>2</th>\n",
       "      <td>2008-01-01</td>\n",
       "      <td>renewables</td>\n",
       "      <td>2.65</td>\n",
       "      <td>14.39</td>\n",
       "      <td>4.72</td>\n",
       "      <td>1.06</td>\n",
       "      <td>1313.12</td>\n",
       "      <td>1.05</td>\n",
       "      <td>466.37</td>\n",
       "      <td>77.00</td>\n",
       "      <td>0.09</td>\n",
       "      <td>19.11</td>\n",
       "    </tr>\n",
       "    <tr>\n",
       "      <th>3</th>\n",
       "      <td>2008-02-01</td>\n",
       "      <td>fossil fuels</td>\n",
       "      <td>3.03</td>\n",
       "      <td>193.27</td>\n",
       "      <td>8.91</td>\n",
       "      <td>6.69</td>\n",
       "      <td>19511.71</td>\n",
       "      <td>11.03</td>\n",
       "      <td>191351.71</td>\n",
       "      <td>17899.89</td>\n",
       "      <td>1.16</td>\n",
       "      <td>202.18</td>\n",
       "    </tr>\n",
       "    <tr>\n",
       "      <th>4</th>\n",
       "      <td>2008-02-01</td>\n",
       "      <td>others</td>\n",
       "      <td>0.00</td>\n",
       "      <td>2.76</td>\n",
       "      <td>0.69</td>\n",
       "      <td>0.00</td>\n",
       "      <td>200.83</td>\n",
       "      <td>0.00</td>\n",
       "      <td>0.00</td>\n",
       "      <td>0.00</td>\n",
       "      <td>0.00</td>\n",
       "      <td>3.46</td>\n",
       "    </tr>\n",
       "  </tbody>\n",
       "</table>\n",
       "</div>"
      ],
      "text/plain": [
       "       period  energySource  ash-content  consumption-for-eg-btu  \\\n",
       "0  2008-01-01  fossil fuels         3.12                  281.61   \n",
       "1  2008-01-01        others         0.00                  251.47   \n",
       "2  2008-01-01    renewables         2.65                   14.39   \n",
       "3  2008-02-01  fossil fuels         3.03                  193.27   \n",
       "4  2008-02-01        others         0.00                    2.76   \n",
       "\n",
       "   consumption-uto-btu  cost-per-btu  generation  heat-content  receipts-btu  \\\n",
       "0                10.36          7.00    28830.19          9.85     266757.42   \n",
       "1                 0.88          0.00    23851.43          0.00          0.00   \n",
       "2                 4.72          1.06     1313.12          1.05        466.37   \n",
       "3                 8.91          6.69    19511.71         11.03     191351.71   \n",
       "4                 0.69          0.00      200.83          0.00          0.00   \n",
       "\n",
       "     stocks  sulfur-content  total-consumption-btu  \n",
       "0  23911.23            0.82                 291.97  \n",
       "1      0.00            0.00                 252.35  \n",
       "2     77.00            0.09                  19.11  \n",
       "3  17899.89            1.16                 202.18  \n",
       "4      0.00            0.00                   3.46  "
      ]
     },
     "execution_count": 19,
     "metadata": {},
     "output_type": "execute_result"
    }
   ],
   "source": [
    "# Add first date to the period so we can transform it into date format\n",
    "epo_cleaned_df['period'] += '-01'\n",
    "epo_cleaned_df.head()"
   ]
  },
  {
   "cell_type": "code",
   "execution_count": 20,
   "id": "10f87339",
   "metadata": {},
   "outputs": [],
   "source": [
    "# Convert the period column to DateTime format\n",
    "epo_cleaned_df['period'] = pd.to_datetime(epo_cleaned_df['period'], format='%Y-%m-%d')"
   ]
  },
  {
   "cell_type": "code",
   "execution_count": 21,
   "id": "3d0f0456",
   "metadata": {},
   "outputs": [
    {
     "data": {
      "text/plain": [
       "period                    datetime64[ns]\n",
       "energySource                      object\n",
       "ash-content                      float64\n",
       "consumption-for-eg-btu           float64\n",
       "consumption-uto-btu              float64\n",
       "cost-per-btu                     float64\n",
       "generation                       float64\n",
       "heat-content                     float64\n",
       "receipts-btu                     float64\n",
       "stocks                           float64\n",
       "sulfur-content                   float64\n",
       "total-consumption-btu            float64\n",
       "dtype: object"
      ]
     },
     "execution_count": 21,
     "metadata": {},
     "output_type": "execute_result"
    }
   ],
   "source": [
    "# Check the column types\n",
    "epo_cleaned_df.dtypes"
   ]
  },
  {
   "cell_type": "code",
   "execution_count": 22,
   "id": "5a95868c",
   "metadata": {},
   "outputs": [
    {
     "data": {
      "text/plain": [
       "Index(['period', 'energySource', 'ash-content', 'consumption-for-eg-btu',\n",
       "       'consumption-uto-btu', 'cost-per-btu', 'generation', 'heat-content',\n",
       "       'receipts-btu', 'stocks', 'sulfur-content', 'total-consumption-btu'],\n",
       "      dtype='object')"
      ]
     },
     "execution_count": 22,
     "metadata": {},
     "output_type": "execute_result"
    }
   ],
   "source": [
    "epo_cleaned_df.columns"
   ]
  },
  {
   "cell_type": "code",
   "execution_count": 23,
   "id": "942b2bef",
   "metadata": {},
   "outputs": [],
   "source": [
    "# Export the cleanned DataFrame for epo_cleaned_df into csv and json\n",
    "epo_cleaned_df.to_csv('../static/data/epo_2012_2022_cleaned.csv', index = False)\n",
    "epo_cleaned_df.to_json('../static/data/epo_2012_2022_cleaned.json', orient = 'records', date_format = 'iso')"
   ]
  },
  {
   "cell_type": "markdown",
   "id": "223e28fc",
   "metadata": {},
   "source": [
    "### Database Storing\n",
    "---"
   ]
  },
  {
   "cell_type": "code",
   "execution_count": 24,
   "id": "21d18e47",
   "metadata": {},
   "outputs": [],
   "source": [
    "# Import dependencies for handling the database\n",
    "from os import path, remove\n",
    "from sqlalchemy import create_engine, text\n",
    "from sqlalchemy.orm import Session"
   ]
  },
  {
   "cell_type": "code",
   "execution_count": 25,
   "id": "a3158788",
   "metadata": {},
   "outputs": [],
   "source": [
    "# Setup the db path\n",
    "db_path = '../static/data/eia_electric.sqlite'\n",
    "\n",
    "# Delete the existing database if it exists\n",
    "if path.exists(db_path):\n",
    "    remove(db_path)"
   ]
  },
  {
   "cell_type": "code",
   "execution_count": 26,
   "id": "ab817da3",
   "metadata": {},
   "outputs": [],
   "source": [
    "# Setup the engine and connect the database\n",
    "engine = create_engine(f'sqlite:///{db_path}')\n",
    "conn = engine.connect()"
   ]
  },
  {
   "cell_type": "code",
   "execution_count": 27,
   "id": "fce7b675",
   "metadata": {},
   "outputs": [],
   "source": [
    "# Create session for querying later to verify tables have been created correctly\n",
    "session = Session(bind = engine)"
   ]
  },
  {
   "cell_type": "code",
   "execution_count": 28,
   "id": "35ce5cdf",
   "metadata": {},
   "outputs": [
    {
     "data": {
      "text/plain": [
       "539"
      ]
     },
     "execution_count": 28,
     "metadata": {},
     "output_type": "execute_result"
    }
   ],
   "source": [
    "# Append the epo_cleaned_df to the database created\n",
    "epo_cleaned_df.to_sql(name = 'epo', con = engine, if_exists = 'replace', index = False)"
   ]
  },
  {
   "cell_type": "code",
   "execution_count": 29,
   "id": "4282ad5e",
   "metadata": {},
   "outputs": [
    {
     "data": {
      "text/plain": [
       "('2008-01-01 00:00:00.000000', 'fossil fuels', 3.12, 281.61, 10.36, 7.0, 28830.19, 9.85, 266757.42, 23911.23, 0.82, 291.97)"
      ]
     },
     "execution_count": 29,
     "metadata": {},
     "output_type": "execute_result"
    }
   ],
   "source": [
    "session.execute(text('SELECT * from epo')).fetchone()"
   ]
  },
  {
   "cell_type": "code",
   "execution_count": 30,
   "id": "4f7c7429",
   "metadata": {},
   "outputs": [],
   "source": [
    "# Close out of the session and engine\n",
    "session.close()\n",
    "engine.dispose()"
   ]
  },
  {
   "cell_type": "code",
   "execution_count": null,
   "id": "c3191910",
   "metadata": {},
   "outputs": [],
   "source": []
  }
 ],
 "metadata": {
  "kernelspec": {
   "display_name": "Python 3 (ipykernel)",
   "language": "python",
   "name": "python3"
  },
  "language_info": {
   "codemirror_mode": {
    "name": "ipython",
    "version": 3
   },
   "file_extension": ".py",
   "mimetype": "text/x-python",
   "name": "python",
   "nbconvert_exporter": "python",
   "pygments_lexer": "ipython3",
   "version": "3.11.5"
  }
 },
 "nbformat": 4,
 "nbformat_minor": 5
}
