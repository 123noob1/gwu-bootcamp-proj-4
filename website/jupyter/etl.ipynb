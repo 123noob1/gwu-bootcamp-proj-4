{
 "cells": [
  {
   "cell_type": "markdown",
   "id": "4e4b3947",
   "metadata": {},
   "source": [
    "# Extract, Transform, Load (ETL)\n",
    "---\n",
    "* Source `https://www.eia.gov/opendata/browser/`\n",
    "* Main Route `Electricity`\n",
    "    * Sub Route 1 - `Electric Power Operations (Annual And Monthly)`    \n",
    "    * Sub Route 2 - `State Specific Data`\n",
    "        * Sub Sub Route - `Emissions From Energy Consumption At Conventional Power Plants and Combined-Heat-And-Power Plants`\n",
    "* Year range `2012` to `2022`\n",
    "---\n",
    "API Key can be obtained via signing up via `https://www.eia.gov/opendata/` then added to to the variable `api_key` located under the `config.py` file. Additionally, the API url path can be obtained after choosing the primary route and its subroutes which can then be copied and used here.\n",
    "\n",
    "More information regarding EIA's API documentation can be found at `https://www.eia.gov/opendata/documentation.php`.\n",
    "\n",
    "**Goal** - Combine the 2 different sub-routes for Electricity dating back from 2012 to 2022 to get a data report to help with the Machine Learning (ML) process to determine the most sustainable type of fuel category for electricity generation by:<br/>\n",
    "* Categorizing fuel types into the following bin:\n",
    "    * `Fossil fuels` - anthracite coal, bituminous coal, bituminous coal and syntehtic coal, 'coal, excluding waste coal', distillate fuel oil, fossil fuels, ignite coal, natural gas, natural gas & other gases, other gases, petroleum, petroleum coke, petroleum liquids, refined coal, residual fuel oil, subbituminous coal, lignite coal\n",
    "        * From Emission data - coal, natural gas, petroleum\n",
    "    * `Renewables` - biogenic municipal solid waste, biomass, conventional hydroelectric, estimated small scale solar photovoltaic, estimated total solar, estimated total solar photovoltaic, geothermal, hydro-electric pumped storage, landfill gas, municiapl landfill gas, offshore wind turbine, onshore wind turbine, renewable, renewable waste products, solar, solar photovoltaic, solar thermal, waste coal, waste oil and other oils, wind, wood and wood wastes, other renewables\n",
    "        * From Emission data - total\n",
    "    * `Others` - nuclear, other (sources not specified by EIA)\n",
    "\n",
    "Binning information is based on sources from `https://www.eia.gov/tools/faqs/faq.php?id=427&t=3`, `https://www.eia.gov/electricity/data/browser/`, and `https://www.eia.gov/dnav/pet/TblDefs/pet_cons_821dst_tbldef2.asp`."
   ]
  },
  {
   "cell_type": "code",
   "execution_count": 1,
   "id": "d1dc6ec0",
   "metadata": {},
   "outputs": [],
   "source": [
    "# Import dependencies\n",
    "from config import api_key\n",
    "import json\n",
    "import requests\n",
    "import pandas as pd"
   ]
  },
  {
   "cell_type": "markdown",
   "id": "0376006e",
   "metadata": {},
   "source": [
    "### Functions"
   ]
  },
  {
   "cell_type": "code",
   "execution_count": 2,
   "id": "f50ead2d",
   "metadata": {},
   "outputs": [],
   "source": [
    "def request_to_df(url, api_key, years = []):\n",
    "    '''Function to request data from target API by looping through the years provided to return as a list before combining into one DataFrame'''\n",
    "    data = []\n",
    "    \n",
    "    for year in years:\n",
    "        api_path = url.replace('||KEY||', api_key).replace('||START||', year).replace('||END||', year)\n",
    "        \n",
    "        # Send the request\n",
    "        response = requests.get(api_path).json()\n",
    "        \n",
    "        # Verify the response and raise error if bad response returned otherwise pass it into a DataFrame before returning it\n",
    "        if (not 'warning' in response.keys()) and (not 'error' in response.keys()) :\n",
    "            data += response['response']['data']\n",
    "        else:\n",
    "            raise Exception('Bad request submitted or no response received from the source API, verify that the url and/or offset provided is correct')\n",
    "    \n",
    "    df = pd.DataFrame(data)\n",
    "    return df\n",
    "\n",
    "def category_bin(df, check_col, list_to_bin, bin_name, new_col = ''):\n",
    "    '''\n",
    "        Function to create a bin category for a DataFrame based on the provided list then replace existing value with a bin category.\n",
    "        If new_col is provided, a new column will be created for the binned category\n",
    "    '''\n",
    "    tmp_df = df.copy()\n",
    "    \n",
    "    for item in list_to_bin:\n",
    "        if new_col == '' or new_col.isspace():\n",
    "            tmp_df[check_col] = tmp_df[check_col].replace(item, bin_name)\n",
    "        else:\n",
    "            tmp_df.loc[tmp_df[check_col] == item, new_col] = bin_name\n",
    "    \n",
    "    return tmp_df\n",
    "\n",
    "def fix_nan(df, col, fill_value = 0, to_type = 'float'):\n",
    "    '''Function to fill the selected column's NaN value with the provided value and change it type'''\n",
    "    tmp_df = df.copy()\n",
    "    tmp_df[col] = tmp_df[col].fillna(fill_value)\n",
    "    tmp_df[col] = tmp_df[col].astype(to_type)\n",
    "    \n",
    "    return tmp_df"
   ]
  },
  {
   "cell_type": "markdown",
   "id": "79496e29",
   "metadata": {},
   "source": [
    "### Extract"
   ]
  },
  {
   "cell_type": "code",
   "execution_count": 3,
   "id": "73b31ad5",
   "metadata": {},
   "outputs": [],
   "source": [
    "# Set years for the API to go through\n",
    "years = ['2012', '2013', '2014', '2015', '2016', '2017', '2018', '2019', '2020', '2021', '2022']\n",
    "\n",
    "# Set up the paths for retrieving the data into DataFrames with ||START|| and ||END|| for start and end parameter\n",
    "epo_url = 'https://api.eia.gov/v2/electricity/electric-power-operational-data/data/?api_key=||KEY||&frequency=annual&data[0]=ash-content&data[1]=consumption-for-eg&data[2]=consumption-for-eg-btu&data[3]=consumption-uto&data[4]=consumption-uto-btu&data[5]=cost&data[6]=cost-per-btu&data[7]=generation&data[8]=heat-content&data[9]=receipts&data[10]=receipts-btu&data[11]=stocks&data[12]=sulfur-content&data[13]=total-consumption&data[14]=total-consumption-btu&start=||START||&end=||END||&sort[0][column]=period&sort[0][direction]=desc&offset=0&length=5000'\n",
    "emission_url = 'https://api.eia.gov/v2/electricity/state-electricity-profiles/emissions-by-state-by-fuel/data/?api_key=||KEY||&frequency=annual&data[0]=co2-rate-lbs-mwh&data[1]=co2-thousand-metric-tons&data[2]=nox-rate-lbs-mwh&data[3]=nox-short-tons&data[4]=so2-rate-lbs-mwh&data[5]=so2-short-tons&start=||START||&end=||END||&sort[0][column]=period&sort[0][direction]=desc&offset=0&length=5000'"
   ]
  },
  {
   "cell_type": "code",
   "execution_count": 4,
   "id": "ba262e85",
   "metadata": {},
   "outputs": [],
   "source": [
    "# Get the request and create the DataFrames\n",
    "epo_raw_df = request_to_df(epo_url, api_key, years)\n",
    "emission_raw_df = request_to_df(emission_url, api_key, years)"
   ]
  },
  {
   "cell_type": "code",
   "execution_count": 5,
   "id": "3e873b91",
   "metadata": {},
   "outputs": [],
   "source": [
    "# Export out raw data to csv files\n",
    "epo_raw_df.to_csv('../static/data/epo_2012_2022_raw.csv', index = False)\n",
    "emission_raw_df.to_csv('../static/data/emission_2012_2022_raw.csv', index = False)"
   ]
  },
  {
   "cell_type": "code",
   "execution_count": 6,
   "id": "94068d38",
   "metadata": {
    "scrolled": true
   },
   "outputs": [
    {
     "data": {
      "text/plain": [
       "Index(['period', 'location', 'stateDescription', 'sectorid',\n",
       "       'sectorDescription', 'fueltypeid', 'fuelTypeDescription', 'ash-content',\n",
       "       'ash-content-units', 'consumption-for-eg', 'consumption-for-eg-units',\n",
       "       'consumption-for-eg-btu', 'consumption-for-eg-btu-units',\n",
       "       'consumption-uto', 'consumption-uto-units', 'consumption-uto-btu',\n",
       "       'consumption-uto-btu-units', 'cost', 'cost-units', 'cost-per-btu',\n",
       "       'cost-per-btu-units', 'generation', 'generation-units', 'heat-content',\n",
       "       'heat-content-units', 'receipts', 'receipts-units', 'receipts-btu',\n",
       "       'receipts-btu-units', 'stocks', 'stocks-units', 'sulfur-content',\n",
       "       'sulfur-content-units', 'total-consumption', 'total-consumption-units',\n",
       "       'total-consumption-btu', 'total-consumption-btu-units'],\n",
       "      dtype='object')"
      ]
     },
     "execution_count": 6,
     "metadata": {},
     "output_type": "execute_result"
    }
   ],
   "source": [
    "# Print out the keys for epo\n",
    "epo_raw_df.keys()"
   ]
  },
  {
   "cell_type": "code",
   "execution_count": 7,
   "id": "68485df9",
   "metadata": {},
   "outputs": [
    {
     "data": {
      "text/plain": [
       "period                          object\n",
       "location                        object\n",
       "stateDescription                object\n",
       "sectorid                        object\n",
       "sectorDescription               object\n",
       "fueltypeid                      object\n",
       "fuelTypeDescription             object\n",
       "ash-content                     object\n",
       "ash-content-units               object\n",
       "consumption-for-eg              object\n",
       "consumption-for-eg-units        object\n",
       "consumption-for-eg-btu          object\n",
       "consumption-for-eg-btu-units    object\n",
       "consumption-uto                 object\n",
       "consumption-uto-units           object\n",
       "consumption-uto-btu             object\n",
       "consumption-uto-btu-units       object\n",
       "cost                            object\n",
       "cost-units                      object\n",
       "cost-per-btu                    object\n",
       "cost-per-btu-units              object\n",
       "generation                      object\n",
       "generation-units                object\n",
       "heat-content                    object\n",
       "heat-content-units              object\n",
       "receipts                        object\n",
       "receipts-units                  object\n",
       "receipts-btu                    object\n",
       "receipts-btu-units              object\n",
       "stocks                          object\n",
       "stocks-units                    object\n",
       "sulfur-content                  object\n",
       "sulfur-content-units            object\n",
       "total-consumption               object\n",
       "total-consumption-units         object\n",
       "total-consumption-btu           object\n",
       "total-consumption-btu-units     object\n",
       "dtype: object"
      ]
     },
     "execution_count": 7,
     "metadata": {},
     "output_type": "execute_result"
    }
   ],
   "source": [
    "# Print out the types\n",
    "epo_raw_df.dtypes"
   ]
  },
  {
   "cell_type": "code",
   "execution_count": 8,
   "id": "8449cbf4",
   "metadata": {},
   "outputs": [
    {
     "data": {
      "text/plain": [
       "Index(['period', 'stateid', 'stateDescription', 'fuelid', 'fuelDescription',\n",
       "       'co2-rate-lbs-mwh', 'co2-thousand-metric-tons', 'nox-rate-lbs-mwh',\n",
       "       'nox-short-tons', 'so2-rate-lbs-mwh', 'so2-short-tons',\n",
       "       'co2-rate-lbs-mwh-units', 'co2-thousand-metric-tons-units',\n",
       "       'nox-rate-lbs-mwh-units', 'nox-short-tons-units',\n",
       "       'so2-rate-lbs-mwh-units', 'so2-short-tons-units'],\n",
       "      dtype='object')"
      ]
     },
     "execution_count": 8,
     "metadata": {},
     "output_type": "execute_result"
    }
   ],
   "source": [
    "# Print out the keys for emission\n",
    "emission_raw_df.keys()"
   ]
  },
  {
   "cell_type": "code",
   "execution_count": 9,
   "id": "bde6567e",
   "metadata": {},
   "outputs": [
    {
     "data": {
      "text/plain": [
       "period                            object\n",
       "stateid                           object\n",
       "stateDescription                  object\n",
       "fuelid                            object\n",
       "fuelDescription                   object\n",
       "co2-rate-lbs-mwh                  object\n",
       "co2-thousand-metric-tons          object\n",
       "nox-rate-lbs-mwh                  object\n",
       "nox-short-tons                    object\n",
       "so2-rate-lbs-mwh                  object\n",
       "so2-short-tons                    object\n",
       "co2-rate-lbs-mwh-units            object\n",
       "co2-thousand-metric-tons-units    object\n",
       "nox-rate-lbs-mwh-units            object\n",
       "nox-short-tons-units              object\n",
       "so2-rate-lbs-mwh-units            object\n",
       "so2-short-tons-units              object\n",
       "dtype: object"
      ]
     },
     "execution_count": 9,
     "metadata": {},
     "output_type": "execute_result"
    }
   ],
   "source": [
    "# Print out the types\n",
    "emission_raw_df.dtypes"
   ]
  },
  {
   "cell_type": "markdown",
   "id": "73abdd29",
   "metadata": {},
   "source": [
    "### Transform"
   ]
  },
  {
   "cell_type": "code",
   "execution_count": 10,
   "id": "f9013ab7",
   "metadata": {},
   "outputs": [],
   "source": [
    "# Create copies of the DataFrames\n",
    "epo_cleaned_df = epo_raw_df.copy()\n",
    "emission_cleaned_df = emission_raw_df.copy()"
   ]
  },
  {
   "cell_type": "markdown",
   "id": "ab87f2d0",
   "metadata": {},
   "source": [
    "---\n",
    "**epo_df**"
   ]
  },
  {
   "cell_type": "code",
   "execution_count": 11,
   "id": "216cb0cc",
   "metadata": {},
   "outputs": [
    {
     "name": "stdout",
     "output_type": "stream",
     "text": [
      "Index(['period', 'stateDescription', 'sectorDescription',\n",
      "       'fuelTypeDescription', 'ash-content', 'ash-content-units',\n",
      "       'consumption-for-eg', 'consumption-for-eg-units',\n",
      "       'consumption-for-eg-btu', 'consumption-for-eg-btu-units',\n",
      "       'consumption-uto', 'consumption-uto-units', 'consumption-uto-btu',\n",
      "       'consumption-uto-btu-units', 'cost', 'cost-units', 'cost-per-btu',\n",
      "       'cost-per-btu-units', 'generation', 'generation-units', 'heat-content',\n",
      "       'heat-content-units', 'receipts', 'receipts-units', 'receipts-btu',\n",
      "       'receipts-btu-units', 'stocks', 'stocks-units', 'sulfur-content',\n",
      "       'sulfur-content-units', 'total-consumption', 'total-consumption-units',\n",
      "       'total-consumption-btu', 'total-consumption-btu-units'],\n",
      "      dtype='object')\n"
     ]
    }
   ],
   "source": [
    "# Drop 'location', 'stateDescription', 'sectorid', 'sectorDescription', 'fueltypeid', 'consumption-for-eg', 'consumption-for-eg-units'\n",
    "# 'consumption-uto', 'consumption-uto-units', 'cost', 'cost-units', 'receipts', 'receipts-units', 'total-consumption', 'total-consumption-units' \n",
    "# 'stocks-units', 'stocks'\n",
    "# columns from epo_cleaned_dfabs\n",
    "epo_cleaned_df = epo_cleaned_df.drop(['location', 'sectorid', 'fueltypeid'], axis = 1)\n",
    "print(epo_cleaned_df.columns)"
   ]
  },
  {
   "cell_type": "code",
   "execution_count": 12,
   "id": "7edf1c10",
   "metadata": {},
   "outputs": [
    {
     "name": "stdout",
     "output_type": "stream",
     "text": [
      "epo fuelTypeDescription\n",
      "biomass                                     4525\n",
      "all fuels                                   2546\n",
      "fossil fuels                                2366\n",
      "natural gas & other gases                   2318\n",
      "natural gas                                 2222\n",
      "renewable                                   2205\n",
      "petroleum                                   2190\n",
      "all renewables                              2130\n",
      "petroleum liquids                           2110\n",
      "distillate fuel oil                         2097\n",
      "renewable waste products                    1718\n",
      "all coal products                           1613\n",
      "coal, excluding waste coal                  1535\n",
      "other                                       1418\n",
      "conventional hydroelectric                  1374\n",
      "solar photovoltaic                          1338\n",
      "solar                                       1312\n",
      "bituminous coal                             1269\n",
      "municiapl landfill gas                      1256\n",
      "bituminous coal and synthetic coal          1251\n",
      "other renewables                            1249\n",
      "onshore wind turbine                        1195\n",
      "wind                                        1176\n",
      "landfill gas                                1159\n",
      "wood and wood wastes                        1156\n",
      "residual fuel oil                           1110\n",
      "waste oil and other oils                    1108\n",
      "subbituminous coal                          1069\n",
      "estimated total solar                        925\n",
      "estimated total solar photovoltaic           922\n",
      "estimated small scale solar photovoltaic     866\n",
      "petroleum coke                               628\n",
      "nuclear                                      621\n",
      "other gases                                  584\n",
      "biogenic municipal solid waste               545\n",
      "hydro-electric pumped storage                454\n",
      "waste coal                                   362\n",
      "refined coal                                 324\n",
      "lignite coal                                 261\n",
      "geothermal                                   225\n",
      "solar thermal                                150\n",
      "anthracite coal                               80\n",
      "offshore wind turbine                         38\n",
      "Name: count, dtype: int64\n"
     ]
    }
   ],
   "source": [
    "# Print out the value_counts() in fuelTypeDescription for epo_cleaned_df\n",
    "print('epo', epo_cleaned_df['fuelTypeDescription'].value_counts())"
   ]
  },
  {
   "cell_type": "code",
   "execution_count": 13,
   "id": "cd6dd5fe",
   "metadata": {},
   "outputs": [],
   "source": [
    "# Remove all rows where fuelTypeDescription for epo_cleaned_df is 'all coal products', 'all fuels', or 'all renewables'\n",
    "epo_cleaned_df = epo_cleaned_df[\n",
    "    ~epo_cleaned_df['fuelTypeDescription'].isin([\n",
    "        'all coal products', 'all fuels', 'all renewables'\n",
    "    ])\n",
    "]\n",
    "\n",
    "# Remove all rows where stateDescription contains 'U.S. Total'\n",
    "epo_cleaned_df = epo_cleaned_df[\n",
    "    ~epo_cleaned_df['stateDescription'].isin(['U.S. Total'])\n",
    "]"
   ]
  },
  {
   "cell_type": "code",
   "execution_count": 14,
   "id": "a5d6854a",
   "metadata": {},
   "outputs": [
    {
     "name": "stderr",
     "output_type": "stream",
     "text": [
      "C:\\Users\\khang\\AppData\\Local\\Temp\\ipykernel_45212\\2673199919.py:31: FutureWarning: Setting an item of incompatible dtype is deprecated and will raise in a future error of pandas. Value 'fossil fuels' has dtype incompatible with float64, please explicitly cast to a compatible dtype first.\n",
      "  tmp_df.loc[tmp_df[check_col] == item, new_col] = bin_name\n"
     ]
    }
   ],
   "source": [
    "# Create bins based on fuel type description into 'Fossil Fuels', 'Renewables', and 'Others' for epo_cleaned_df under\n",
    "# energySource\n",
    "epo_ff_source = [\n",
    "    'anthracite coal', 'bituminous coal', 'bituminous coal and synthetic coal', 'coal, excluding waste coal', \n",
    "    'distillate fuel oil', 'fossil fuels', 'ignite coal', 'natural gas', 'natural gas & other gases', 'other gases', \n",
    "    'petroleum', 'petroleum coke', 'petroleum liquids', 'refined coal', 'residual fuel oil', 'subbituminous coal', 'lignite coal'\n",
    "]\n",
    "\n",
    "epo_renew_source = [\n",
    "    'biogenic municipal solid waste', 'biomass', 'conventional hydroelectric', 'estimated small scale solar photovoltaic', \n",
    "    'estimated total solar', 'estimated total solar photovoltaic', 'geothermal', 'hydro-electric pumped storage', \n",
    "    'landfill gas', 'municiapl landfill gas', 'offshore wind turbine', 'onshore wind turbine', 'renewable', \n",
    "    'renewable waste products', 'solar', 'solar photovoltaic', 'solar thermal', 'waste coal', 'waste oil and other oils', \n",
    "    'wind', 'wood and wood wastes', 'other renewables'\n",
    "]\n",
    "\n",
    "epo_oth_source = [item for item in epo_cleaned_df['fuelTypeDescription'].value_counts().index if (item not in epo_ff_source and item not in epo_renew_source)]\n",
    "\n",
    "epo_cleaned_df = category_bin(epo_cleaned_df, 'fuelTypeDescription', epo_ff_source, 'fossil fuels', 'energySource')\n",
    "epo_cleaned_df = category_bin(epo_cleaned_df, 'fuelTypeDescription', epo_renew_source, 'renewables', 'energySource')\n",
    "epo_cleaned_df = category_bin(epo_cleaned_df, 'fuelTypeDescription', epo_oth_source, 'others', 'energySource')"
   ]
  },
  {
   "cell_type": "code",
   "execution_count": 15,
   "id": "56221787",
   "metadata": {},
   "outputs": [
    {
     "data": {
      "text/plain": [
       "energySource\n",
       "renewables      24400\n",
       "fossil fuels    20716\n",
       "others           1954\n",
       "Name: count, dtype: int64"
      ]
     },
     "execution_count": 15,
     "metadata": {},
     "output_type": "execute_result"
    }
   ],
   "source": [
    "# Check the value_counts() again to make sure binning was done correctly\n",
    "epo_cleaned_df['energySource'].value_counts()"
   ]
  },
  {
   "cell_type": "code",
   "execution_count": 16,
   "id": "4f5c0656",
   "metadata": {},
   "outputs": [],
   "source": [
    "# Fill in NaN columns as 0 then set these columns as float\n",
    "# 'ash-content', 'consumption-for-eg-btu', 'consumption-uto-btu', 'cost-per-btu', 'generation', 'heat-content',\n",
    "# 'receipts-btu', 'sulfur-content', 'total-consumption-btu'\n",
    "#\n",
    "# Other units (in case needed more features): 'consumption-for-eg', 'consumption-uto', 'cost', 'receipts', 'total-consumption',\n",
    "# 'stocks'\n",
    "epo_cols = [\n",
    "    'ash-content', 'consumption-for-eg-btu', 'consumption-uto-btu', 'cost-per-btu', 'generation', 'heat-content',\n",
    "    'receipts-btu', 'sulfur-content', 'total-consumption-btu', 'consumption-for-eg', 'consumption-uto', 'cost', \n",
    "    'receipts', 'total-consumption', 'stocks'\n",
    "]\n",
    "\n",
    "for col in epo_cols:\n",
    "    epo_cleaned_df = fix_nan(epo_cleaned_df, epo_cols)\n",
    "    \n"
   ]
  },
  {
   "cell_type": "code",
   "execution_count": 17,
   "id": "52c49ccc",
   "metadata": {},
   "outputs": [],
   "source": [
    "# Convert the period column to DateTime format\n",
    "epo_cleaned_df['period'] = pd.to_datetime(epo_cleaned_df['period'], format='%Y')"
   ]
  },
  {
   "cell_type": "code",
   "execution_count": 18,
   "id": "978110f1",
   "metadata": {},
   "outputs": [
    {
     "data": {
      "text/plain": [
       "period                          datetime64[ns]\n",
       "stateDescription                        object\n",
       "sectorDescription                       object\n",
       "fuelTypeDescription                     object\n",
       "ash-content                            float64\n",
       "ash-content-units                       object\n",
       "consumption-for-eg                     float64\n",
       "consumption-for-eg-units                object\n",
       "consumption-for-eg-btu                 float64\n",
       "consumption-for-eg-btu-units            object\n",
       "consumption-uto                        float64\n",
       "consumption-uto-units                   object\n",
       "consumption-uto-btu                    float64\n",
       "consumption-uto-btu-units               object\n",
       "cost                                   float64\n",
       "cost-units                              object\n",
       "cost-per-btu                           float64\n",
       "cost-per-btu-units                      object\n",
       "generation                             float64\n",
       "generation-units                        object\n",
       "heat-content                           float64\n",
       "heat-content-units                      object\n",
       "receipts                               float64\n",
       "receipts-units                          object\n",
       "receipts-btu                           float64\n",
       "receipts-btu-units                      object\n",
       "stocks                                 float64\n",
       "stocks-units                            object\n",
       "sulfur-content                         float64\n",
       "sulfur-content-units                    object\n",
       "total-consumption                      float64\n",
       "total-consumption-units                 object\n",
       "total-consumption-btu                  float64\n",
       "total-consumption-btu-units             object\n",
       "energySource                            object\n",
       "dtype: object"
      ]
     },
     "execution_count": 18,
     "metadata": {},
     "output_type": "execute_result"
    }
   ],
   "source": [
    "# Check the column types\n",
    "epo_cleaned_df.dtypes"
   ]
  },
  {
   "cell_type": "code",
   "execution_count": 19,
   "id": "5a95868c",
   "metadata": {},
   "outputs": [
    {
     "data": {
      "text/plain": [
       "Index(['period', 'stateDescription', 'sectorDescription',\n",
       "       'fuelTypeDescription', 'ash-content', 'ash-content-units',\n",
       "       'consumption-for-eg', 'consumption-for-eg-units',\n",
       "       'consumption-for-eg-btu', 'consumption-for-eg-btu-units',\n",
       "       'consumption-uto', 'consumption-uto-units', 'consumption-uto-btu',\n",
       "       'consumption-uto-btu-units', 'cost', 'cost-units', 'cost-per-btu',\n",
       "       'cost-per-btu-units', 'generation', 'generation-units', 'heat-content',\n",
       "       'heat-content-units', 'receipts', 'receipts-units', 'receipts-btu',\n",
       "       'receipts-btu-units', 'stocks', 'stocks-units', 'sulfur-content',\n",
       "       'sulfur-content-units', 'total-consumption', 'total-consumption-units',\n",
       "       'total-consumption-btu', 'total-consumption-btu-units', 'energySource'],\n",
       "      dtype='object')"
      ]
     },
     "execution_count": 19,
     "metadata": {},
     "output_type": "execute_result"
    }
   ],
   "source": [
    "epo_cleaned_df.columns"
   ]
  },
  {
   "cell_type": "code",
   "execution_count": 20,
   "id": "942b2bef",
   "metadata": {},
   "outputs": [],
   "source": [
    "# Rearrange the energySource to be next to fuelTypeDescription\n",
    "epo_cleaned_df = epo_cleaned_df[[\n",
    "    'period', 'stateDescription', 'sectorDescription',\n",
    "    'energySource', 'fuelTypeDescription', 'ash-content', 'ash-content-units',\n",
    "    'consumption-for-eg', 'consumption-for-eg-units',\n",
    "    'consumption-for-eg-btu', 'consumption-for-eg-btu-units',\n",
    "    'consumption-uto', 'consumption-uto-units', 'consumption-uto-btu',\n",
    "    'consumption-uto-btu-units', 'cost', 'cost-units', 'cost-per-btu',\n",
    "    'cost-per-btu-units', 'generation', 'generation-units', 'heat-content',\n",
    "    'heat-content-units', 'receipts', 'receipts-units', 'receipts-btu',\n",
    "    'receipts-btu-units', 'stocks', 'stocks-units', 'sulfur-content',\n",
    "    'sulfur-content-units', 'total-consumption', 'total-consumption-units',\n",
    "    'total-consumption-btu', 'total-consumption-btu-units'\n",
    "]]\n",
    "\n",
    "# Export the cleanned DataFrame for epo_cleaned_df into csv\n",
    "epo_cleaned_df.to_csv('../static/data/epo_2012_2022_cleaned.csv', index = False)"
   ]
  },
  {
   "cell_type": "markdown",
   "id": "b93fc8ba",
   "metadata": {},
   "source": [
    "**emission_df**"
   ]
  },
  {
   "cell_type": "code",
   "execution_count": 21,
   "id": "398fdd52",
   "metadata": {},
   "outputs": [
    {
     "name": "stdout",
     "output_type": "stream",
     "text": [
      "Index(['period', 'stateDescription', 'fuelDescription',\n",
      "       'co2-thousand-metric-tons', 'nox-short-tons', 'so2-short-tons',\n",
      "       'co2-thousand-metric-tons-units', 'nox-short-tons-units',\n",
      "       'so2-short-tons-units'],\n",
      "      dtype='object')\n"
     ]
    }
   ],
   "source": [
    "# Drop columns 'stateid', 'stateDescription', 'fuelid', 'co2-rate-lbs-mwh', 'nox-rate-lbs-mwh', 'so2-rate-lbs-mwh',\n",
    "# 'co2-rate-lbs-mwh-units', 'nox-rate-lbs-mwh-units', 'so2-rate-lbs-mwh-units' from emission_cleaned_df\n",
    "emission_cleaned_df = emission_cleaned_df.drop([\n",
    "    'stateid', 'fuelid', 'co2-rate-lbs-mwh', 'nox-rate-lbs-mwh', 'so2-rate-lbs-mwh',\n",
    "    'co2-rate-lbs-mwh-units', 'nox-rate-lbs-mwh-units', 'so2-rate-lbs-mwh-units'\n",
    "], axis = 1)\n",
    "print(emission_cleaned_df.columns)"
   ]
  },
  {
   "cell_type": "code",
   "execution_count": 22,
   "id": "afcd1f41",
   "metadata": {},
   "outputs": [
    {
     "name": "stdout",
     "output_type": "stream",
     "text": [
      "emission fuelDescription\n",
      "Total          572\n",
      "Petroleum      567\n",
      "Natural Gas    561\n",
      "Other          561\n",
      "Coal           529\n",
      "Name: count, dtype: int64\n"
     ]
    }
   ],
   "source": [
    "# Print out the unique values in fuelDescription for emission_cleaned_df\n",
    "print('emission', emission_cleaned_df['fuelDescription'].value_counts())"
   ]
  },
  {
   "cell_type": "code",
   "execution_count": 23,
   "id": "bbfdfb1c",
   "metadata": {},
   "outputs": [
    {
     "name": "stderr",
     "output_type": "stream",
     "text": [
      "C:\\Users\\khang\\AppData\\Local\\Temp\\ipykernel_45212\\2673199919.py:31: FutureWarning: Setting an item of incompatible dtype is deprecated and will raise in a future error of pandas. Value 'fossil fuels' has dtype incompatible with float64, please explicitly cast to a compatible dtype first.\n",
      "  tmp_df.loc[tmp_df[check_col] == item, new_col] = bin_name\n"
     ]
    }
   ],
   "source": [
    "# Create bins based on fuel type description into 'Fossil Fuels', 'Renewables', and 'Others' for emission_cleaned_df under\n",
    "# energySource\n",
    "emission_ff_source = ['Petroleum', 'Natural Gas', 'Coal']\n",
    "emission_renew_source = ['Total']\n",
    "emission_oth_source = ['Other']\n",
    "\n",
    "emission_cleaned_df = category_bin(emission_cleaned_df, 'fuelDescription', emission_ff_source, 'fossil fuels', 'energySource')\n",
    "emission_cleaned_df = category_bin(emission_cleaned_df, 'fuelDescription', emission_renew_source, 'renewables', 'energySource')\n",
    "emission_cleaned_df = category_bin(emission_cleaned_df, 'fuelDescription', emission_oth_source, 'others', 'energySource')"
   ]
  },
  {
   "cell_type": "code",
   "execution_count": 24,
   "id": "49bf3975",
   "metadata": {},
   "outputs": [
    {
     "data": {
      "text/plain": [
       "energySource\n",
       "fossil fuels    1657\n",
       "renewables       572\n",
       "others           561\n",
       "Name: count, dtype: int64"
      ]
     },
     "execution_count": 24,
     "metadata": {},
     "output_type": "execute_result"
    }
   ],
   "source": [
    "# Check the value_counts() again to make sure binning was done correctly\n",
    "emission_cleaned_df['energySource'].value_counts()"
   ]
  },
  {
   "cell_type": "code",
   "execution_count": 25,
   "id": "d3af61bf",
   "metadata": {},
   "outputs": [],
   "source": [
    "# Fill in NaN columns as 0 then set these columns as float\n",
    "# 'co2-thousand-metric-tons', 'nox-short-tons', 'so2-short-tons'\n",
    "emission_cols = ['co2-thousand-metric-tons', 'nox-short-tons', 'so2-short-tons']\n",
    "\n",
    "for col in emission_cols:\n",
    "    emission_cleaned_df = fix_nan(emission_cleaned_df, emission_cols)"
   ]
  },
  {
   "cell_type": "code",
   "execution_count": 26,
   "id": "c26a153c",
   "metadata": {},
   "outputs": [
    {
     "data": {
      "text/plain": [
       "Index(['period', 'stateDescription', 'fuelDescription',\n",
       "       'co2-thousand-metric-tons', 'nox-short-tons', 'so2-short-tons',\n",
       "       'co2-thousand-metric-tons-units', 'nox-short-tons-units',\n",
       "       'so2-short-tons-units', 'energySource'],\n",
       "      dtype='object')"
      ]
     },
     "execution_count": 26,
     "metadata": {},
     "output_type": "execute_result"
    }
   ],
   "source": [
    "# Print out the columns\n",
    "emission_cleaned_df.columns"
   ]
  },
  {
   "cell_type": "code",
   "execution_count": 27,
   "id": "31c2be99",
   "metadata": {},
   "outputs": [],
   "source": [
    "# Convert the period column to DateTime format\n",
    "emission_cleaned_df['period'] = pd.to_datetime(emission_cleaned_df['period'], format='%Y')"
   ]
  },
  {
   "cell_type": "code",
   "execution_count": 28,
   "id": "b9f3b15c",
   "metadata": {},
   "outputs": [
    {
     "data": {
      "text/plain": [
       "period                            datetime64[ns]\n",
       "stateDescription                          object\n",
       "fuelDescription                           object\n",
       "co2-thousand-metric-tons                 float64\n",
       "nox-short-tons                           float64\n",
       "so2-short-tons                           float64\n",
       "co2-thousand-metric-tons-units            object\n",
       "nox-short-tons-units                      object\n",
       "so2-short-tons-units                      object\n",
       "energySource                              object\n",
       "dtype: object"
      ]
     },
     "execution_count": 28,
     "metadata": {},
     "output_type": "execute_result"
    }
   ],
   "source": [
    "# Check the column types\n",
    "emission_cleaned_df.dtypes"
   ]
  },
  {
   "cell_type": "code",
   "execution_count": 29,
   "id": "05b812ca",
   "metadata": {},
   "outputs": [],
   "source": [
    "# Rearrange the energySource to be next to fuelTypeDescription\n",
    "emission_cleaned_df = emission_cleaned_df[[\n",
    "    'period', 'stateDescription', 'energySource', 'fuelDescription',\n",
    "    'co2-thousand-metric-tons', 'nox-short-tons', 'so2-short-tons',\n",
    "    'co2-thousand-metric-tons-units', 'nox-short-tons-units',\n",
    "    'so2-short-tons-units'\n",
    "]]\n",
    "\n",
    "# Export the cleanned DataFrame for epo_cleaned_df into csv\n",
    "emission_cleaned_df.to_csv('../static/data/emission_2012_2022_cleaned.csv', index = False)"
   ]
  },
  {
   "cell_type": "markdown",
   "id": "223e28fc",
   "metadata": {},
   "source": [
    "### Database Storing\n",
    "---"
   ]
  },
  {
   "cell_type": "code",
   "execution_count": 30,
   "id": "21d18e47",
   "metadata": {},
   "outputs": [],
   "source": [
    "# Import dependencies for handling the database\n",
    "from os import path, remove\n",
    "from sqlalchemy import create_engine, text\n",
    "from sqlalchemy.orm import Session"
   ]
  },
  {
   "cell_type": "code",
   "execution_count": 31,
   "id": "a3158788",
   "metadata": {},
   "outputs": [],
   "source": [
    "# Setup the db path\n",
    "db_path = '../static/data/eia_electric.sqlite'\n",
    "\n",
    "# Delete the existing database if it exists\n",
    "if path.exists(db_path):\n",
    "    remove(db_path)"
   ]
  },
  {
   "cell_type": "code",
   "execution_count": 32,
   "id": "ab817da3",
   "metadata": {},
   "outputs": [],
   "source": [
    "# Setup the engine and connect the database\n",
    "engine = create_engine(f'sqlite:///{db_path}')\n",
    "conn = engine.connect()"
   ]
  },
  {
   "cell_type": "code",
   "execution_count": 33,
   "id": "fce7b675",
   "metadata": {},
   "outputs": [],
   "source": [
    "# Create session for querying later to verify tables have been created correctly\n",
    "session = Session(bind = engine)"
   ]
  },
  {
   "cell_type": "code",
   "execution_count": 34,
   "id": "35ce5cdf",
   "metadata": {},
   "outputs": [
    {
     "data": {
      "text/plain": [
       "47070"
      ]
     },
     "execution_count": 34,
     "metadata": {},
     "output_type": "execute_result"
    }
   ],
   "source": [
    "# Append the epo_cleaned_df to the database created\n",
    "epo_cleaned_df.to_sql(name = 'epo', con = engine, if_exists = 'replace', index = False)"
   ]
  },
  {
   "cell_type": "code",
   "execution_count": 35,
   "id": "4282ad5e",
   "metadata": {},
   "outputs": [
    {
     "data": {
      "text/plain": [
       "('2012-01-01 00:00:00.000000', 'West North Central', 'Electric Power Sector Non-CHP', 'fossil fuels', 'bituminous coal and synthetic coal', 9.55, 'percent', 1057.505, 'thousand short tons', 22.17242, 'million MMBtu', 0.0, 'thousand short tons', 0.0, 'million MMBtu', 0.0, 'dollars per short tons', 0.0, 'dollars per million Btu', 1940.31236, 'thousand megawatthours', 20.9667, 'Btu per short tons', 1019.951, 'thousand short tons', 22552.23513, 'billion Btu', 0.0, 'thousand short tons', 2.98, 'percent', 1057.505, 'thousand short tons', 22.17242, 'million MMBtu')"
      ]
     },
     "execution_count": 35,
     "metadata": {},
     "output_type": "execute_result"
    }
   ],
   "source": [
    "session.execute(text('SELECT * from epo')).fetchone()"
   ]
  },
  {
   "cell_type": "code",
   "execution_count": 36,
   "id": "6e05972f",
   "metadata": {},
   "outputs": [
    {
     "data": {
      "text/plain": [
       "2790"
      ]
     },
     "execution_count": 36,
     "metadata": {},
     "output_type": "execute_result"
    }
   ],
   "source": [
    "# Append the emission_cleaned_df to the database created\n",
    "emission_cleaned_df.to_sql(name = 'emission', con = engine, if_exists = 'replace', index = False)"
   ]
  },
  {
   "cell_type": "code",
   "execution_count": 37,
   "id": "775985e9",
   "metadata": {},
   "outputs": [
    {
     "data": {
      "text/plain": [
       "('2012-01-01 00:00:00.000000', 'Utah', 'fossil fuels', 'Natural Gas', 3113.0, 2126.0, 17.0, 'thousand metric tons', 'short tons', 'short tons')"
      ]
     },
     "execution_count": 37,
     "metadata": {},
     "output_type": "execute_result"
    }
   ],
   "source": [
    "session.execute(text('SELECT * from emission')).fetchone()"
   ]
  },
  {
   "cell_type": "code",
   "execution_count": 38,
   "id": "4f7c7429",
   "metadata": {},
   "outputs": [],
   "source": [
    "# Close out of the session and engine\n",
    "session.close()\n",
    "engine.dispose()"
   ]
  },
  {
   "cell_type": "code",
   "execution_count": null,
   "id": "c3191910",
   "metadata": {},
   "outputs": [],
   "source": []
  }
 ],
 "metadata": {
  "kernelspec": {
   "display_name": "Python 3 (ipykernel)",
   "language": "python",
   "name": "python3"
  },
  "language_info": {
   "codemirror_mode": {
    "name": "ipython",
    "version": 3
   },
   "file_extension": ".py",
   "mimetype": "text/x-python",
   "name": "python",
   "nbconvert_exporter": "python",
   "pygments_lexer": "ipython3",
   "version": "3.11.5"
  }
 },
 "nbformat": 4,
 "nbformat_minor": 5
}
