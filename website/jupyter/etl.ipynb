{
 "cells": [
  {
   "cell_type": "markdown",
   "id": "4e4b3947",
   "metadata": {},
   "source": [
    "# Extract, Transform, Load (ETL)\n",
    "---\n",
    "* Source `https://www.eia.gov/opendata/browser/`\n",
    "* Main Route `Electricity`\n",
    "    * Sub Route 1 - `Electric Power Operations (Annual And Monthly)`    \n",
    "    * Sub Route 2 - `State Specific Data`\n",
    "        * Sub Sub Route - `Emissions From Energy Consumption At Conventional Power Plants and Combined-Heat-And-Power Plants`\n",
    "* Year range `2012` to `2022`\n",
    "---\n",
    "API Key can be obtained via signing up via `https://www.eia.gov/opendata/` then added to to the variable `api_key` located under the `config.py` file. Additionally, the API url path can be obtained after choosing the primary route and its subroutes which can then be copied and used here.\n",
    "\n",
    "More information regarding EIA's API documentation can be found at `https://www.eia.gov/opendata/documentation.php`.\n",
    "\n",
    "**Goal** - Combine the 2 different sub-routes for Electricity dating back from 2012 to 2022 to get a data report to help with the Machine Learning (ML) process to determine the most sustainable type of fuel category for electricity generation by:<br/>\n",
    "* Categorizing fuel types into the following bin:\n",
    "    * `Fossil fuels` - anthracite coal, bituminous coal, bituminous coal and syntehtic coal, 'coal, excluding waste coal', distillate fuel oil, fossil fuels, ignite coal, natural gas, natural gas & other gases, other gases, petroleum, petroleum coke, petroleum liquids, refined coal, residual fuel oil, subbituminous coal, lignite coal\n",
    "        * From Emission data - coal, natural gas, petroleum\n",
    "    * `Renewables` - biogenic municipal solid waste, biomass, conventional hydroelectric, estimated small scale solar photovoltaic, estimated total solar, estimated total solar photovoltaic, geothermal, hydro-electric pumped storage, landfill gas, municiapl landfill gas, offshore wind turbine, onshore wind turbine, renewable, renewable waste products, solar, solar photovoltaic, solar thermal, waste coal, waste oil and other oils, wind, wood and wood wastes, other renewables\n",
    "        * From Emission data - total\n",
    "    * `Others` - nuclear, other (sources not specified by EIA)\n",
    "\n",
    "* Categorizing the stateDescription into regional bin and rename it as region:\n",
    "    * `West Region` - 'Alaska', 'California', 'Colorado', 'Hawaii', 'Idaho', 'Montana', 'Nevada', 'Oregon', 'Utah', 'Washington', 'Wyoming'\n",
    "    * `Southwest Region` - 'Arizona', 'New Mexico', 'Oklahoma', 'Texas'\n",
    "    * `Midwest Region` - 'Illinois', 'Indiana', 'Iowa', 'Kansas', 'Michigan', 'Minnesota', 'Missouri', 'Nebraska', 'North Dakota', 'Ohio', 'South Dakota', 'Wisconsin'\n",
    "    * `Southeast Region` - 'Alabama', 'Arkansas', 'Florida', 'Georgia', 'Kentucky', 'Louisiana', 'Mississippi', 'North Carolina', 'South Carolina', 'Tennessee', 'Virginia', 'West Virginia'\n",
    "    * `Northeast Region` - All other states not included in the above regions\n",
    "\n",
    "*Note:* We will also not be including Puerto Rico in the data and focus mainly just on the 50 states.\n",
    "\n",
    "Binning information is based on sources from `https://www.eia.gov/tools/faqs/faq.php?id=427&t=3`, `https://www.eia.gov/electricity/data/browser/`, and `https://www.eia.gov/dnav/pet/TblDefs/pet_cons_821dst_tbldef2.asp`."
   ]
  },
  {
   "cell_type": "code",
   "execution_count": 1,
   "id": "d1dc6ec0",
   "metadata": {},
   "outputs": [],
   "source": [
    "# Import dependencies\n",
    "from config import api_key\n",
    "import json\n",
    "import requests\n",
    "import pandas as pd"
   ]
  },
  {
   "cell_type": "markdown",
   "id": "0376006e",
   "metadata": {},
   "source": [
    "### Functions"
   ]
  },
  {
   "cell_type": "code",
   "execution_count": 2,
   "id": "f50ead2d",
   "metadata": {},
   "outputs": [],
   "source": [
    "def request_to_df(url, api_key, years = []):\n",
    "    '''Function to request data from target API by looping through the years provided to return as a list before combining into one DataFrame'''\n",
    "    data = []\n",
    "    \n",
    "    for year in years:\n",
    "        api_path = url.replace('||KEY||', api_key).replace('||START||', year).replace('||END||', year)\n",
    "        \n",
    "        # Send the request\n",
    "        response = requests.get(api_path).json()\n",
    "        \n",
    "        # Verify the response and raise error if bad response returned otherwise pass it into a DataFrame before returning it\n",
    "        if (not 'warning' in response.keys()) and (not 'error' in response.keys()) :\n",
    "            data += response['response']['data']\n",
    "        else:\n",
    "            raise Exception('Bad request submitted or no response received from the source API, verify that the url and/or offset provided is correct')\n",
    "    \n",
    "    df = pd.DataFrame(data)\n",
    "    return df\n",
    "\n",
    "def category_bin(df, check_col, list_to_bin, bin_name, new_col = ''):\n",
    "    '''\n",
    "        Function to create a bin category for a DataFrame based on the provided list then replace existing value with a bin category.\n",
    "        If new_col is provided, a new column will be created for the binned category\n",
    "    '''\n",
    "    tmp_df = df.copy()\n",
    "    \n",
    "    for item in list_to_bin:\n",
    "        if new_col == '' or new_col.isspace():\n",
    "            tmp_df[check_col] = tmp_df[check_col].replace(item, bin_name)\n",
    "        else:\n",
    "            tmp_df.loc[tmp_df[check_col] == item, new_col] = bin_name\n",
    "    \n",
    "    return tmp_df\n",
    "\n",
    "def fix_nan(df, col, fill_value = 0, to_type = 'float'):\n",
    "    '''Function to fill the selected column's NaN value with the provided value and change it type'''\n",
    "    tmp_df = df.copy()\n",
    "    tmp_df[col] = tmp_df[col].fillna(fill_value)\n",
    "    tmp_df[col] = tmp_df[col].astype(to_type)\n",
    "    \n",
    "    return tmp_df"
   ]
  },
  {
   "cell_type": "markdown",
   "id": "79496e29",
   "metadata": {},
   "source": [
    "### Extract"
   ]
  },
  {
   "cell_type": "code",
   "execution_count": 3,
   "id": "73b31ad5",
   "metadata": {},
   "outputs": [],
   "source": [
    "# Set years for the API to go through\n",
    "years = ['2012', '2013', '2014', '2015', '2016', '2017', '2018', '2019', '2020', '2021', '2022']\n",
    "\n",
    "# Set up the paths for retrieving the data into DataFrames with ||START|| and ||END|| for start and end parameter\n",
    "epo_url = 'https://api.eia.gov/v2/electricity/electric-power-operational-data/data/?api_key=||KEY||&frequency=annual&data[0]=ash-content&data[1]=consumption-for-eg&data[2]=consumption-for-eg-btu&data[3]=consumption-uto&data[4]=consumption-uto-btu&data[5]=cost&data[6]=cost-per-btu&data[7]=generation&data[8]=heat-content&data[9]=receipts&data[10]=receipts-btu&data[11]=stocks&data[12]=sulfur-content&data[13]=total-consumption&data[14]=total-consumption-btu&start=||START||&end=||END||&sort[0][column]=period&sort[0][direction]=desc&offset=0&length=5000'\n",
    "emission_url = 'https://api.eia.gov/v2/electricity/state-electricity-profiles/emissions-by-state-by-fuel/data/?api_key=||KEY||&frequency=annual&data[0]=co2-rate-lbs-mwh&data[1]=co2-thousand-metric-tons&data[2]=nox-rate-lbs-mwh&data[3]=nox-short-tons&data[4]=so2-rate-lbs-mwh&data[5]=so2-short-tons&start=||START||&end=||END||&sort[0][column]=period&sort[0][direction]=desc&offset=0&length=5000'"
   ]
  },
  {
   "cell_type": "code",
   "execution_count": 4,
   "id": "ba262e85",
   "metadata": {},
   "outputs": [],
   "source": [
    "# Get the request and create the DataFrames\n",
    "epo_raw_df = request_to_df(epo_url, api_key, years)\n",
    "emission_raw_df = request_to_df(emission_url, api_key, years)"
   ]
  },
  {
   "cell_type": "code",
   "execution_count": 5,
   "id": "3e873b91",
   "metadata": {},
   "outputs": [],
   "source": [
    "# Export out raw data to csv files\n",
    "epo_raw_df.to_csv('../static/data/epo_2012_2022_raw.csv', index = False)\n",
    "emission_raw_df.to_csv('../static/data/emission_2012_2022_raw.csv', index = False)"
   ]
  },
  {
   "cell_type": "code",
   "execution_count": 6,
   "id": "94068d38",
   "metadata": {
    "scrolled": true
   },
   "outputs": [
    {
     "data": {
      "text/plain": [
       "Index(['period', 'location', 'stateDescription', 'sectorid',\n",
       "       'sectorDescription', 'fueltypeid', 'fuelTypeDescription', 'ash-content',\n",
       "       'ash-content-units', 'consumption-for-eg', 'consumption-for-eg-units',\n",
       "       'consumption-for-eg-btu', 'consumption-for-eg-btu-units',\n",
       "       'consumption-uto', 'consumption-uto-units', 'consumption-uto-btu',\n",
       "       'consumption-uto-btu-units', 'cost', 'cost-units', 'cost-per-btu',\n",
       "       'cost-per-btu-units', 'generation', 'generation-units', 'heat-content',\n",
       "       'heat-content-units', 'receipts', 'receipts-units', 'receipts-btu',\n",
       "       'receipts-btu-units', 'stocks', 'stocks-units', 'sulfur-content',\n",
       "       'sulfur-content-units', 'total-consumption', 'total-consumption-units',\n",
       "       'total-consumption-btu', 'total-consumption-btu-units'],\n",
       "      dtype='object')"
      ]
     },
     "execution_count": 6,
     "metadata": {},
     "output_type": "execute_result"
    }
   ],
   "source": [
    "# Print out the keys for epo\n",
    "epo_raw_df.keys()"
   ]
  },
  {
   "cell_type": "code",
   "execution_count": 7,
   "id": "68485df9",
   "metadata": {},
   "outputs": [
    {
     "data": {
      "text/plain": [
       "period                          object\n",
       "location                        object\n",
       "stateDescription                object\n",
       "sectorid                        object\n",
       "sectorDescription               object\n",
       "fueltypeid                      object\n",
       "fuelTypeDescription             object\n",
       "ash-content                     object\n",
       "ash-content-units               object\n",
       "consumption-for-eg              object\n",
       "consumption-for-eg-units        object\n",
       "consumption-for-eg-btu          object\n",
       "consumption-for-eg-btu-units    object\n",
       "consumption-uto                 object\n",
       "consumption-uto-units           object\n",
       "consumption-uto-btu             object\n",
       "consumption-uto-btu-units       object\n",
       "cost                            object\n",
       "cost-units                      object\n",
       "cost-per-btu                    object\n",
       "cost-per-btu-units              object\n",
       "generation                      object\n",
       "generation-units                object\n",
       "heat-content                    object\n",
       "heat-content-units              object\n",
       "receipts                        object\n",
       "receipts-units                  object\n",
       "receipts-btu                    object\n",
       "receipts-btu-units              object\n",
       "stocks                          object\n",
       "stocks-units                    object\n",
       "sulfur-content                  object\n",
       "sulfur-content-units            object\n",
       "total-consumption               object\n",
       "total-consumption-units         object\n",
       "total-consumption-btu           object\n",
       "total-consumption-btu-units     object\n",
       "dtype: object"
      ]
     },
     "execution_count": 7,
     "metadata": {},
     "output_type": "execute_result"
    }
   ],
   "source": [
    "# Print out the types\n",
    "epo_raw_df.dtypes"
   ]
  },
  {
   "cell_type": "code",
   "execution_count": 8,
   "id": "8449cbf4",
   "metadata": {},
   "outputs": [
    {
     "data": {
      "text/plain": [
       "Index(['period', 'stateid', 'stateDescription', 'fuelid', 'fuelDescription',\n",
       "       'co2-rate-lbs-mwh', 'co2-thousand-metric-tons', 'nox-rate-lbs-mwh',\n",
       "       'nox-short-tons', 'so2-rate-lbs-mwh', 'so2-short-tons',\n",
       "       'co2-rate-lbs-mwh-units', 'co2-thousand-metric-tons-units',\n",
       "       'nox-rate-lbs-mwh-units', 'nox-short-tons-units',\n",
       "       'so2-rate-lbs-mwh-units', 'so2-short-tons-units'],\n",
       "      dtype='object')"
      ]
     },
     "execution_count": 8,
     "metadata": {},
     "output_type": "execute_result"
    }
   ],
   "source": [
    "# Print out the keys for emission\n",
    "emission_raw_df.keys()"
   ]
  },
  {
   "cell_type": "code",
   "execution_count": 9,
   "id": "bde6567e",
   "metadata": {},
   "outputs": [
    {
     "data": {
      "text/plain": [
       "period                            object\n",
       "stateid                           object\n",
       "stateDescription                  object\n",
       "fuelid                            object\n",
       "fuelDescription                   object\n",
       "co2-rate-lbs-mwh                  object\n",
       "co2-thousand-metric-tons          object\n",
       "nox-rate-lbs-mwh                  object\n",
       "nox-short-tons                    object\n",
       "so2-rate-lbs-mwh                  object\n",
       "so2-short-tons                    object\n",
       "co2-rate-lbs-mwh-units            object\n",
       "co2-thousand-metric-tons-units    object\n",
       "nox-rate-lbs-mwh-units            object\n",
       "nox-short-tons-units              object\n",
       "so2-rate-lbs-mwh-units            object\n",
       "so2-short-tons-units              object\n",
       "dtype: object"
      ]
     },
     "execution_count": 9,
     "metadata": {},
     "output_type": "execute_result"
    }
   ],
   "source": [
    "# Print out the types\n",
    "emission_raw_df.dtypes"
   ]
  },
  {
   "cell_type": "markdown",
   "id": "73abdd29",
   "metadata": {},
   "source": [
    "### Transform"
   ]
  },
  {
   "cell_type": "code",
   "execution_count": 10,
   "id": "f9013ab7",
   "metadata": {},
   "outputs": [],
   "source": [
    "# Create copies of the DataFrames\n",
    "epo_cleaned_df = epo_raw_df.copy()\n",
    "emission_cleaned_df = emission_raw_df.copy()"
   ]
  },
  {
   "cell_type": "markdown",
   "id": "ab87f2d0",
   "metadata": {},
   "source": [
    "---\n",
    "**epo_df**"
   ]
  },
  {
   "cell_type": "code",
   "execution_count": 11,
   "id": "216cb0cc",
   "metadata": {},
   "outputs": [
    {
     "name": "stdout",
     "output_type": "stream",
     "text": [
      "Index(['period', 'stateDescription', 'fuelTypeDescription', 'ash-content',\n",
      "       'ash-content-units', 'consumption-for-eg', 'consumption-for-eg-units',\n",
      "       'consumption-for-eg-btu', 'consumption-for-eg-btu-units',\n",
      "       'consumption-uto', 'consumption-uto-units', 'consumption-uto-btu',\n",
      "       'consumption-uto-btu-units', 'cost', 'cost-units', 'cost-per-btu',\n",
      "       'cost-per-btu-units', 'generation', 'generation-units', 'heat-content',\n",
      "       'heat-content-units', 'receipts', 'receipts-units', 'receipts-btu',\n",
      "       'receipts-btu-units', 'stocks', 'stocks-units', 'sulfur-content',\n",
      "       'sulfur-content-units', 'total-consumption', 'total-consumption-units',\n",
      "       'total-consumption-btu', 'total-consumption-btu-units'],\n",
      "      dtype='object')\n"
     ]
    }
   ],
   "source": [
    "# Drop 'location', 'sectorid', 'fueltypeid', 'sectorDescription' columns from epo_cleaned_dfabs\n",
    "epo_cleaned_df = epo_cleaned_df.drop(['location', 'sectorid', 'fueltypeid', 'sectorDescription'], axis = 1)\n",
    "print(epo_cleaned_df.columns)"
   ]
  },
  {
   "cell_type": "code",
   "execution_count": 12,
   "id": "7edf1c10",
   "metadata": {},
   "outputs": [
    {
     "name": "stdout",
     "output_type": "stream",
     "text": [
      "epo fuelTypeDescription\n",
      "biomass                                     4520\n",
      "all fuels                                   2371\n",
      "fossil fuels                                2368\n",
      "natural gas & other gases                   2224\n",
      "renewable                                   2221\n",
      "petroleum                                   2185\n",
      "natural gas                                 2159\n",
      "petroleum liquids                           2122\n",
      "all renewables                              2107\n",
      "distillate fuel oil                         2030\n",
      "renewable waste products                    1735\n",
      "all coal products                           1554\n",
      "coal, excluding waste coal                  1484\n",
      "other                                       1474\n",
      "conventional hydroelectric                  1399\n",
      "solar                                       1388\n",
      "solar photovoltaic                          1343\n",
      "landfill gas                                1297\n",
      "other renewables                            1273\n",
      "bituminous coal and synthetic coal          1262\n",
      "bituminous coal                             1240\n",
      "municiapl landfill gas                      1238\n",
      "wood and wood wastes                        1206\n",
      "onshore wind turbine                        1203\n",
      "wind                                        1162\n",
      "residual fuel oil                           1154\n",
      "waste oil and other oils                    1126\n",
      "subbituminous coal                          1034\n",
      "estimated total solar photovoltaic           950\n",
      "estimated total solar                        941\n",
      "estimated small scale solar photovoltaic     920\n",
      "nuclear                                      628\n",
      "petroleum coke                               619\n",
      "biogenic municipal solid waste               584\n",
      "other gases                                  574\n",
      "hydro-electric pumped storage                433\n",
      "refined coal                                 345\n",
      "waste coal                                   338\n",
      "lignite coal                                 259\n",
      "geothermal                                   238\n",
      "solar thermal                                172\n",
      "anthracite coal                               86\n",
      "offshore wind turbine                         34\n",
      "Name: count, dtype: int64\n"
     ]
    }
   ],
   "source": [
    "# Print out the value_counts() in fuelTypeDescription for epo_cleaned_df\n",
    "print('epo', epo_cleaned_df['fuelTypeDescription'].value_counts())"
   ]
  },
  {
   "cell_type": "code",
   "execution_count": 13,
   "id": "cd6dd5fe",
   "metadata": {},
   "outputs": [],
   "source": [
    "# Remove all rows where fuelTypeDescription for epo_cleaned_df is 'all coal products', 'all fuels', or 'all renewables'\n",
    "epo_cleaned_df = epo_cleaned_df[\n",
    "    ~epo_cleaned_df['fuelTypeDescription'].isin([\n",
    "        'all coal products', 'all fuels', 'all renewables'\n",
    "    ])\n",
    "]\n",
    "\n",
    "# Remove all rows where stateDescription contains 'U.S. Total', 'West North Central', 'West South Central', 'Pacific Noncontiguous',\n",
    "# 'South Atlantic', 'Pacific', 'Pacific Contiguous', 'Puerto Rico'\n",
    "epo_cleaned_df = epo_cleaned_df[\n",
    "    ~epo_cleaned_df['stateDescription'].isin([\n",
    "        'U.S. Total', 'West North Central', 'West South Central', 'Pacific Noncontiguous',\n",
    "        'South Atlantic', 'Pacific', 'Pacific Contiguous', 'Puerto Rico'\n",
    "    ])\n",
    "]"
   ]
  },
  {
   "cell_type": "code",
   "execution_count": 14,
   "id": "14c0ebe3",
   "metadata": {},
   "outputs": [],
   "source": [
    "# Create bin for stateDescription and put them into regional instead of state-wise for labeling\n",
    "west_reg = ['Alaska', 'California', 'Colorado', 'Hawaii', 'Idaho', 'Montana', 'Nevada', 'Oregon', 'Utah', 'Washington', 'Wyoming']\n",
    "southwest_reg = ['Arizona', 'New Mexico', 'Oklahoma', 'Texas']\n",
    "midwest_reg = ['Illinois', 'Indiana', 'Iowa', 'Kansas', 'Michigan', 'Minnesota', 'Missouri', 'Nebraska', 'North Dakota', 'Ohio', 'South Dakota', 'Wisconsin']\n",
    "southeast_reg = ['Alabama', 'Arkansas', 'Florida', 'Georgia', 'Kentucky', 'Louisiana', 'Mississippi', 'North Carolina', 'South Carolina', 'Tennessee', 'Virginia', 'West Virginia']\n",
    "northeast_reg = [state for state in epo_cleaned_df['stateDescription'].value_counts().index \\\n",
    "                     if (state not in west_reg) and \n",
    "                     (state not in southwest_reg) and \n",
    "                     (state not in midwest_reg) and \n",
    "                     (state not in southeast_reg) \n",
    "                ]\n",
    "\n",
    "epo_cleaned_df = category_bin(epo_cleaned_df, 'stateDescription', west_reg, 'West Region')\n",
    "epo_cleaned_df = category_bin(epo_cleaned_df, 'stateDescription', southwest_reg, 'Southwest Region')\n",
    "epo_cleaned_df = category_bin(epo_cleaned_df, 'stateDescription', midwest_reg, 'Midwest Region')\n",
    "epo_cleaned_df = category_bin(epo_cleaned_df, 'stateDescription', southeast_reg, 'Southeast Region')\n",
    "epo_cleaned_df = category_bin(epo_cleaned_df, 'stateDescription', northeast_reg, 'Northeast Region')"
   ]
  },
  {
   "cell_type": "code",
   "execution_count": 15,
   "id": "8de7297c",
   "metadata": {},
   "outputs": [
    {
     "data": {
      "text/plain": [
       "stateDescription\n",
       "Northeast Region    13345\n",
       "Midwest Region       8308\n",
       "Southeast Region     8228\n",
       "West Region          7483\n",
       "Southwest Region     3153\n",
       "Name: count, dtype: int64"
      ]
     },
     "execution_count": 15,
     "metadata": {},
     "output_type": "execute_result"
    }
   ],
   "source": [
    "# Check the binning\n",
    "epo_cleaned_df['stateDescription'].value_counts()"
   ]
  },
  {
   "cell_type": "code",
   "execution_count": 16,
   "id": "a5d6854a",
   "metadata": {},
   "outputs": [
    {
     "name": "stderr",
     "output_type": "stream",
     "text": [
      "C:\\Users\\khang\\AppData\\Local\\Temp\\ipykernel_25640\\2673199919.py:31: FutureWarning: Setting an item of incompatible dtype is deprecated and will raise in a future error of pandas. Value 'fossil fuels' has dtype incompatible with float64, please explicitly cast to a compatible dtype first.\n",
      "  tmp_df.loc[tmp_df[check_col] == item, new_col] = bin_name\n"
     ]
    }
   ],
   "source": [
    "# Create bins based on fuel type description into 'Fossil Fuels', 'Renewables', and 'Others' for epo_cleaned_df under\n",
    "# energySource\n",
    "epo_ff_source = [\n",
    "    'anthracite coal', 'bituminous coal', 'bituminous coal and synthetic coal', 'coal, excluding waste coal', \n",
    "    'distillate fuel oil', 'fossil fuels', 'ignite coal', 'natural gas', 'natural gas & other gases', 'other gases', \n",
    "    'petroleum', 'petroleum coke', 'petroleum liquids', 'refined coal', 'residual fuel oil', 'subbituminous coal', 'lignite coal'\n",
    "]\n",
    "\n",
    "epo_renew_source = [\n",
    "    'biogenic municipal solid waste', 'biomass', 'conventional hydroelectric', 'estimated small scale solar photovoltaic', \n",
    "    'estimated total solar', 'estimated total solar photovoltaic', 'geothermal', 'hydro-electric pumped storage', \n",
    "    'landfill gas', 'municiapl landfill gas', 'offshore wind turbine', 'onshore wind turbine', 'renewable', \n",
    "    'renewable waste products', 'solar', 'solar photovoltaic', 'solar thermal', 'waste coal', 'waste oil and other oils', \n",
    "    'wind', 'wood and wood wastes', 'other renewables'\n",
    "]\n",
    "\n",
    "epo_oth_source = [item for item in epo_cleaned_df['fuelTypeDescription'].value_counts().index if (item not in epo_ff_source and item not in epo_renew_source)]\n",
    "\n",
    "epo_cleaned_df = category_bin(epo_cleaned_df, 'fuelTypeDescription', epo_ff_source, 'fossil fuels', 'energySource')\n",
    "epo_cleaned_df = category_bin(epo_cleaned_df, 'fuelTypeDescription', epo_renew_source, 'renewables', 'energySource')\n",
    "epo_cleaned_df = category_bin(epo_cleaned_df, 'fuelTypeDescription', epo_oth_source, 'others', 'energySource')"
   ]
  },
  {
   "cell_type": "code",
   "execution_count": 17,
   "id": "56221787",
   "metadata": {},
   "outputs": [
    {
     "data": {
      "text/plain": [
       "energySource\n",
       "renewables      21155\n",
       "fossil fuels    17652\n",
       "others           1710\n",
       "Name: count, dtype: int64"
      ]
     },
     "execution_count": 17,
     "metadata": {},
     "output_type": "execute_result"
    }
   ],
   "source": [
    "# Check the value_counts() again to make sure binning was done correctly\n",
    "epo_cleaned_df['energySource'].value_counts()"
   ]
  },
  {
   "cell_type": "code",
   "execution_count": 18,
   "id": "4f5c0656",
   "metadata": {},
   "outputs": [],
   "source": [
    "# Fill in NaN columns as 0 then set these columns as float\n",
    "# 'ash-content', 'consumption-for-eg-btu', 'consumption-uto-btu', 'cost-per-btu', 'generation', 'heat-content',\n",
    "# 'receipts-btu', 'sulfur-content', 'total-consumption-btu'\n",
    "#\n",
    "# Other units (in case needed more features): 'consumption-for-eg', 'consumption-uto', 'cost', 'receipts', 'total-consumption',\n",
    "# 'stocks'\n",
    "epo_cols = [\n",
    "    'ash-content', 'consumption-for-eg-btu', 'consumption-uto-btu', 'cost-per-btu', 'generation', 'heat-content',\n",
    "    'receipts-btu', 'sulfur-content', 'total-consumption-btu', 'consumption-for-eg', 'consumption-uto', 'cost', \n",
    "    'receipts', 'total-consumption', 'stocks'\n",
    "]\n",
    "\n",
    "for col in epo_cols:\n",
    "    epo_cleaned_df = fix_nan(epo_cleaned_df, epo_cols)"
   ]
  },
  {
   "cell_type": "code",
   "execution_count": 19,
   "id": "b2242973",
   "metadata": {},
   "outputs": [
    {
     "data": {
      "text/html": [
       "<div>\n",
       "<style scoped>\n",
       "    .dataframe tbody tr th:only-of-type {\n",
       "        vertical-align: middle;\n",
       "    }\n",
       "\n",
       "    .dataframe tbody tr th {\n",
       "        vertical-align: top;\n",
       "    }\n",
       "\n",
       "    .dataframe thead th {\n",
       "        text-align: right;\n",
       "    }\n",
       "</style>\n",
       "<table border=\"1\" class=\"dataframe\">\n",
       "  <thead>\n",
       "    <tr style=\"text-align: right;\">\n",
       "      <th></th>\n",
       "      <th>period</th>\n",
       "      <th>stateDescription</th>\n",
       "      <th>fuelTypeDescription</th>\n",
       "      <th>ash-content</th>\n",
       "      <th>ash-content-units</th>\n",
       "      <th>consumption-for-eg</th>\n",
       "      <th>consumption-for-eg-units</th>\n",
       "      <th>consumption-for-eg-btu</th>\n",
       "      <th>consumption-for-eg-btu-units</th>\n",
       "      <th>consumption-uto</th>\n",
       "      <th>...</th>\n",
       "      <th>receipts-btu-units</th>\n",
       "      <th>stocks</th>\n",
       "      <th>stocks-units</th>\n",
       "      <th>sulfur-content</th>\n",
       "      <th>sulfur-content-units</th>\n",
       "      <th>total-consumption</th>\n",
       "      <th>total-consumption-units</th>\n",
       "      <th>total-consumption-btu</th>\n",
       "      <th>total-consumption-btu-units</th>\n",
       "      <th>energySource</th>\n",
       "    </tr>\n",
       "  </thead>\n",
       "  <tbody>\n",
       "    <tr>\n",
       "      <th>0</th>\n",
       "      <td>2012</td>\n",
       "      <td>West Region</td>\n",
       "      <td>bituminous coal</td>\n",
       "      <td>8.25</td>\n",
       "      <td>percent</td>\n",
       "      <td>739.310</td>\n",
       "      <td>thousand short tons</td>\n",
       "      <td>15.13525</td>\n",
       "      <td>million MMBtu</td>\n",
       "      <td>14.156</td>\n",
       "      <td>...</td>\n",
       "      <td>billion Btu</td>\n",
       "      <td>0.0</td>\n",
       "      <td>thousand short tons</td>\n",
       "      <td>0.67</td>\n",
       "      <td>percent</td>\n",
       "      <td>753.466</td>\n",
       "      <td>thousand short tons</td>\n",
       "      <td>15.43204</td>\n",
       "      <td>million MMBtu</td>\n",
       "      <td>fossil fuels</td>\n",
       "    </tr>\n",
       "    <tr>\n",
       "      <th>4</th>\n",
       "      <td>2012</td>\n",
       "      <td>Southeast Region</td>\n",
       "      <td>distillate fuel oil</td>\n",
       "      <td>0.00</td>\n",
       "      <td>percent</td>\n",
       "      <td>329.909</td>\n",
       "      <td>thousand short tons</td>\n",
       "      <td>1.91416</td>\n",
       "      <td>million MMBtu</td>\n",
       "      <td>0.000</td>\n",
       "      <td>...</td>\n",
       "      <td>billion Btu</td>\n",
       "      <td>0.0</td>\n",
       "      <td>thousand short tons</td>\n",
       "      <td>0.00</td>\n",
       "      <td>percent</td>\n",
       "      <td>329.909</td>\n",
       "      <td>thousand short tons</td>\n",
       "      <td>1.91416</td>\n",
       "      <td>million MMBtu</td>\n",
       "      <td>fossil fuels</td>\n",
       "    </tr>\n",
       "    <tr>\n",
       "      <th>5</th>\n",
       "      <td>2012</td>\n",
       "      <td>Southeast Region</td>\n",
       "      <td>biomass</td>\n",
       "      <td>0.00</td>\n",
       "      <td>percent</td>\n",
       "      <td>1225.891</td>\n",
       "      <td>thousand physical units</td>\n",
       "      <td>0.63069</td>\n",
       "      <td>million MMBtu</td>\n",
       "      <td>0.000</td>\n",
       "      <td>...</td>\n",
       "      <td>billion Btu</td>\n",
       "      <td>0.0</td>\n",
       "      <td>thousand physical units</td>\n",
       "      <td>0.00</td>\n",
       "      <td>percent</td>\n",
       "      <td>1225.891</td>\n",
       "      <td>thousand physical units</td>\n",
       "      <td>0.63069</td>\n",
       "      <td>million MMBtu</td>\n",
       "      <td>renewables</td>\n",
       "    </tr>\n",
       "    <tr>\n",
       "      <th>6</th>\n",
       "      <td>2012</td>\n",
       "      <td>Southeast Region</td>\n",
       "      <td>biomass</td>\n",
       "      <td>0.00</td>\n",
       "      <td>percent</td>\n",
       "      <td>1225.891</td>\n",
       "      <td>thousand physical units</td>\n",
       "      <td>0.63069</td>\n",
       "      <td>million MMBtu</td>\n",
       "      <td>0.000</td>\n",
       "      <td>...</td>\n",
       "      <td>billion Btu</td>\n",
       "      <td>0.0</td>\n",
       "      <td>thousand physical units</td>\n",
       "      <td>0.00</td>\n",
       "      <td>percent</td>\n",
       "      <td>1225.891</td>\n",
       "      <td>thousand physical units</td>\n",
       "      <td>0.63069</td>\n",
       "      <td>million MMBtu</td>\n",
       "      <td>renewables</td>\n",
       "    </tr>\n",
       "    <tr>\n",
       "      <th>7</th>\n",
       "      <td>2012</td>\n",
       "      <td>Northeast Region</td>\n",
       "      <td>bituminous coal</td>\n",
       "      <td>6.87</td>\n",
       "      <td>percent</td>\n",
       "      <td>10.463</td>\n",
       "      <td>thousand short tons</td>\n",
       "      <td>0.27404</td>\n",
       "      <td>million MMBtu</td>\n",
       "      <td>67.694</td>\n",
       "      <td>...</td>\n",
       "      <td>billion Btu</td>\n",
       "      <td>0.0</td>\n",
       "      <td>thousand short tons</td>\n",
       "      <td>0.66</td>\n",
       "      <td>percent</td>\n",
       "      <td>78.157</td>\n",
       "      <td>thousand short tons</td>\n",
       "      <td>2.07780</td>\n",
       "      <td>million MMBtu</td>\n",
       "      <td>fossil fuels</td>\n",
       "    </tr>\n",
       "  </tbody>\n",
       "</table>\n",
       "<p>5 rows × 34 columns</p>\n",
       "</div>"
      ],
      "text/plain": [
       "  period  stateDescription  fuelTypeDescription  ash-content  \\\n",
       "0   2012       West Region      bituminous coal         8.25   \n",
       "4   2012  Southeast Region  distillate fuel oil         0.00   \n",
       "5   2012  Southeast Region              biomass         0.00   \n",
       "6   2012  Southeast Region              biomass         0.00   \n",
       "7   2012  Northeast Region      bituminous coal         6.87   \n",
       "\n",
       "  ash-content-units  consumption-for-eg consumption-for-eg-units  \\\n",
       "0           percent             739.310      thousand short tons   \n",
       "4           percent             329.909      thousand short tons   \n",
       "5           percent            1225.891  thousand physical units   \n",
       "6           percent            1225.891  thousand physical units   \n",
       "7           percent              10.463      thousand short tons   \n",
       "\n",
       "   consumption-for-eg-btu consumption-for-eg-btu-units  consumption-uto  ...  \\\n",
       "0                15.13525                million MMBtu           14.156  ...   \n",
       "4                 1.91416                million MMBtu            0.000  ...   \n",
       "5                 0.63069                million MMBtu            0.000  ...   \n",
       "6                 0.63069                million MMBtu            0.000  ...   \n",
       "7                 0.27404                million MMBtu           67.694  ...   \n",
       "\n",
       "  receipts-btu-units  stocks             stocks-units  sulfur-content  \\\n",
       "0        billion Btu     0.0      thousand short tons            0.67   \n",
       "4        billion Btu     0.0      thousand short tons            0.00   \n",
       "5        billion Btu     0.0  thousand physical units            0.00   \n",
       "6        billion Btu     0.0  thousand physical units            0.00   \n",
       "7        billion Btu     0.0      thousand short tons            0.66   \n",
       "\n",
       "  sulfur-content-units  total-consumption  total-consumption-units  \\\n",
       "0              percent            753.466      thousand short tons   \n",
       "4              percent            329.909      thousand short tons   \n",
       "5              percent           1225.891  thousand physical units   \n",
       "6              percent           1225.891  thousand physical units   \n",
       "7              percent             78.157      thousand short tons   \n",
       "\n",
       "   total-consumption-btu total-consumption-btu-units  energySource  \n",
       "0               15.43204               million MMBtu  fossil fuels  \n",
       "4                1.91416               million MMBtu  fossil fuels  \n",
       "5                0.63069               million MMBtu    renewables  \n",
       "6                0.63069               million MMBtu    renewables  \n",
       "7                2.07780               million MMBtu  fossil fuels  \n",
       "\n",
       "[5 rows x 34 columns]"
      ]
     },
     "metadata": {},
     "output_type": "display_data"
    },
    {
     "name": "stdout",
     "output_type": "stream",
     "text": [
      "epo's shape: (40517, 34)\n"
     ]
    }
   ],
   "source": [
    "# Review the cleaned DF before additional cleaning\n",
    "display(epo_cleaned_df.head())\n",
    "print('epo\\'s shape:', epo_cleaned_df.shape)"
   ]
  },
  {
   "cell_type": "code",
   "execution_count": 20,
   "id": "152da152",
   "metadata": {},
   "outputs": [
    {
     "data": {
      "text/html": [
       "<div>\n",
       "<style scoped>\n",
       "    .dataframe tbody tr th:only-of-type {\n",
       "        vertical-align: middle;\n",
       "    }\n",
       "\n",
       "    .dataframe tbody tr th {\n",
       "        vertical-align: top;\n",
       "    }\n",
       "\n",
       "    .dataframe thead th {\n",
       "        text-align: right;\n",
       "    }\n",
       "</style>\n",
       "<table border=\"1\" class=\"dataframe\">\n",
       "  <thead>\n",
       "    <tr style=\"text-align: right;\">\n",
       "      <th></th>\n",
       "      <th>period</th>\n",
       "      <th>stateDescription</th>\n",
       "      <th>energySource</th>\n",
       "      <th>fuelTypeDescription</th>\n",
       "      <th>ash-content-units</th>\n",
       "      <th>consumption-for-eg-units</th>\n",
       "      <th>consumption-for-eg-btu-units</th>\n",
       "      <th>consumption-uto-units</th>\n",
       "      <th>consumption-uto-btu-units</th>\n",
       "      <th>cost-units</th>\n",
       "      <th>...</th>\n",
       "      <th>cost</th>\n",
       "      <th>cost-per-btu</th>\n",
       "      <th>generation</th>\n",
       "      <th>heat-content</th>\n",
       "      <th>receipts</th>\n",
       "      <th>receipts-btu</th>\n",
       "      <th>stocks</th>\n",
       "      <th>sulfur-content</th>\n",
       "      <th>total-consumption</th>\n",
       "      <th>total-consumption-btu</th>\n",
       "    </tr>\n",
       "  </thead>\n",
       "  <tbody>\n",
       "    <tr>\n",
       "      <th>0</th>\n",
       "      <td>2012</td>\n",
       "      <td>Midwest Region</td>\n",
       "      <td>fossil fuels</td>\n",
       "      <td>bituminous coal</td>\n",
       "      <td>percent</td>\n",
       "      <td>thousand short tons</td>\n",
       "      <td>million MMBtu</td>\n",
       "      <td>thousand short tons</td>\n",
       "      <td>million MMBtu</td>\n",
       "      <td>dollars per short tons</td>\n",
       "      <td>...</td>\n",
       "      <td>0.0</td>\n",
       "      <td>0.0</td>\n",
       "      <td>274192.77</td>\n",
       "      <td>567.15</td>\n",
       "      <td>120079.43</td>\n",
       "      <td>2884577.58</td>\n",
       "      <td>0.0</td>\n",
       "      <td>44.36</td>\n",
       "      <td>124368.30</td>\n",
       "      <td>2922.80</td>\n",
       "    </tr>\n",
       "    <tr>\n",
       "      <th>1</th>\n",
       "      <td>2012</td>\n",
       "      <td>Midwest Region</td>\n",
       "      <td>fossil fuels</td>\n",
       "      <td>bituminous coal and synthetic coal</td>\n",
       "      <td>percent</td>\n",
       "      <td>thousand short tons</td>\n",
       "      <td>million MMBtu</td>\n",
       "      <td>thousand short tons</td>\n",
       "      <td>million MMBtu</td>\n",
       "      <td>dollars per short tons</td>\n",
       "      <td>...</td>\n",
       "      <td>0.0</td>\n",
       "      <td>0.0</td>\n",
       "      <td>152826.97</td>\n",
       "      <td>586.86</td>\n",
       "      <td>71764.82</td>\n",
       "      <td>1659520.50</td>\n",
       "      <td>0.0</td>\n",
       "      <td>47.63</td>\n",
       "      <td>76672.09</td>\n",
       "      <td>1716.88</td>\n",
       "    </tr>\n",
       "    <tr>\n",
       "      <th>2</th>\n",
       "      <td>2012</td>\n",
       "      <td>Midwest Region</td>\n",
       "      <td>fossil fuels</td>\n",
       "      <td>coal, excluding waste coal</td>\n",
       "      <td>percent</td>\n",
       "      <td>thousand short tons</td>\n",
       "      <td>million MMBtu</td>\n",
       "      <td>thousand short tons</td>\n",
       "      <td>million MMBtu</td>\n",
       "      <td>dollars per short tons</td>\n",
       "      <td>...</td>\n",
       "      <td>0.0</td>\n",
       "      <td>0.0</td>\n",
       "      <td>836185.96</td>\n",
       "      <td>635.46</td>\n",
       "      <td>513119.66</td>\n",
       "      <td>9455272.29</td>\n",
       "      <td>0.0</td>\n",
       "      <td>22.50</td>\n",
       "      <td>494398.23</td>\n",
       "      <td>9087.89</td>\n",
       "    </tr>\n",
       "    <tr>\n",
       "      <th>3</th>\n",
       "      <td>2012</td>\n",
       "      <td>Midwest Region</td>\n",
       "      <td>fossil fuels</td>\n",
       "      <td>distillate fuel oil</td>\n",
       "      <td>percent</td>\n",
       "      <td>thousand short tons</td>\n",
       "      <td>million MMBtu</td>\n",
       "      <td>thousand short tons</td>\n",
       "      <td>million MMBtu</td>\n",
       "      <td>dollars per short tons</td>\n",
       "      <td>...</td>\n",
       "      <td>0.0</td>\n",
       "      <td>0.0</td>\n",
       "      <td>538.33</td>\n",
       "      <td>162.77</td>\n",
       "      <td>925.72</td>\n",
       "      <td>5372.27</td>\n",
       "      <td>0.0</td>\n",
       "      <td>0.00</td>\n",
       "      <td>1164.96</td>\n",
       "      <td>6.77</td>\n",
       "    </tr>\n",
       "    <tr>\n",
       "      <th>4</th>\n",
       "      <td>2012</td>\n",
       "      <td>Midwest Region</td>\n",
       "      <td>fossil fuels</td>\n",
       "      <td>fossil fuels</td>\n",
       "      <td>percent</td>\n",
       "      <td>thousand physical units</td>\n",
       "      <td>million MMBtu</td>\n",
       "      <td>thousand physical units</td>\n",
       "      <td>million MMBtu</td>\n",
       "      <td>dollars per physical units</td>\n",
       "      <td>...</td>\n",
       "      <td>0.0</td>\n",
       "      <td>0.0</td>\n",
       "      <td>1035747.09</td>\n",
       "      <td>0.00</td>\n",
       "      <td>0.00</td>\n",
       "      <td>10114581.32</td>\n",
       "      <td>0.0</td>\n",
       "      <td>41.91</td>\n",
       "      <td>0.00</td>\n",
       "      <td>10889.38</td>\n",
       "    </tr>\n",
       "  </tbody>\n",
       "</table>\n",
       "<p>5 rows × 34 columns</p>\n",
       "</div>"
      ],
      "text/plain": [
       "  period stateDescription  energySource                 fuelTypeDescription  \\\n",
       "0   2012   Midwest Region  fossil fuels                     bituminous coal   \n",
       "1   2012   Midwest Region  fossil fuels  bituminous coal and synthetic coal   \n",
       "2   2012   Midwest Region  fossil fuels          coal, excluding waste coal   \n",
       "3   2012   Midwest Region  fossil fuels                 distillate fuel oil   \n",
       "4   2012   Midwest Region  fossil fuels                        fossil fuels   \n",
       "\n",
       "  ash-content-units consumption-for-eg-units consumption-for-eg-btu-units  \\\n",
       "0           percent      thousand short tons                million MMBtu   \n",
       "1           percent      thousand short tons                million MMBtu   \n",
       "2           percent      thousand short tons                million MMBtu   \n",
       "3           percent      thousand short tons                million MMBtu   \n",
       "4           percent  thousand physical units                million MMBtu   \n",
       "\n",
       "     consumption-uto-units consumption-uto-btu-units  \\\n",
       "0      thousand short tons             million MMBtu   \n",
       "1      thousand short tons             million MMBtu   \n",
       "2      thousand short tons             million MMBtu   \n",
       "3      thousand short tons             million MMBtu   \n",
       "4  thousand physical units             million MMBtu   \n",
       "\n",
       "                   cost-units  ... cost cost-per-btu  generation heat-content  \\\n",
       "0      dollars per short tons  ...  0.0          0.0   274192.77       567.15   \n",
       "1      dollars per short tons  ...  0.0          0.0   152826.97       586.86   \n",
       "2      dollars per short tons  ...  0.0          0.0   836185.96       635.46   \n",
       "3      dollars per short tons  ...  0.0          0.0      538.33       162.77   \n",
       "4  dollars per physical units  ...  0.0          0.0  1035747.09         0.00   \n",
       "\n",
       "    receipts receipts-btu stocks sulfur-content total-consumption  \\\n",
       "0  120079.43   2884577.58    0.0          44.36         124368.30   \n",
       "1   71764.82   1659520.50    0.0          47.63          76672.09   \n",
       "2  513119.66   9455272.29    0.0          22.50         494398.23   \n",
       "3     925.72      5372.27    0.0           0.00           1164.96   \n",
       "4       0.00  10114581.32    0.0          41.91              0.00   \n",
       "\n",
       "   total-consumption-btu  \n",
       "0                2922.80  \n",
       "1                1716.88  \n",
       "2                9087.89  \n",
       "3                   6.77  \n",
       "4               10889.38  \n",
       "\n",
       "[5 rows x 34 columns]"
      ]
     },
     "metadata": {},
     "output_type": "display_data"
    },
    {
     "name": "stdout",
     "output_type": "stream",
     "text": [
      "epo's shape: (1995, 34)\n"
     ]
    }
   ],
   "source": [
    "# Using groupby() and sum() functions to merge matching rows based on 'period', 'stateDescription', 'energySource', and \n",
    "# 'fuelTypeDescription' then round to the nearest 2. Note to also group the UOM columns as well.\n",
    "group_by = [\n",
    "    'period', 'stateDescription', 'energySource', 'fuelTypeDescription', 'ash-content-units', 'consumption-for-eg-units',\n",
    "    'consumption-for-eg-btu-units', 'consumption-uto-units', 'consumption-uto-btu-units', 'cost-units', 'cost-per-btu-units',\n",
    "    'generation-units', 'heat-content-units', 'receipts-units', 'receipts-btu-units', 'stocks-units', 'sulfur-content-units',\n",
    "    'total-consumption-units', 'total-consumption-btu-units'\n",
    "]\n",
    "\n",
    "epo_cleaned_df = epo_cleaned_df.groupby(group_by).agg('sum').round(2).reset_index()\n",
    "display(epo_cleaned_df.head())\n",
    "print('epo\\'s shape:', epo_cleaned_df.shape)"
   ]
  },
  {
   "cell_type": "code",
   "execution_count": 21,
   "id": "10f87339",
   "metadata": {},
   "outputs": [],
   "source": [
    "# Convert the period column to DateTime format\n",
    "epo_cleaned_df['period'] = pd.to_datetime(epo_cleaned_df['period'], format='%Y')"
   ]
  },
  {
   "cell_type": "code",
   "execution_count": 22,
   "id": "3d0f0456",
   "metadata": {},
   "outputs": [
    {
     "data": {
      "text/plain": [
       "period                          datetime64[ns]\n",
       "stateDescription                        object\n",
       "energySource                            object\n",
       "fuelTypeDescription                     object\n",
       "ash-content-units                       object\n",
       "consumption-for-eg-units                object\n",
       "consumption-for-eg-btu-units            object\n",
       "consumption-uto-units                   object\n",
       "consumption-uto-btu-units               object\n",
       "cost-units                              object\n",
       "cost-per-btu-units                      object\n",
       "generation-units                        object\n",
       "heat-content-units                      object\n",
       "receipts-units                          object\n",
       "receipts-btu-units                      object\n",
       "stocks-units                            object\n",
       "sulfur-content-units                    object\n",
       "total-consumption-units                 object\n",
       "total-consumption-btu-units             object\n",
       "ash-content                            float64\n",
       "consumption-for-eg                     float64\n",
       "consumption-for-eg-btu                 float64\n",
       "consumption-uto                        float64\n",
       "consumption-uto-btu                    float64\n",
       "cost                                   float64\n",
       "cost-per-btu                           float64\n",
       "generation                             float64\n",
       "heat-content                           float64\n",
       "receipts                               float64\n",
       "receipts-btu                           float64\n",
       "stocks                                 float64\n",
       "sulfur-content                         float64\n",
       "total-consumption                      float64\n",
       "total-consumption-btu                  float64\n",
       "dtype: object"
      ]
     },
     "execution_count": 22,
     "metadata": {},
     "output_type": "execute_result"
    }
   ],
   "source": [
    "# Check the column types\n",
    "epo_cleaned_df.dtypes"
   ]
  },
  {
   "cell_type": "code",
   "execution_count": 23,
   "id": "5a95868c",
   "metadata": {},
   "outputs": [
    {
     "data": {
      "text/plain": [
       "Index(['period', 'stateDescription', 'energySource', 'fuelTypeDescription',\n",
       "       'ash-content-units', 'consumption-for-eg-units',\n",
       "       'consumption-for-eg-btu-units', 'consumption-uto-units',\n",
       "       'consumption-uto-btu-units', 'cost-units', 'cost-per-btu-units',\n",
       "       'generation-units', 'heat-content-units', 'receipts-units',\n",
       "       'receipts-btu-units', 'stocks-units', 'sulfur-content-units',\n",
       "       'total-consumption-units', 'total-consumption-btu-units', 'ash-content',\n",
       "       'consumption-for-eg', 'consumption-for-eg-btu', 'consumption-uto',\n",
       "       'consumption-uto-btu', 'cost', 'cost-per-btu', 'generation',\n",
       "       'heat-content', 'receipts', 'receipts-btu', 'stocks', 'sulfur-content',\n",
       "       'total-consumption', 'total-consumption-btu'],\n",
       "      dtype='object')"
      ]
     },
     "execution_count": 23,
     "metadata": {},
     "output_type": "execute_result"
    }
   ],
   "source": [
    "epo_cleaned_df.columns"
   ]
  },
  {
   "cell_type": "code",
   "execution_count": 24,
   "id": "5e230143",
   "metadata": {},
   "outputs": [
    {
     "data": {
      "text/plain": [
       "Index(['period', 'region', 'energySource', 'fuelTypeDescription',\n",
       "       'ash-content-units', 'consumption-for-eg-units',\n",
       "       'consumption-for-eg-btu-units', 'consumption-uto-units',\n",
       "       'consumption-uto-btu-units', 'cost-units', 'cost-per-btu-units',\n",
       "       'generation-units', 'heat-content-units', 'receipts-units',\n",
       "       'receipts-btu-units', 'stocks-units', 'sulfur-content-units',\n",
       "       'total-consumption-units', 'total-consumption-btu-units', 'ash-content',\n",
       "       'consumption-for-eg', 'consumption-for-eg-btu', 'consumption-uto',\n",
       "       'consumption-uto-btu', 'cost', 'cost-per-btu', 'generation',\n",
       "       'heat-content', 'receipts', 'receipts-btu', 'stocks', 'sulfur-content',\n",
       "       'total-consumption', 'total-consumption-btu'],\n",
       "      dtype='object')"
      ]
     },
     "execution_count": 24,
     "metadata": {},
     "output_type": "execute_result"
    }
   ],
   "source": [
    "# Rename the stateDescription to region to correctly reflect the column category\n",
    "epo_cleaned_df.rename(columns = {'stateDescription': 'region'}, inplace = True)\n",
    "epo_cleaned_df.columns"
   ]
  },
  {
   "cell_type": "code",
   "execution_count": 26,
   "id": "942b2bef",
   "metadata": {},
   "outputs": [],
   "source": [
    "# Rearrange the energySource to be next to fuelTypeDescription\n",
    "epo_cleaned_df = epo_cleaned_df[[\n",
    "    'period', 'region', 'energySource', 'fuelTypeDescription', 'ash-content', 'ash-content-units',\n",
    "    'consumption-for-eg', 'consumption-for-eg-units', 'consumption-for-eg-btu', 'consumption-for-eg-btu-units',\n",
    "    'consumption-uto', 'consumption-uto-units', 'consumption-uto-btu', 'consumption-uto-btu-units', 'cost', \n",
    "    'cost-units', 'cost-per-btu', 'cost-per-btu-units', 'generation', 'generation-units', 'heat-content',\n",
    "    'heat-content-units', 'receipts', 'receipts-units', 'receipts-btu', 'receipts-btu-units', 'stocks', \n",
    "    'stocks-units', 'sulfur-content', 'sulfur-content-units', 'total-consumption', 'total-consumption-units',\n",
    "    'total-consumption-btu', 'total-consumption-btu-units'\n",
    "]]\n",
    "\n",
    "# Export the cleanned DataFrame for epo_cleaned_df into csv\n",
    "epo_cleaned_df.to_csv('../static/data/epo_2012_2022_cleaned.csv', index = False)"
   ]
  },
  {
   "cell_type": "markdown",
   "id": "b93fc8ba",
   "metadata": {},
   "source": [
    "**emission_df**"
   ]
  },
  {
   "cell_type": "code",
   "execution_count": 27,
   "id": "398fdd52",
   "metadata": {},
   "outputs": [
    {
     "name": "stdout",
     "output_type": "stream",
     "text": [
      "Index(['period', 'stateDescription', 'fuelDescription',\n",
      "       'co2-thousand-metric-tons', 'nox-short-tons', 'so2-short-tons',\n",
      "       'co2-thousand-metric-tons-units', 'nox-short-tons-units',\n",
      "       'so2-short-tons-units'],\n",
      "      dtype='object')\n"
     ]
    }
   ],
   "source": [
    "# Drop columns 'stateid', 'stateDescription', 'fuelid', 'co2-rate-lbs-mwh', 'nox-rate-lbs-mwh', 'so2-rate-lbs-mwh',\n",
    "# 'co2-rate-lbs-mwh-units', 'nox-rate-lbs-mwh-units', 'so2-rate-lbs-mwh-units' from emission_cleaned_df\n",
    "emission_cleaned_df = emission_cleaned_df.drop([\n",
    "    'stateid', 'fuelid', 'co2-rate-lbs-mwh', 'nox-rate-lbs-mwh', 'so2-rate-lbs-mwh',\n",
    "    'co2-rate-lbs-mwh-units', 'nox-rate-lbs-mwh-units', 'so2-rate-lbs-mwh-units'\n",
    "], axis = 1)\n",
    "print(emission_cleaned_df.columns)"
   ]
  },
  {
   "cell_type": "code",
   "execution_count": 28,
   "id": "afcd1f41",
   "metadata": {},
   "outputs": [
    {
     "name": "stdout",
     "output_type": "stream",
     "text": [
      "emission fuelDescription\n",
      "Total          572\n",
      "Petroleum      567\n",
      "Natural Gas    561\n",
      "Other          561\n",
      "Coal           529\n",
      "Name: count, dtype: int64\n"
     ]
    }
   ],
   "source": [
    "# Print out the unique values in fuelDescription for emission_cleaned_df\n",
    "print('emission', emission_cleaned_df['fuelDescription'].value_counts())"
   ]
  },
  {
   "cell_type": "code",
   "execution_count": 29,
   "id": "01fb109b",
   "metadata": {},
   "outputs": [],
   "source": [
    "# Remove all rows where stateDescription for epo_cleaned_df is 'United States'\n",
    "emission_cleaned_df = emission_cleaned_df[\n",
    "    ~emission_cleaned_df['stateDescription'].isin(['United States'])\n",
    "]"
   ]
  },
  {
   "cell_type": "code",
   "execution_count": 30,
   "id": "de068a00",
   "metadata": {},
   "outputs": [],
   "source": [
    "# Bin the 'stateDescription' using the same region lists defined in the epo section\n",
    "emission_cleaned_df = category_bin(emission_cleaned_df, 'stateDescription', west_reg, 'West Region')\n",
    "emission_cleaned_df = category_bin(emission_cleaned_df, 'stateDescription', southwest_reg, 'Southwest Region')\n",
    "emission_cleaned_df = category_bin(emission_cleaned_df, 'stateDescription', midwest_reg, 'Midwest Region')\n",
    "emission_cleaned_df = category_bin(emission_cleaned_df, 'stateDescription', southeast_reg, 'Southeast Region')\n",
    "emission_cleaned_df = category_bin(emission_cleaned_df, 'stateDescription', northeast_reg, 'Northeast Region')"
   ]
  },
  {
   "cell_type": "code",
   "execution_count": 31,
   "id": "226e912a",
   "metadata": {},
   "outputs": [
    {
     "data": {
      "text/plain": [
       "stateDescription\n",
       "Southeast Region    660\n",
       "Midwest Region      652\n",
       "Northeast Region    611\n",
       "West Region         592\n",
       "Southwest Region    220\n",
       "Name: count, dtype: int64"
      ]
     },
     "execution_count": 31,
     "metadata": {},
     "output_type": "execute_result"
    }
   ],
   "source": [
    "# Check the binning\n",
    "emission_cleaned_df['stateDescription'].value_counts()"
   ]
  },
  {
   "cell_type": "code",
   "execution_count": 32,
   "id": "bbfdfb1c",
   "metadata": {},
   "outputs": [
    {
     "name": "stderr",
     "output_type": "stream",
     "text": [
      "C:\\Users\\khang\\AppData\\Local\\Temp\\ipykernel_25640\\2673199919.py:31: FutureWarning: Setting an item of incompatible dtype is deprecated and will raise in a future error of pandas. Value 'fossil fuels' has dtype incompatible with float64, please explicitly cast to a compatible dtype first.\n",
      "  tmp_df.loc[tmp_df[check_col] == item, new_col] = bin_name\n"
     ]
    }
   ],
   "source": [
    "# Create bins based on fuel type description into 'Fossil Fuels', 'Renewables', and 'Others' for emission_cleaned_df under\n",
    "# energySource\n",
    "emission_ff_source = ['Petroleum', 'Natural Gas', 'Coal']\n",
    "emission_renew_source = ['Total']\n",
    "emission_oth_source = ['Other']\n",
    "\n",
    "emission_cleaned_df = category_bin(emission_cleaned_df, 'fuelDescription', emission_ff_source, 'fossil fuels', 'energySource')\n",
    "emission_cleaned_df = category_bin(emission_cleaned_df, 'fuelDescription', emission_renew_source, 'renewables', 'energySource')\n",
    "emission_cleaned_df = category_bin(emission_cleaned_df, 'fuelDescription', emission_oth_source, 'others', 'energySource')\n",
    "\n",
    "# Drop the 'fuelDescription' as we no longer needing it\n",
    "emission_cleaned_df = emission_cleaned_df.drop(['fuelDescription'], axis = 1)"
   ]
  },
  {
   "cell_type": "code",
   "execution_count": 33,
   "id": "49bf3975",
   "metadata": {},
   "outputs": [
    {
     "data": {
      "text/plain": [
       "energySource\n",
       "fossil fuels    1624\n",
       "renewables       561\n",
       "others           550\n",
       "Name: count, dtype: int64"
      ]
     },
     "execution_count": 33,
     "metadata": {},
     "output_type": "execute_result"
    }
   ],
   "source": [
    "# Check the value_counts() again to make sure binning was done correctly\n",
    "emission_cleaned_df['energySource'].value_counts()"
   ]
  },
  {
   "cell_type": "code",
   "execution_count": 34,
   "id": "d3af61bf",
   "metadata": {},
   "outputs": [],
   "source": [
    "# Fill in NaN columns as 0 then set these columns as float\n",
    "# 'co2-thousand-metric-tons', 'nox-short-tons', 'so2-short-tons'\n",
    "emission_cols = ['co2-thousand-metric-tons', 'nox-short-tons', 'so2-short-tons']\n",
    "\n",
    "for col in emission_cols:\n",
    "    emission_cleaned_df = fix_nan(emission_cleaned_df, emission_cols)"
   ]
  },
  {
   "cell_type": "code",
   "execution_count": 35,
   "id": "c26a153c",
   "metadata": {},
   "outputs": [
    {
     "data": {
      "text/plain": [
       "Index(['period', 'stateDescription', 'co2-thousand-metric-tons',\n",
       "       'nox-short-tons', 'so2-short-tons', 'co2-thousand-metric-tons-units',\n",
       "       'nox-short-tons-units', 'so2-short-tons-units', 'energySource'],\n",
       "      dtype='object')"
      ]
     },
     "execution_count": 35,
     "metadata": {},
     "output_type": "execute_result"
    }
   ],
   "source": [
    "# Print out the columns\n",
    "emission_cleaned_df.columns"
   ]
  },
  {
   "cell_type": "code",
   "execution_count": 36,
   "id": "8a984be4",
   "metadata": {},
   "outputs": [],
   "source": [
    "# Convert the period column to DateTime format\n",
    "emission_cleaned_df['period'] = pd.to_datetime(emission_cleaned_df['period'], format='%Y')"
   ]
  },
  {
   "cell_type": "code",
   "execution_count": 37,
   "id": "0f0659eb",
   "metadata": {},
   "outputs": [
    {
     "data": {
      "text/html": [
       "<div>\n",
       "<style scoped>\n",
       "    .dataframe tbody tr th:only-of-type {\n",
       "        vertical-align: middle;\n",
       "    }\n",
       "\n",
       "    .dataframe tbody tr th {\n",
       "        vertical-align: top;\n",
       "    }\n",
       "\n",
       "    .dataframe thead th {\n",
       "        text-align: right;\n",
       "    }\n",
       "</style>\n",
       "<table border=\"1\" class=\"dataframe\">\n",
       "  <thead>\n",
       "    <tr style=\"text-align: right;\">\n",
       "      <th></th>\n",
       "      <th>period</th>\n",
       "      <th>stateDescription</th>\n",
       "      <th>co2-thousand-metric-tons-units</th>\n",
       "      <th>nox-short-tons-units</th>\n",
       "      <th>so2-short-tons-units</th>\n",
       "      <th>energySource</th>\n",
       "      <th>co2-thousand-metric-tons</th>\n",
       "      <th>nox-short-tons</th>\n",
       "      <th>so2-short-tons</th>\n",
       "    </tr>\n",
       "  </thead>\n",
       "  <tbody>\n",
       "    <tr>\n",
       "      <th>0</th>\n",
       "      <td>2012-01-01</td>\n",
       "      <td>Midwest Region</td>\n",
       "      <td>thousand metric tons</td>\n",
       "      <td>short tons</td>\n",
       "      <td>short tons</td>\n",
       "      <td>fossil fuels</td>\n",
       "      <td>634744.0</td>\n",
       "      <td>644925.0</td>\n",
       "      <td>1677127.0</td>\n",
       "    </tr>\n",
       "    <tr>\n",
       "      <th>1</th>\n",
       "      <td>2012-01-01</td>\n",
       "      <td>Midwest Region</td>\n",
       "      <td>thousand metric tons</td>\n",
       "      <td>short tons</td>\n",
       "      <td>short tons</td>\n",
       "      <td>others</td>\n",
       "      <td>1703.0</td>\n",
       "      <td>61853.0</td>\n",
       "      <td>23587.0</td>\n",
       "    </tr>\n",
       "    <tr>\n",
       "      <th>2</th>\n",
       "      <td>2012-01-01</td>\n",
       "      <td>Midwest Region</td>\n",
       "      <td>thousand metric tons</td>\n",
       "      <td>short tons</td>\n",
       "      <td>short tons</td>\n",
       "      <td>renewables</td>\n",
       "      <td>636449.0</td>\n",
       "      <td>706778.0</td>\n",
       "      <td>1700714.0</td>\n",
       "    </tr>\n",
       "    <tr>\n",
       "      <th>3</th>\n",
       "      <td>2012-01-01</td>\n",
       "      <td>Northeast Region</td>\n",
       "      <td>thousand metric tons</td>\n",
       "      <td>short tons</td>\n",
       "      <td>short tons</td>\n",
       "      <td>fossil fuels</td>\n",
       "      <td>214554.0</td>\n",
       "      <td>209167.0</td>\n",
       "      <td>360508.0</td>\n",
       "    </tr>\n",
       "    <tr>\n",
       "      <th>4</th>\n",
       "      <td>2012-01-01</td>\n",
       "      <td>Northeast Region</td>\n",
       "      <td>thousand metric tons</td>\n",
       "      <td>short tons</td>\n",
       "      <td>short tons</td>\n",
       "      <td>others</td>\n",
       "      <td>7740.0</td>\n",
       "      <td>67017.0</td>\n",
       "      <td>25847.0</td>\n",
       "    </tr>\n",
       "  </tbody>\n",
       "</table>\n",
       "</div>"
      ],
      "text/plain": [
       "      period  stateDescription co2-thousand-metric-tons-units  \\\n",
       "0 2012-01-01    Midwest Region           thousand metric tons   \n",
       "1 2012-01-01    Midwest Region           thousand metric tons   \n",
       "2 2012-01-01    Midwest Region           thousand metric tons   \n",
       "3 2012-01-01  Northeast Region           thousand metric tons   \n",
       "4 2012-01-01  Northeast Region           thousand metric tons   \n",
       "\n",
       "  nox-short-tons-units so2-short-tons-units  energySource  \\\n",
       "0           short tons           short tons  fossil fuels   \n",
       "1           short tons           short tons        others   \n",
       "2           short tons           short tons    renewables   \n",
       "3           short tons           short tons  fossil fuels   \n",
       "4           short tons           short tons        others   \n",
       "\n",
       "   co2-thousand-metric-tons  nox-short-tons  so2-short-tons  \n",
       "0                  634744.0        644925.0       1677127.0  \n",
       "1                    1703.0         61853.0         23587.0  \n",
       "2                  636449.0        706778.0       1700714.0  \n",
       "3                  214554.0        209167.0        360508.0  \n",
       "4                    7740.0         67017.0         25847.0  "
      ]
     },
     "metadata": {},
     "output_type": "display_data"
    },
    {
     "name": "stdout",
     "output_type": "stream",
     "text": [
      "emission's shape: (165, 9)\n"
     ]
    }
   ],
   "source": [
    "# Using groupby() and sum() functions to merge matching rows based on 'period', 'stateDescription', 'energySource', and \n",
    "# 'fuelTypeDescription' then round to the nearest 2. Note to also group the UOM columns as well.\n",
    "emission_group_by = [\n",
    "    'period', 'stateDescription', 'co2-thousand-metric-tons-units', \n",
    "    'nox-short-tons-units', 'so2-short-tons-units', 'energySource'\n",
    "]\n",
    "\n",
    "emission_cleaned_df = emission_cleaned_df.groupby(emission_group_by).agg('sum').round(2).reset_index()\n",
    "display(emission_cleaned_df.head())\n",
    "print('emission\\'s shape:', emission_cleaned_df.shape)"
   ]
  },
  {
   "cell_type": "code",
   "execution_count": 38,
   "id": "e761f49e",
   "metadata": {},
   "outputs": [
    {
     "data": {
      "text/plain": [
       "period                            datetime64[ns]\n",
       "stateDescription                          object\n",
       "co2-thousand-metric-tons-units            object\n",
       "nox-short-tons-units                      object\n",
       "so2-short-tons-units                      object\n",
       "energySource                              object\n",
       "co2-thousand-metric-tons                 float64\n",
       "nox-short-tons                           float64\n",
       "so2-short-tons                           float64\n",
       "dtype: object"
      ]
     },
     "execution_count": 38,
     "metadata": {},
     "output_type": "execute_result"
    }
   ],
   "source": [
    "# Check the column types\n",
    "emission_cleaned_df.dtypes"
   ]
  },
  {
   "cell_type": "code",
   "execution_count": 39,
   "id": "645a7696",
   "metadata": {},
   "outputs": [
    {
     "data": {
      "text/plain": [
       "Index(['period', 'region', 'co2-thousand-metric-tons-units',\n",
       "       'nox-short-tons-units', 'so2-short-tons-units', 'energySource',\n",
       "       'co2-thousand-metric-tons', 'nox-short-tons', 'so2-short-tons'],\n",
       "      dtype='object')"
      ]
     },
     "execution_count": 39,
     "metadata": {},
     "output_type": "execute_result"
    }
   ],
   "source": [
    "# Rename the stateDescription to region to correctly reflect the column category\n",
    "emission_cleaned_df.rename(columns = {'stateDescription': 'region'}, inplace = True)\n",
    "emission_cleaned_df.columns"
   ]
  },
  {
   "cell_type": "code",
   "execution_count": 40,
   "id": "05b812ca",
   "metadata": {},
   "outputs": [],
   "source": [
    "# Rearrange the energySource\n",
    "emission_cleaned_df = emission_cleaned_df[[\n",
    "    'period', 'region', 'energySource',\n",
    "    'co2-thousand-metric-tons', 'nox-short-tons', 'so2-short-tons',\n",
    "    'co2-thousand-metric-tons-units', 'nox-short-tons-units',\n",
    "    'so2-short-tons-units'\n",
    "]]\n",
    "\n",
    "# Export the cleanned DataFrame for epo_cleaned_df into csv\n",
    "emission_cleaned_df.to_csv('../static/data/emission_2012_2022_cleaned.csv', index = False)"
   ]
  },
  {
   "cell_type": "markdown",
   "id": "223e28fc",
   "metadata": {},
   "source": [
    "### Database Storing\n",
    "---"
   ]
  },
  {
   "cell_type": "code",
   "execution_count": 41,
   "id": "21d18e47",
   "metadata": {},
   "outputs": [],
   "source": [
    "# Import dependencies for handling the database\n",
    "from os import path, remove\n",
    "from sqlalchemy import create_engine, text\n",
    "from sqlalchemy.orm import Session"
   ]
  },
  {
   "cell_type": "code",
   "execution_count": 42,
   "id": "a3158788",
   "metadata": {},
   "outputs": [],
   "source": [
    "# Setup the db path\n",
    "db_path = '../static/data/eia_electric.sqlite'\n",
    "\n",
    "# Delete the existing database if it exists\n",
    "if path.exists(db_path):\n",
    "    remove(db_path)"
   ]
  },
  {
   "cell_type": "code",
   "execution_count": 43,
   "id": "ab817da3",
   "metadata": {},
   "outputs": [],
   "source": [
    "# Setup the engine and connect the database\n",
    "engine = create_engine(f'sqlite:///{db_path}')\n",
    "conn = engine.connect()"
   ]
  },
  {
   "cell_type": "code",
   "execution_count": 44,
   "id": "fce7b675",
   "metadata": {},
   "outputs": [],
   "source": [
    "# Create session for querying later to verify tables have been created correctly\n",
    "session = Session(bind = engine)"
   ]
  },
  {
   "cell_type": "code",
   "execution_count": 45,
   "id": "35ce5cdf",
   "metadata": {},
   "outputs": [
    {
     "data": {
      "text/plain": [
       "1995"
      ]
     },
     "execution_count": 45,
     "metadata": {},
     "output_type": "execute_result"
    }
   ],
   "source": [
    "# Append the epo_cleaned_df to the database created\n",
    "epo_cleaned_df.to_sql(name = 'epo', con = engine, if_exists = 'replace', index = False)"
   ]
  },
  {
   "cell_type": "code",
   "execution_count": 46,
   "id": "4282ad5e",
   "metadata": {},
   "outputs": [
    {
     "data": {
      "text/plain": [
       "('2012-01-01 00:00:00.000000', 'Midwest Region', 'fossil fuels', 'bituminous coal', 182.72, 'percent', 120401.56, 'thousand short tons', 2833.32, 'million MMBtu', 3966.74, 'thousand short tons', 89.48, 'million MMBtu', 0.0, 'dollars per short tons', 0.0, 'dollars per million Btu', 274192.77, 'thousand megawatthours', 567.15, 'Btu per short tons', 120079.43, 'thousand short tons', 2884577.58, 'billion Btu', 0.0, 'thousand short tons', 44.36, 'percent', 124368.3, 'thousand short tons', 2922.8, 'million MMBtu')"
      ]
     },
     "execution_count": 46,
     "metadata": {},
     "output_type": "execute_result"
    }
   ],
   "source": [
    "session.execute(text('SELECT * from epo')).fetchone()"
   ]
  },
  {
   "cell_type": "code",
   "execution_count": 47,
   "id": "6e05972f",
   "metadata": {},
   "outputs": [
    {
     "data": {
      "text/plain": [
       "165"
      ]
     },
     "execution_count": 47,
     "metadata": {},
     "output_type": "execute_result"
    }
   ],
   "source": [
    "# Append the emission_cleaned_df to the database created\n",
    "emission_cleaned_df.to_sql(name = 'emission', con = engine, if_exists = 'replace', index = False)"
   ]
  },
  {
   "cell_type": "code",
   "execution_count": 48,
   "id": "775985e9",
   "metadata": {},
   "outputs": [
    {
     "data": {
      "text/plain": [
       "('2012-01-01 00:00:00.000000', 'Midwest Region', 'fossil fuels', 634744.0, 644925.0, 1677127.0, 'thousand metric tons', 'short tons', 'short tons')"
      ]
     },
     "execution_count": 48,
     "metadata": {},
     "output_type": "execute_result"
    }
   ],
   "source": [
    "session.execute(text('SELECT * from emission')).fetchone()"
   ]
  },
  {
   "cell_type": "code",
   "execution_count": 49,
   "id": "4f7c7429",
   "metadata": {},
   "outputs": [],
   "source": [
    "# Close out of the session and engine\n",
    "session.close()\n",
    "engine.dispose()"
   ]
  },
  {
   "cell_type": "code",
   "execution_count": null,
   "id": "c3191910",
   "metadata": {},
   "outputs": [],
   "source": []
  }
 ],
 "metadata": {
  "kernelspec": {
   "display_name": "Python 3 (ipykernel)",
   "language": "python",
   "name": "python3"
  },
  "language_info": {
   "codemirror_mode": {
    "name": "ipython",
    "version": 3
   },
   "file_extension": ".py",
   "mimetype": "text/x-python",
   "name": "python",
   "nbconvert_exporter": "python",
   "pygments_lexer": "ipython3",
   "version": "3.11.5"
  }
 },
 "nbformat": 4,
 "nbformat_minor": 5
}
